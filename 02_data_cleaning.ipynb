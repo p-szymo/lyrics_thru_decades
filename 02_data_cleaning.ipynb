{
 "cells": [
  {
   "cell_type": "markdown",
   "metadata": {},
   "source": [
    "# <ins>Song Lyrics Through the Years</ins>\n",
    "\n",
    "# Data Cleaning\n",
    "\n",
    "- In this notebook, I look at the data I scraped from [Top 40 Weekly](https://top40weekly.com/) and [Genius](https://genius.com) in the previous [notebook](01_webscraping.ipynb).\n",
    "- I check for and rectify duplicate (or near-duplicate) entries, NaN values, and songs that need to be rescraped.\n",
    "\n",
    "\n",
    "## Table of contents\n",
    "\n",
    "1. [Load packages and data](#Load-packages-and-data)\n",
    "2. [More rescraping](#More-rescraping)\n",
    "3. [Create decade column (target variable)](#Create-decade-column-(target-variable))\n",
    "4. [Drop NaNs](#Drop-NaNs)\n",
    "5. [Remove words preceding a colon](#Remove-words-preceding-a-colon)\n",
    "6. [Make title, artist, and lyrics lowercase](#Make-title,-artist,-and-lyrics-lowercase)\n",
    "7. [Create list of lines](#Create-list-of-lines)\n",
    "8. [Create lyrics string without artist(s) name(s) included](#Create-lyrics-string-without-artist(s)-name(s)-included)\n",
    "9. [💾 Save/Load 💾](#💾-Save/Load-💾)\n",
    "10. [Things to consider for EDA notebook](#Things-to-consider-for-EDA-notebook)\n",
    "11. [Next notebook: NLP, Feature Engineering, and EDA](#Next-notebook:-NLP,-Feature-Engineering,-and-EDA)\n",
    "\n",
    "    \n",
    "## Load packages and data\n",
    "\n",
    "[[go back to the top](#Song-Lyrics-Through-the-Years)]"
   ]
  },
  {
   "cell_type": "code",
   "execution_count": 1,
   "metadata": {},
   "outputs": [],
   "source": [
    "# custom functions for webscraping\n",
    "from functions.webscraping import *\n",
    "\n",
    "# standard dataframe packages\n",
    "import pandas as pd\n",
    "import numpy as np\n",
    "\n",
    "# graphing packages\n",
    "import matplotlib.pyplot as plt\n",
    "import seaborn as sns; sns.set_style('ticks')\n",
    "\n",
    "# text processing\n",
    "from nltk.corpus import stopwords\n",
    "\n",
    "# timekeeping/progress packages\n",
    "import time\n",
    "from tqdm import tqdm\n",
    "\n",
    "# saving/loading packages\n",
    "import gzip\n",
    "import pickle\n",
    "import json\n",
    "\n",
    "# reload functions/libraries when edited\n",
    "%load_ext autoreload\n",
    "%autoreload 2\n",
    "\n",
    "# ignore warnings\n",
    "import warnings\n",
    "warnings.filterwarnings('ignore')\n",
    "\n",
    "# increase column width of dataframe\n",
    "pd.set_option('max_colwidth', 150)"
   ]
  },
  {
   "cell_type": "code",
   "execution_count": 2,
   "metadata": {},
   "outputs": [],
   "source": [
    "# load data\n",
    "with gzip.open('data/lyrics_df_updated.pkl', 'rb') as hello:\n",
    "    df = pickle.load(hello)"
   ]
  },
  {
   "cell_type": "code",
   "execution_count": 3,
   "metadata": {},
   "outputs": [
    {
     "data": {
      "text/html": [
       "<div>\n",
       "<style scoped>\n",
       "    .dataframe tbody tr th:only-of-type {\n",
       "        vertical-align: middle;\n",
       "    }\n",
       "\n",
       "    .dataframe tbody tr th {\n",
       "        vertical-align: top;\n",
       "    }\n",
       "\n",
       "    .dataframe thead th {\n",
       "        text-align: right;\n",
       "    }\n",
       "</style>\n",
       "<table border=\"1\" class=\"dataframe\">\n",
       "  <thead>\n",
       "    <tr style=\"text-align: right;\">\n",
       "      <th></th>\n",
       "      <th>year</th>\n",
       "      <th>title</th>\n",
       "      <th>artist</th>\n",
       "      <th>lyrics</th>\n",
       "    </tr>\n",
       "  </thead>\n",
       "  <tbody>\n",
       "    <tr>\n",
       "      <th>0</th>\n",
       "      <td>1960</td>\n",
       "      <td>THE VILLAGE OF ST. BERNADETTE</td>\n",
       "      <td>Andy Williams</td>\n",
       "      <td>I've traveled far, the land and the sea\\nBeautiful places I happened to be\\nOne little town I'll never forget\\nIs Lourdes, the village of St. Bern...</td>\n",
       "    </tr>\n",
       "    <tr>\n",
       "      <th>1</th>\n",
       "      <td>1960</td>\n",
       "      <td>IN MY LITTLE CORNER OF THE WORLD</td>\n",
       "      <td>Anita Bryant</td>\n",
       "      <td>Oh, come along with me\\nTo my little corner of the world\\nAnd dream a little dream\\nIn my little corner of the world\\n\\nTonight, my love\\nWe'll sh...</td>\n",
       "    </tr>\n",
       "    <tr>\n",
       "      <th>2</th>\n",
       "      <td>1960</td>\n",
       "      <td>PAPER ROSES</td>\n",
       "      <td>Anita Bryant</td>\n",
       "      <td>I realize the way your eyes deceived me\\nWith tender looks that I mistook for love\\nSo take away the flowers that you gave me\\nAnd send the kind t...</td>\n",
       "    </tr>\n",
       "    <tr>\n",
       "      <th>3</th>\n",
       "      <td>1960</td>\n",
       "      <td>O DIO MIO</td>\n",
       "      <td>Annette</td>\n",
       "      <td>E un giorno lui mi disse: \"Nei tuoi occhi vedo fame\\nNon vedo rabbia, figlio, no\\nMa voglia di lottare.\"\\nDivisi il cibo nel mio piatto col rivale...</td>\n",
       "    </tr>\n",
       "    <tr>\n",
       "      <th>4</th>\n",
       "      <td>1960</td>\n",
       "      <td>WONDERLAND BY NIGHT</td>\n",
       "      <td>Bert Kaempfert</td>\n",
       "      <td>Stars hang suspended\\nAbove a floating yellow moon\\nTwo hearts were blended\\nWhile angels sang a lover's tune\\n\\nAnd so we kissed\\nNot knowing if ...</td>\n",
       "    </tr>\n",
       "  </tbody>\n",
       "</table>\n",
       "</div>"
      ],
      "text/plain": [
       "   year                             title          artist  \\\n",
       "0  1960     THE VILLAGE OF ST. BERNADETTE   Andy Williams   \n",
       "1  1960  IN MY LITTLE CORNER OF THE WORLD    Anita Bryant   \n",
       "2  1960                       PAPER ROSES    Anita Bryant   \n",
       "3  1960                         O DIO MIO         Annette   \n",
       "4  1960               WONDERLAND BY NIGHT  Bert Kaempfert   \n",
       "\n",
       "                                                                                                                                                  lyrics  \n",
       "0  I've traveled far, the land and the sea\\nBeautiful places I happened to be\\nOne little town I'll never forget\\nIs Lourdes, the village of St. Bern...  \n",
       "1  Oh, come along with me\\nTo my little corner of the world\\nAnd dream a little dream\\nIn my little corner of the world\\n\\nTonight, my love\\nWe'll sh...  \n",
       "2  I realize the way your eyes deceived me\\nWith tender looks that I mistook for love\\nSo take away the flowers that you gave me\\nAnd send the kind t...  \n",
       "3  E un giorno lui mi disse: \"Nei tuoi occhi vedo fame\\nNon vedo rabbia, figlio, no\\nMa voglia di lottare.\"\\nDivisi il cibo nel mio piatto col rivale...  \n",
       "4  Stars hang suspended\\nAbove a floating yellow moon\\nTwo hearts were blended\\nWhile angels sang a lover's tune\\n\\nAnd so we kissed\\nNot knowing if ...  "
      ]
     },
     "execution_count": 3,
     "metadata": {},
     "output_type": "execute_result"
    }
   ],
   "source": [
    "df.head()"
   ]
  },
  {
   "cell_type": "markdown",
   "metadata": {},
   "source": [
    "## More rescraping\n",
    "\n",
    "[[go back to the top](#Song-Lyrics-Through-the-Years)]\n",
    "\n",
    "- This follows up on work detailed in the previous [notebook](01_webscraping.ipynb)."
   ]
  },
  {
   "cell_type": "code",
   "execution_count": 4,
   "metadata": {},
   "outputs": [],
   "source": [
    "# parse personal api keys\n",
    "with open('data/api_keys.json', 'r') as json_file:\n",
    "    creds = json.load(json_file)\n",
    "\n",
    "# set the credentials based on the credentials file\n",
    "client_id = creds['client_id']\n",
    "client_secret = creds['client_secret']\n",
    "access_token = creds['access_token']"
   ]
  },
  {
   "cell_type": "code",
   "execution_count": 5,
   "metadata": {},
   "outputs": [],
   "source": [
    "# featuring rescrapes\n",
    "to_be_rescraped = [3537, 3600, 3837, 3909, 4024, 4043, 4230, 4270, 4310,\n",
    "                   4488, 4525, 4560, 4580, 4623, 4686, 4691]\n",
    "\n",
    "for ind in to_be_rescraped:\n",
    "    df.loc[ind, 'lyrics'] = featuring(df, ind, access_token)"
   ]
  },
  {
   "cell_type": "code",
   "execution_count": 6,
   "metadata": {},
   "outputs": [],
   "source": [
    "# rescrape\n",
    "df.loc[155, 'lyrics'] = lyrics_grabber(access_token, 'wooden heart joe')\n",
    "df.loc[356, 'lyrics'] = lyrics_grabber(access_token, 'i will follow him peggy')\n",
    "df.loc[580, 'lyrics'] = lyrics_grabber(access_token, 'treat her right roy')\n",
    "df.loc[586, 'lyrics'] = lyrics_grabber(access_token, 'sound of silence simon')\n",
    "df.loc[1201, 'lyrics'] = lyrics_grabber(access_token, 'american pie don')\n",
    "df.loc[1205, 'lyrics'] = lyrics_grabber(access_token, 'sweet and innocent donny')\n",
    "df.loc[1222, 'lyrics'] = lyrics_grabber(access_token, 'take me home john denver')\n",
    "df.loc[1435, 'lyrics'] = lyrics_grabber(access_token, 'my love wings')\n",
    "df.loc[1521, 'lyrics'] = lyrics_grabber(access_token, 'imagination gladys')\n",
    "df.loc[1522, 'lyrics'] = lyrics_grabber(access_token, 'on and on gladys')\n",
    "df.loc[1868, 'lyrics'] = lyrics_grabber(access_token, 'easy commodores')\n",
    "df.loc[2110, 'lyrics'] = lyrics_grabber(access_token, \"yes i'm ready teri\")\n",
    "df.loc[2117, 'lyrics'] = lyrics_grabber(access_token, 'take your time sos')\n",
    "df.loc[2147, 'lyrics'] = lyrics_grabber(access_token, \"i can't stand it eric clapton\")\n",
    "df.loc[2343, 'lyrics'] = lyrics_grabber(access_token, 'chain gang pretenders')\n",
    "df.loc[2379, 'lyrics'] = lyrics_grabber(access_token, 'on the dark side john cafferty')\n",
    "df.loc[3425, 'lyrics'] = lyrics_grabber(access_token, 'scream michael')\n",
    "df.loc[3501, 'lyrics'] = lyrics_grabber(access_token, 'let it flow toni')\n",
    "df.loc[3596, 'lyrics'] = lyrics_grabber(access_token, 'what you want ma$e')\n",
    "df.loc[3830, 'lyrics'] = lyrics_grabber(access_token, 'move ludacris')"
   ]
  },
  {
   "cell_type": "code",
   "execution_count": 7,
   "metadata": {},
   "outputs": [],
   "source": [
    "# rescrape 'Carpenters' songs without 'The' (which was causing issues), update artist name\n",
    "for i in df[df.artist == 'The Carpenters'].index:\n",
    "    df.loc[i, 'artist'] = 'Carpenters'\n",
    "    try:\n",
    "        df.loc[i, 'lyrics'] = lyrics_grabber(access_token, df.loc[i, 'artist'] + df.loc[i, 'title'])\n",
    "    except:\n",
    "        # allows for issue with song that was already correctly scraped\n",
    "        continue"
   ]
  },
  {
   "cell_type": "code",
   "execution_count": 8,
   "metadata": {},
   "outputs": [],
   "source": [
    "# remove lines\n",
    "df.loc[71, 'lyrics'] = remove_n_lines(df.loc[71, 'lyrics'], 0, end_n=1)\n",
    "df.loc[165, 'lyrics'] = remove_n_lines(df.loc[165, 'lyrics'], 4)\n",
    "df.loc[661, 'lyrics'] = remove_n_lines(df.loc[661, 'lyrics'], 4)\n",
    "df.loc[782, 'lyrics'] = remove_n_lines(df.loc[782, 'lyrics'], 1)\n",
    "df.loc[846, 'lyrics'] = remove_n_lines(df.loc[846, 'lyrics'], 6)\n",
    "df.loc[862, 'lyrics'] = remove_n_lines(df.loc[862, 'lyrics'], 7)\n",
    "df.loc[1093, 'lyrics'] = remove_n_lines(df.loc[1093, 'lyrics'], 3)"
   ]
  },
  {
   "cell_type": "code",
   "execution_count": 9,
   "metadata": {},
   "outputs": [],
   "source": [
    "# instrumentals\n",
    "df.loc[5, 'lyrics'] = np.nan\n",
    "df.loc[754, 'lyrics'] = np.nan\n",
    "df.loc[917, 'lyrics'] = np.nan\n",
    "df.loc[1200, 'lyrics'] = np.nan\n",
    "df.loc[1402, 'lyrics'] = np.nan\n",
    "df.loc[3713, 'lyrics'] = np.nan"
   ]
  },
  {
   "cell_type": "code",
   "execution_count": 10,
   "metadata": {},
   "outputs": [],
   "source": [
    "# remove brackets and words contained within\n",
    "df['lyrics'] = df.lyrics.map(remove_brackets)"
   ]
  },
  {
   "cell_type": "markdown",
   "metadata": {},
   "source": [
    "## Create decade column (target variable)\n",
    "\n",
    "[[go back to the top](#Song-Lyrics-Through-the-Years)]"
   ]
  },
  {
   "cell_type": "code",
   "execution_count": 11,
   "metadata": {},
   "outputs": [
    {
     "data": {
      "text/html": [
       "<div>\n",
       "<style scoped>\n",
       "    .dataframe tbody tr th:only-of-type {\n",
       "        vertical-align: middle;\n",
       "    }\n",
       "\n",
       "    .dataframe tbody tr th {\n",
       "        vertical-align: top;\n",
       "    }\n",
       "\n",
       "    .dataframe thead th {\n",
       "        text-align: right;\n",
       "    }\n",
       "</style>\n",
       "<table border=\"1\" class=\"dataframe\">\n",
       "  <thead>\n",
       "    <tr style=\"text-align: right;\">\n",
       "      <th></th>\n",
       "      <th>year</th>\n",
       "      <th>decade</th>\n",
       "      <th>title</th>\n",
       "      <th>artist</th>\n",
       "      <th>lyrics</th>\n",
       "    </tr>\n",
       "  </thead>\n",
       "  <tbody>\n",
       "    <tr>\n",
       "      <th>4752</th>\n",
       "      <td>2019</td>\n",
       "      <td>2010s</td>\n",
       "      <td>YOU NEED TO CALM DOWN</td>\n",
       "      <td>Taylor Swift</td>\n",
       "      <td>You are somebody that I don't know\\nBut you're takin' shots at me like it's Patrón\\nAnd I'm just like, damn, it's 7 AM\\nSay it in the street, that...</td>\n",
       "    </tr>\n",
       "    <tr>\n",
       "      <th>4753</th>\n",
       "      <td>2019</td>\n",
       "      <td>2010s</td>\n",
       "      <td>ME!</td>\n",
       "      <td>Taylor Swift featuring Brendon Urie</td>\n",
       "      <td>I promise that you'll never find another like me\\n\\n\\nI know that I'm a handful, baby, uh\\nI know I never think before I jump\\nAnd you're the kind...</td>\n",
       "    </tr>\n",
       "    <tr>\n",
       "      <th>4754</th>\n",
       "      <td>2019</td>\n",
       "      <td>2010s</td>\n",
       "      <td>HEARTLESS</td>\n",
       "      <td>The Weeknd</td>\n",
       "      <td>Young Metro, young Metro, young Metro (Sheesh)\\nAyy (Ayy)\\nYoung Metro, young Metro\\n\\n\\nNever need a bitch, I'm what a bitch need (Bitch need)\\nT...</td>\n",
       "    </tr>\n",
       "    <tr>\n",
       "      <th>4755</th>\n",
       "      <td>2019</td>\n",
       "      <td>2010s</td>\n",
       "      <td>DANCE MONKEY</td>\n",
       "      <td>Tones and I</td>\n",
       "      <td>They say, \"Oh my God, I see the way you shine\\nTake your hands, my dear, and place them both in mine\"\\nYou know you stopped me dead while I was pa...</td>\n",
       "    </tr>\n",
       "    <tr>\n",
       "      <th>4756</th>\n",
       "      <td>2019</td>\n",
       "      <td>2010s</td>\n",
       "      <td>HIGHEST IN THE ROOM</td>\n",
       "      <td>Travis Scott</td>\n",
       "      <td>I got room in my fumes (Yeah)\\nShe fill my mind up with ideas\\nI'm the highest in the room (It’s lit)\\nHope I make it outta here (Let's go)\\n\\n\\nS...</td>\n",
       "    </tr>\n",
       "  </tbody>\n",
       "</table>\n",
       "</div>"
      ],
      "text/plain": [
       "      year decade                  title                               artist  \\\n",
       "4752  2019  2010s  YOU NEED TO CALM DOWN                         Taylor Swift   \n",
       "4753  2019  2010s                    ME!  Taylor Swift featuring Brendon Urie   \n",
       "4754  2019  2010s              HEARTLESS                           The Weeknd   \n",
       "4755  2019  2010s           DANCE MONKEY                          Tones and I   \n",
       "4756  2019  2010s    HIGHEST IN THE ROOM                         Travis Scott   \n",
       "\n",
       "                                                                                                                                                     lyrics  \n",
       "4752  You are somebody that I don't know\\nBut you're takin' shots at me like it's Patrón\\nAnd I'm just like, damn, it's 7 AM\\nSay it in the street, that...  \n",
       "4753  I promise that you'll never find another like me\\n\\n\\nI know that I'm a handful, baby, uh\\nI know I never think before I jump\\nAnd you're the kind...  \n",
       "4754  Young Metro, young Metro, young Metro (Sheesh)\\nAyy (Ayy)\\nYoung Metro, young Metro\\n\\n\\nNever need a bitch, I'm what a bitch need (Bitch need)\\nT...  \n",
       "4755  They say, \"Oh my God, I see the way you shine\\nTake your hands, my dear, and place them both in mine\"\\nYou know you stopped me dead while I was pa...  \n",
       "4756  I got room in my fumes (Yeah)\\nShe fill my mind up with ideas\\nI'm the highest in the room (It’s lit)\\nHope I make it outta here (Let's go)\\n\\n\\nS...  "
      ]
     },
     "execution_count": 11,
     "metadata": {},
     "output_type": "execute_result"
    }
   ],
   "source": [
    "# create column with decade label\n",
    "df['decade'] = df.year.map(lambda x: f'{str(x//10)}0s')\n",
    "\n",
    "# just for my own edification, i'll reorder the columns\n",
    "df = df[['year', 'decade', 'title', 'artist', 'lyrics']]\n",
    "\n",
    "# take a look\n",
    "df.tail()"
   ]
  },
  {
   "cell_type": "markdown",
   "metadata": {},
   "source": [
    "## Drop NaNs\n",
    "\n",
    "[[go back to the top](#Song-Lyrics-Through-the-Years)]\n",
    "\n",
    "- Most (if not all) NaN values should be for songs without lyrics, i.e. instrumental songs.\n",
    "- First, I'll take a look at how many instrumental songs made it into the Top 10 by year."
   ]
  },
  {
   "cell_type": "code",
   "execution_count": 12,
   "metadata": {},
   "outputs": [
    {
     "data": {
      "text/html": [
       "<div>\n",
       "<style scoped>\n",
       "    .dataframe tbody tr th:only-of-type {\n",
       "        vertical-align: middle;\n",
       "    }\n",
       "\n",
       "    .dataframe tbody tr th {\n",
       "        vertical-align: top;\n",
       "    }\n",
       "\n",
       "    .dataframe thead th {\n",
       "        text-align: right;\n",
       "    }\n",
       "</style>\n",
       "<table border=\"1\" class=\"dataframe\">\n",
       "  <thead>\n",
       "    <tr style=\"text-align: right;\">\n",
       "      <th></th>\n",
       "      <th>year</th>\n",
       "      <th>decade</th>\n",
       "      <th>title</th>\n",
       "      <th>artist</th>\n",
       "      <th>lyrics</th>\n",
       "    </tr>\n",
       "  </thead>\n",
       "  <tbody>\n",
       "    <tr>\n",
       "      <th>5</th>\n",
       "      <td>1960</td>\n",
       "      <td>1960s</td>\n",
       "      <td>WHITE SILVER SANDS</td>\n",
       "      <td>Bill Black’s Combo</td>\n",
       "      <td>NaN</td>\n",
       "    </tr>\n",
       "    <tr>\n",
       "      <th>38</th>\n",
       "      <td>1960</td>\n",
       "      <td>1960s</td>\n",
       "      <td>EXODUS</td>\n",
       "      <td>Ferrante and Teicher</td>\n",
       "      <td>NaN</td>\n",
       "    </tr>\n",
       "    <tr>\n",
       "      <th>39</th>\n",
       "      <td>1960</td>\n",
       "      <td>1960s</td>\n",
       "      <td>THEME FROM “THE APARTMENT”</td>\n",
       "      <td>Ferrante and Teicher</td>\n",
       "      <td>NaN</td>\n",
       "    </tr>\n",
       "    <tr>\n",
       "      <th>81</th>\n",
       "      <td>1960</td>\n",
       "      <td>1960s</td>\n",
       "      <td>THE THEME FROM “A SUMMER PLACE”</td>\n",
       "      <td>Percy Faith and His Orchestra</td>\n",
       "      <td>NaN</td>\n",
       "    </tr>\n",
       "    <tr>\n",
       "      <th>102</th>\n",
       "      <td>1960</td>\n",
       "      <td>1960s</td>\n",
       "      <td>WALK–DON’T RUN</td>\n",
       "      <td>The Ventures</td>\n",
       "      <td>NaN</td>\n",
       "    </tr>\n",
       "  </tbody>\n",
       "</table>\n",
       "</div>"
      ],
      "text/plain": [
       "     year decade                            title  \\\n",
       "5    1960  1960s               WHITE SILVER SANDS   \n",
       "38   1960  1960s                           EXODUS   \n",
       "39   1960  1960s       THEME FROM “THE APARTMENT”   \n",
       "81   1960  1960s  THE THEME FROM “A SUMMER PLACE”   \n",
       "102  1960  1960s                   WALK–DON’T RUN   \n",
       "\n",
       "                            artist lyrics  \n",
       "5               Bill Black’s Combo    NaN  \n",
       "38            Ferrante and Teicher    NaN  \n",
       "39            Ferrante and Teicher    NaN  \n",
       "81   Percy Faith and His Orchestra    NaN  \n",
       "102                   The Ventures    NaN  "
      ]
     },
     "execution_count": 12,
     "metadata": {},
     "output_type": "execute_result"
    }
   ],
   "source": [
    "# songs without lyrics\n",
    "instrumentals = df[df.lyrics.isnull()]\n",
    "\n",
    "# take a look\n",
    "instrumentals.head()"
   ]
  },
  {
   "cell_type": "code",
   "execution_count": 13,
   "metadata": {},
   "outputs": [
    {
     "data": {
      "image/png": "[encoded data removed]",
      "text/plain": [
       "<Figure size 720x432 with 1 Axes>"
      ]
     },
     "metadata": {
      "needs_background": "light"
     },
     "output_type": "display_data"
    }
   ],
   "source": [
    "# graph number of instrumental songs per year\n",
    "plt.figure(figsize=(10,6))\n",
    "sns.barplot(x=instrumentals.year.value_counts().sort_index().index, y=instrumentals.year.value_counts().sort_index())\n",
    "plt.title('Number of Instrumental Songs in\\nBillboard Top 10 per Year', fontsize=25, pad=15)\n",
    "plt.xlabel('Year', fontsize=20, labelpad=10)\n",
    "plt.ylabel('Number of Songs', fontsize=20, labelpad=10)\n",
    "plt.xticks(ticks=range(0,60,5), labels=range(1960,2021,5), fontsize=15)\n",
    "plt.yticks(fontsize=15)\n",
    "plt.show()"
   ]
  },
  {
   "cell_type": "code",
   "execution_count": 14,
   "metadata": {},
   "outputs": [
    {
     "data": {
      "image/png": "[encoded data removed]",
      "text/plain": [
       "<Figure size 720x432 with 1 Axes>"
      ]
     },
     "metadata": {
      "needs_background": "light"
     },
     "output_type": "display_data"
    }
   ],
   "source": [
    "# graph number of instrumental songs per year\n",
    "plt.figure(figsize=(10,6))\n",
    "sns.barplot(x=instrumentals.decade.value_counts().sort_index().index, y=instrumentals.decade.value_counts().sort_index())\n",
    "plt.title('Number of Instrumental Songs in\\nBillboard Top 10 per Decade', fontsize=25, pad=15)\n",
    "plt.xlabel('Decade', fontsize=20, labelpad=10)\n",
    "plt.ylabel('Number of Songs', fontsize=20, labelpad=10)\n",
    "# plt.xticks(ticks=range(0,60,5), labels=range(1960,2021,5), fontsize=15)\n",
    "plt.yticks(fontsize=15)\n",
    "plt.show()"
   ]
  },
  {
   "cell_type": "markdown",
   "metadata": {},
   "source": [
    "- The 1960s had a lot of instrumentals make it into the Top 10. This noticeably fell in the 1970s, then continued to decline into the 1980s, the decade in which instrumentals made their last appearance.\n",
    "- Now, I'll go ahead and drop these rows."
   ]
  },
  {
   "cell_type": "code",
   "execution_count": 15,
   "metadata": {},
   "outputs": [],
   "source": [
    "# drop instrumentals and reset index\n",
    "df_update = df.dropna().reset_index(drop=True)"
   ]
  },
  {
   "cell_type": "markdown",
   "metadata": {},
   "source": [
    "## Remove words preceding a colon\n",
    "\n",
    "[[go back to the top](#Song-Lyrics-Through-the-Years)]\n",
    "\n",
    "- I'll run a fairly targeted line transformer, designed to remove any lingering song structure (e.g. \"Verse\") delineations, as well as \"Spoken:\", and finally any speaker/singer (e.g. Lil Wayne:) delineations.\n",
    "- NOTE: There may be some collateral damage here, but by keeping `total_kill=False`, the adverse effects should be exceptionally minimal. Even if it is set to true, it would only remove up to 2 words (including digits) before the colon."
   ]
  },
  {
   "cell_type": "code",
   "execution_count": 16,
   "metadata": {},
   "outputs": [],
   "source": [
    "# remove words preceding colons if 1 or 2 words precede colon \n",
    "df_update['lyrics'] = df_update.lyrics.map(lambda x: colon_killer(x, split_on=':', total_kill=False))"
   ]
  },
  {
   "cell_type": "markdown",
   "metadata": {},
   "source": [
    "## Make title, artist, and lyrics lowercase\n",
    "\n",
    "[[go back to the top](#Song-Lyrics-Through-the-Years)]\n",
    "\n",
    "- This will help with text processing later on."
   ]
  },
  {
   "cell_type": "code",
   "execution_count": 17,
   "metadata": {},
   "outputs": [],
   "source": [
    "df_update['title'] = df_update.title.map(lambda x: x.lower())\n",
    "df_update['artist'] = df_update.artist.map(lambda x: x.lower())\n",
    "df_update['lyrics'] = df_update.lyrics.map(lambda x: x.lower())"
   ]
  },
  {
   "cell_type": "markdown",
   "metadata": {},
   "source": [
    "## Create list of lines\n",
    "\n",
    "[[go back to the top](#Song-Lyrics-Through-the-Years)]"
   ]
  },
  {
   "cell_type": "code",
   "execution_count": 18,
   "metadata": {
    "scrolled": true
   },
   "outputs": [
    {
     "data": {
      "text/html": [
       "<div>\n",
       "<style scoped>\n",
       "    .dataframe tbody tr th:only-of-type {\n",
       "        vertical-align: middle;\n",
       "    }\n",
       "\n",
       "    .dataframe tbody tr th {\n",
       "        vertical-align: top;\n",
       "    }\n",
       "\n",
       "    .dataframe thead th {\n",
       "        text-align: right;\n",
       "    }\n",
       "</style>\n",
       "<table border=\"1\" class=\"dataframe\">\n",
       "  <thead>\n",
       "    <tr style=\"text-align: right;\">\n",
       "      <th></th>\n",
       "      <th>year</th>\n",
       "      <th>decade</th>\n",
       "      <th>title</th>\n",
       "      <th>artist</th>\n",
       "      <th>lyrics</th>\n",
       "      <th>lyrics_lined</th>\n",
       "    </tr>\n",
       "  </thead>\n",
       "  <tbody>\n",
       "    <tr>\n",
       "      <th>0</th>\n",
       "      <td>1960</td>\n",
       "      <td>1960s</td>\n",
       "      <td>the village of st. bernadette</td>\n",
       "      <td>andy williams</td>\n",
       "      <td>i've traveled far, the land and the sea\\nbeautiful places i happened to be\\none little town i'll never forget\\nis lourdes, the village of st. bern...</td>\n",
       "      <td>[i've traveled far, the land and the sea, beautiful places i happened to be, one little town i'll never forget, is lourdes, the village of st. ber...</td>\n",
       "    </tr>\n",
       "    <tr>\n",
       "      <th>1</th>\n",
       "      <td>1960</td>\n",
       "      <td>1960s</td>\n",
       "      <td>in my little corner of the world</td>\n",
       "      <td>anita bryant</td>\n",
       "      <td>oh, come along with me\\nto my little corner of the world\\nand dream a little dream\\nin my little corner of the world\\n\\ntonight, my love\\nwe'll sh...</td>\n",
       "      <td>[oh, come along with me, to my little corner of the world, and dream a little dream, in my little corner of the world, tonight, my love, we'll sha...</td>\n",
       "    </tr>\n",
       "    <tr>\n",
       "      <th>2</th>\n",
       "      <td>1960</td>\n",
       "      <td>1960s</td>\n",
       "      <td>paper roses</td>\n",
       "      <td>anita bryant</td>\n",
       "      <td>i realize the way your eyes deceived me\\nwith tender looks that i mistook for love\\nso take away the flowers that you gave me\\nand send the kind t...</td>\n",
       "      <td>[i realize the way your eyes deceived me, with tender looks that i mistook for love, so take away the flowers that you gave me, and send the kind ...</td>\n",
       "    </tr>\n",
       "    <tr>\n",
       "      <th>3</th>\n",
       "      <td>1960</td>\n",
       "      <td>1960s</td>\n",
       "      <td>o dio mio</td>\n",
       "      <td>annette</td>\n",
       "      <td>e un giorno lui mi disse: \"nei tuoi occhi vedo fame\\nnon vedo rabbia, figlio, no\\nma voglia di lottare.\"\\ndivisi il cibo nel mio piatto col rivale...</td>\n",
       "      <td>[e un giorno lui mi disse: \"nei tuoi occhi vedo fame, non vedo rabbia, figlio, no, ma voglia di lottare.\", divisi il cibo nel mio piatto col rival...</td>\n",
       "    </tr>\n",
       "    <tr>\n",
       "      <th>4</th>\n",
       "      <td>1960</td>\n",
       "      <td>1960s</td>\n",
       "      <td>wonderland by night</td>\n",
       "      <td>bert kaempfert</td>\n",
       "      <td>stars hang suspended\\nabove a floating yellow moon\\ntwo hearts were blended\\nwhile angels sang a lover's tune\\n\\nand so we kissed\\nnot knowing if ...</td>\n",
       "      <td>[stars hang suspended, above a floating yellow moon, two hearts were blended, while angels sang a lover's tune, and so we kissed, not knowing if o...</td>\n",
       "    </tr>\n",
       "  </tbody>\n",
       "</table>\n",
       "</div>"
      ],
      "text/plain": [
       "   year decade                             title          artist  \\\n",
       "0  1960  1960s     the village of st. bernadette   andy williams   \n",
       "1  1960  1960s  in my little corner of the world    anita bryant   \n",
       "2  1960  1960s                       paper roses    anita bryant   \n",
       "3  1960  1960s                         o dio mio         annette   \n",
       "4  1960  1960s               wonderland by night  bert kaempfert   \n",
       "\n",
       "                                                                                                                                                  lyrics  \\\n",
       "0  i've traveled far, the land and the sea\\nbeautiful places i happened to be\\none little town i'll never forget\\nis lourdes, the village of st. bern...   \n",
       "1  oh, come along with me\\nto my little corner of the world\\nand dream a little dream\\nin my little corner of the world\\n\\ntonight, my love\\nwe'll sh...   \n",
       "2  i realize the way your eyes deceived me\\nwith tender looks that i mistook for love\\nso take away the flowers that you gave me\\nand send the kind t...   \n",
       "3  e un giorno lui mi disse: \"nei tuoi occhi vedo fame\\nnon vedo rabbia, figlio, no\\nma voglia di lottare.\"\\ndivisi il cibo nel mio piatto col rivale...   \n",
       "4  stars hang suspended\\nabove a floating yellow moon\\ntwo hearts were blended\\nwhile angels sang a lover's tune\\n\\nand so we kissed\\nnot knowing if ...   \n",
       "\n",
       "                                                                                                                                            lyrics_lined  \n",
       "0  [i've traveled far, the land and the sea, beautiful places i happened to be, one little town i'll never forget, is lourdes, the village of st. ber...  \n",
       "1  [oh, come along with me, to my little corner of the world, and dream a little dream, in my little corner of the world, tonight, my love, we'll sha...  \n",
       "2  [i realize the way your eyes deceived me, with tender looks that i mistook for love, so take away the flowers that you gave me, and send the kind ...  \n",
       "3  [e un giorno lui mi disse: \"nei tuoi occhi vedo fame, non vedo rabbia, figlio, no, ma voglia di lottare.\", divisi il cibo nel mio piatto col rival...  \n",
       "4  [stars hang suspended, above a floating yellow moon, two hearts were blended, while angels sang a lover's tune, and so we kissed, not knowing if o...  "
      ]
     },
     "execution_count": 18,
     "metadata": {},
     "output_type": "execute_result"
    }
   ],
   "source": [
    "# create column with list of lines, removing any empty strings\n",
    "df_update['lyrics_lined'] = df_update.lyrics.map(lambda x: [line for line in x.split('\\n') if line.strip()])\n",
    "\n",
    "# take a look\n",
    "df_update.head()"
   ]
  },
  {
   "cell_type": "markdown",
   "metadata": {},
   "source": [
    "## Create lyrics string without artist(s) name(s) included\n",
    "\n",
    "[[go back to the top](#Song-Lyrics-Through-the-Years)]"
   ]
  },
  {
   "cell_type": "code",
   "execution_count": 19,
   "metadata": {},
   "outputs": [],
   "source": [
    "# instantiate empty list\n",
    "lyrics_no_artist = []\n",
    "\n",
    "# iterate over each row\n",
    "for i in df_update.index:\n",
    "    \n",
    "    # remove artist name(s) from lyrics, minus any that happen to be common words\n",
    "    artist_removed = artist_remover(df_update, i, 'artist', 'lyrics', stopwords=stopwords.words('english'))\n",
    "    \n",
    "    # add to list\n",
    "    lyrics_no_artist.append(artist_removed)\n",
    "\n",
    "# add updated lyrics to dataframe\n",
    "df_update['lyrics_no_artist'] = lyrics_no_artist"
   ]
  },
  {
   "cell_type": "markdown",
   "metadata": {},
   "source": [
    "## 💾 Save/Load 💾\n",
    "\n",
    "[[go back to the top](#Song-Lyrics-Through-the-Years)]"
   ]
  },
  {
   "cell_type": "code",
   "execution_count": 20,
   "metadata": {},
   "outputs": [],
   "source": [
    "# uncomment to save\n",
    "with gzip.open('data/lyrics_df_clean.pkl', 'wb') as goodbye:\n",
    "    pickle.dump(df_update, goodbye, protocol=pickle.HIGHEST_PROTOCOL)\n",
    "    \n",
    "# # uncomment to load\n",
    "# with gzip.open('data/lyrics_df_clean.pkl', 'rb') as hello:\n",
    "#     df_update = pickle.load(hello)"
   ]
  },
  {
   "cell_type": "markdown",
   "metadata": {},
   "source": [
    "# Things to consider for EDA notebook\n",
    "\n",
    "[[go back to the top](#Song-Lyrics-Through-the-Years)]"
   ]
  },
  {
   "cell_type": "code",
   "execution_count": 21,
   "metadata": {},
   "outputs": [
    {
     "data": {
      "text/html": [
       "<div>\n",
       "<style scoped>\n",
       "    .dataframe tbody tr th:only-of-type {\n",
       "        vertical-align: middle;\n",
       "    }\n",
       "\n",
       "    .dataframe tbody tr th {\n",
       "        vertical-align: top;\n",
       "    }\n",
       "\n",
       "    .dataframe thead th {\n",
       "        text-align: right;\n",
       "    }\n",
       "</style>\n",
       "<table border=\"1\" class=\"dataframe\">\n",
       "  <thead>\n",
       "    <tr style=\"text-align: right;\">\n",
       "      <th></th>\n",
       "      <th>year</th>\n",
       "      <th>decade</th>\n",
       "      <th>title</th>\n",
       "      <th>artist</th>\n",
       "      <th>lyrics</th>\n",
       "    </tr>\n",
       "  </thead>\n",
       "  <tbody>\n",
       "    <tr>\n",
       "      <th>91</th>\n",
       "      <td>1960</td>\n",
       "      <td>1960s</td>\n",
       "      <td>THE OLD LAMPLIGHTER</td>\n",
       "      <td>The Browns Featuring Jim Edward Brown</td>\n",
       "      <td>He made the night a little brighter\\nWherever he would go\\nThe old lamplighter\\nOf long, long ago\\n\\nHis snowy hair was so much whiter\\nBeneath th...</td>\n",
       "    </tr>\n",
       "    <tr>\n",
       "      <th>312</th>\n",
       "      <td>1962</td>\n",
       "      <td>1960s</td>\n",
       "      <td>THE LONELY BULL (El Solo Torro)</td>\n",
       "      <td>The Tijuana Brass Featuring Herb Alpert</td>\n",
       "      <td>NaN</td>\n",
       "    </tr>\n",
       "    <tr>\n",
       "      <th>342</th>\n",
       "      <td>1963</td>\n",
       "      <td>1960s</td>\n",
       "      <td>MOCKINGBIRD</td>\n",
       "      <td>Inez Foxx with Charlie Foxx</td>\n",
       "      <td>Mock (Yeah)\\nIng (Yeah)\\nBird (Yeah)\\nYeah (Yeah)\\nMockin'bird, now\\n\\nEverybody have you heard\\nHe's gonna buy me a mockingbird\\nAnd if that mock...</td>\n",
       "    </tr>\n",
       "    <tr>\n",
       "      <th>433</th>\n",
       "      <td>1964</td>\n",
       "      <td>1960s</td>\n",
       "      <td>BAD TO ME</td>\n",
       "      <td>Billy J. Kramer with the Dakotas</td>\n",
       "      <td>If you ever leave me, I'll be sad and blue\\nDon't you ever leave me, I'm so in love with you\\n\\nThe birds in the sky would be sad and lonely\\nIf t...</td>\n",
       "    </tr>\n",
       "    <tr>\n",
       "      <th>434</th>\n",
       "      <td>1964</td>\n",
       "      <td>1960s</td>\n",
       "      <td>LITTLE CHILDREN</td>\n",
       "      <td>Billy J. Kramer with the Dakotas</td>\n",
       "      <td>Little children, you better not tell on me\\nI'm tellin' you little children, you better not tell what you see\\nAnd if you're good, I'll give you c...</td>\n",
       "    </tr>\n",
       "  </tbody>\n",
       "</table>\n",
       "</div>"
      ],
      "text/plain": [
       "     year decade                            title  \\\n",
       "91   1960  1960s              THE OLD LAMPLIGHTER   \n",
       "312  1962  1960s  THE LONELY BULL (El Solo Torro)   \n",
       "342  1963  1960s                      MOCKINGBIRD   \n",
       "433  1964  1960s                        BAD TO ME   \n",
       "434  1964  1960s                  LITTLE CHILDREN   \n",
       "\n",
       "                                      artist  \\\n",
       "91     The Browns Featuring Jim Edward Brown   \n",
       "312  The Tijuana Brass Featuring Herb Alpert   \n",
       "342              Inez Foxx with Charlie Foxx   \n",
       "433         Billy J. Kramer with the Dakotas   \n",
       "434         Billy J. Kramer with the Dakotas   \n",
       "\n",
       "                                                                                                                                                    lyrics  \n",
       "91   He made the night a little brighter\\nWherever he would go\\nThe old lamplighter\\nOf long, long ago\\n\\nHis snowy hair was so much whiter\\nBeneath th...  \n",
       "312                                                                                                                                                    NaN  \n",
       "342  Mock (Yeah)\\nIng (Yeah)\\nBird (Yeah)\\nYeah (Yeah)\\nMockin'bird, now\\n\\nEverybody have you heard\\nHe's gonna buy me a mockingbird\\nAnd if that mock...  \n",
       "433  If you ever leave me, I'll be sad and blue\\nDon't you ever leave me, I'm so in love with you\\n\\nThe birds in the sky would be sad and lonely\\nIf t...  \n",
       "434  Little children, you better not tell on me\\nI'm tellin' you little children, you better not tell what you see\\nAnd if you're good, I'll give you c...  "
      ]
     },
     "execution_count": 21,
     "metadata": {},
     "output_type": "execute_result"
    }
   ],
   "source": [
    "# songs that also contain featured artists\n",
    "# signaled by the word 'featuring' (capital or lowercase 'f') or 'with'\n",
    "features = df[df.artist.str.contains('eaturing') | df.artist.str.contains('with')]\n",
    "\n",
    "# take a look\n",
    "features.head()"
   ]
  },
  {
   "cell_type": "code",
   "execution_count": 22,
   "metadata": {},
   "outputs": [
    {
     "data": {
      "image/png": "[encoded data removed]",
      "text/plain": [
       "<Figure size 720x432 with 1 Axes>"
      ]
     },
     "metadata": {
      "needs_background": "light"
     },
     "output_type": "display_data"
    }
   ],
   "source": [
    "# graph number of instrumental songs per year\n",
    "plt.figure(figsize=(10,6))\n",
    "sns.barplot(x=features.decade.value_counts().sort_index().index, y=features.decade.value_counts().sort_index())\n",
    "plt.title('Number of Songs with Featured Artists in\\nBillboard Top 10 per Decade', fontsize=25, pad=15)\n",
    "plt.xlabel('Decade', fontsize=20, labelpad=10)\n",
    "plt.ylabel('Number of Songs', fontsize=20, labelpad=10)\n",
    "# plt.xticks(ticks=range(0,60,5), labels=range(1960,2021,5), fontsize=15)\n",
    "plt.yticks(fontsize=15)\n",
    "plt.show()"
   ]
  },
  {
   "cell_type": "markdown",
   "metadata": {},
   "source": [
    "## Next notebook: [NLP, Feature Engineering, and EDA](03_nlp_features_eda.ipynb)\n",
    "\n",
    "[[go back to the top](#Song-Lyrics-Through-the-Years)]\n",
    "\n",
    "- The next notebook includes natural language processing, engineering of features, exploring data, and analyzing data."
   ]
  }
 ],
 "metadata": {
  "kernelspec": {
   "display_name": "Python [conda env:learn-env] *",
   "language": "python",
   "name": "conda-env-learn-env-py"
  },
  "language_info": {
   "codemirror_mode": {
    "name": "ipython",
    "version": 3
   },
   "file_extension": ".py",
   "mimetype": "text/x-python",
   "name": "python",
   "nbconvert_exporter": "python",
   "pygments_lexer": "ipython3",
   "version": "3.6.9"
  }
 },
 "nbformat": 4,
 "nbformat_minor": 2
}
