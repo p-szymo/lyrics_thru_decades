{
 "cells": [
  {
   "cell_type": "markdown",
   "metadata": {},
   "source": [
    "# Music Lyrics Through the Years\n",
    "\n",
    "#### Import (possibly) necessary libraries"
   ]
  },
  {
   "cell_type": "code",
   "execution_count": 435,
   "metadata": {},
   "outputs": [
    {
     "name": "stdout",
     "output_type": "stream",
     "text": [
      "The autoreload extension is already loaded. To reload it, use:\n",
      "  %reload_ext autoreload\n"
     ]
    }
   ],
   "source": [
    "import pandas as pd; pd.options.display.max_rows = 200\n",
    "import numpy as np\n",
    "\n",
    "import matplotlib.pyplot as plt\n",
    "import seaborn as sns; sns.set_style('ticks')\n",
    "\n",
    "import re\n",
    "from unicodedata import normalize\n",
    "\n",
    "import requests as rq\n",
    "from bs4 import BeautifulSoup as bs\n",
    "from selenium import webdriver\n",
    "\n",
    "import pickle\n",
    "import gzip\n",
    "\n",
    "from functions.webscraping import *\n",
    "\n",
    "import json\n",
    "\n",
    "%load_ext autoreload\n",
    "%autoreload 2"
   ]
  },
  {
   "cell_type": "markdown",
   "metadata": {},
   "source": [
    "## Scrape song title and artist"
   ]
  },
  {
   "cell_type": "code",
   "execution_count": 2,
   "metadata": {},
   "outputs": [
    {
     "name": "stdout",
     "output_type": "stream",
     "text": [
      "CPU times: user 14.7 s, sys: 195 ms, total: 14.9 s\n",
      "Wall time: 1min 51s\n"
     ]
    },
    {
     "data": {
      "text/plain": [
       "60"
      ]
     },
     "execution_count": 2,
     "metadata": {},
     "output_type": "execute_result"
    }
   ],
   "source": [
    "%%time\n",
    "\n",
    "# list of unique songs in top 10 between 1960 and 2019\n",
    "all_top10s = [\n",
    "    yearly_top10s(f'https://top40weekly.com/{year}-all-charts/') for year in range(1960,2020)\n",
    "]\n",
    "\n",
    "# confirm 60 years\n",
    "len(all_top10s)"
   ]
  },
  {
   "cell_type": "code",
   "execution_count": 3,
   "metadata": {},
   "outputs": [
    {
     "data": {
      "text/plain": [
       "5293"
      ]
     },
     "execution_count": 3,
     "metadata": {},
     "output_type": "execute_result"
    }
   ],
   "source": [
    "# number of songs, before removing some duplicates across years\n",
    "sum([len(year) for year in all_top10s])"
   ]
  },
  {
   "cell_type": "code",
   "execution_count": 4,
   "metadata": {},
   "outputs": [],
   "source": [
    "# uncomment to save\n",
    "with gzip.open('data/all_top10s.pkl', 'wb') as goodbye:\n",
    "    pickle.dump(all_top10s, goodbye, protocol=pickle.HIGHEST_PROTOCOL)\n",
    "    \n",
    "# uncomment to load\n",
    "with gzip.open('data/all_top10s.pkl', 'rb') as hello:\n",
    "    all_top10s = pickle.load(hello)"
   ]
  },
  {
   "cell_type": "markdown",
   "metadata": {},
   "source": [
    "- Since some songs may be within the top 10 in two different years, I need to remove those from the list."
   ]
  },
  {
   "cell_type": "code",
   "execution_count": 5,
   "metadata": {},
   "outputs": [],
   "source": [
    "top10s = []\n",
    "\n",
    "for i,year in enumerate(all_top10s):\n",
    "    \n",
    "    for song in year:\n",
    "        \n",
    "        song_dict = {}\n",
    "        song_dict['year'] = i+1960\n",
    "        song_dict['title'] = song[0]\n",
    "        song_dict['artist'] = song[1]\n",
    "        top10s.append(song_dict)"
   ]
  },
  {
   "cell_type": "code",
   "execution_count": 6,
   "metadata": {},
   "outputs": [],
   "source": [
    "temp_df = pd.DataFrame(top10s)\n",
    "temp_df = temp_df.drop_duplicates(subset=['title', 'artist'])\n",
    "\n",
    "unique_top10s = temp_df.to_dict('records')"
   ]
  },
  {
   "cell_type": "code",
   "execution_count": 7,
   "metadata": {},
   "outputs": [
    {
     "data": {
      "text/plain": [
       "4735"
      ]
     },
     "execution_count": 7,
     "metadata": {},
     "output_type": "execute_result"
    }
   ],
   "source": [
    "len(unique_top10s)"
   ]
  },
  {
   "cell_type": "markdown",
   "metadata": {},
   "source": [
    "## Scrape lyrics"
   ]
  },
  {
   "cell_type": "code",
   "execution_count": 8,
   "metadata": {},
   "outputs": [],
   "source": [
    "# parse personal api keys\n",
    "with open('data/api_keys.json', 'r') as json_file:\n",
    "    creds = json.load(json_file)\n",
    "\n",
    "# set the credentials based on the credentials file\n",
    "client_id = creds['client_id']\n",
    "client_secret = creds['client_secret']\n",
    "access_token = creds['access_token']"
   ]
  },
  {
   "cell_type": "code",
   "execution_count": 9,
   "metadata": {},
   "outputs": [
    {
     "name": "stdout",
     "output_type": "stream",
     "text": [
      "Failed grabs:\n",
      "(Down At) PAPA JOE’S The Dixiebelles\n",
      "AN OPEN LETTER TO MY TEENAGE SON Victor Lundberg\n",
      "/ 14 DOWN ON THE CORNER / FORTUNATE SON Creedence Clearwater Revival\n",
      "Timeout raised and caught:\n",
      "HTTPSConnectionPool(host='genius.com', port=443): Read timed out. (read timeout=5)\n",
      "MIDNIGHT COWBOY Ferrante and\n",
      "JUNGLE FEVER The Chakachas\n",
      "YOU AIN Bachman-Turner Overdrive\n",
      "JUJU ON DAT BEAT  Zayion McCall\n",
      "CPU times: user 5min 53s, sys: 15.4 s, total: 6min 9s\n",
      "Wall time: 1h 57min 57s\n"
     ]
    },
    {
     "data": {
      "text/plain": [
       "4735"
      ]
     },
     "execution_count": 9,
     "metadata": {},
     "output_type": "execute_result"
    }
   ],
   "source": [
    "%%time\n",
    "\n",
    "top10s = []\n",
    "print('Failed grabs:')\n",
    "\n",
    "for song in unique_top10s:\n",
    "    \n",
    "    search_term = f\"{song['title']} {song['artist']}\"\n",
    "        \n",
    "    try:\n",
    "        song['lyrics'] = lyrics_grabber(access_token, search_term)\n",
    "\n",
    "    except:\n",
    "        try:\n",
    "            search_term = f\"{re.match('[A-Z,. ]+', song['title']).group()} {' '.join(song['artist'].split()[:2])}\"\n",
    "            song['lyrics'] = lyrics_grabber(access_token, search_term)\n",
    "\n",
    "        except:\n",
    "            print(search_term)\n",
    "            song['lyrics'] = np.nan\n",
    "            \n",
    "    top10s.append(song)\n",
    "        \n",
    "len(top10s)"
   ]
  },
  {
   "cell_type": "code",
   "execution_count": 10,
   "metadata": {},
   "outputs": [
    {
     "data": {
      "text/plain": [
       "(4735, 4)"
      ]
     },
     "execution_count": 10,
     "metadata": {},
     "output_type": "execute_result"
    }
   ],
   "source": [
    "df = pd.DataFrame(top10s)\n",
    "df.shape"
   ]
  },
  {
   "cell_type": "code",
   "execution_count": 11,
   "metadata": {},
   "outputs": [
    {
     "data": {
      "text/html": [
       "<div>\n",
       "<style scoped>\n",
       "    .dataframe tbody tr th:only-of-type {\n",
       "        vertical-align: middle;\n",
       "    }\n",
       "\n",
       "    .dataframe tbody tr th {\n",
       "        vertical-align: top;\n",
       "    }\n",
       "\n",
       "    .dataframe thead th {\n",
       "        text-align: right;\n",
       "    }\n",
       "</style>\n",
       "<table border=\"1\" class=\"dataframe\">\n",
       "  <thead>\n",
       "    <tr style=\"text-align: right;\">\n",
       "      <th></th>\n",
       "      <th>year</th>\n",
       "      <th>title</th>\n",
       "      <th>artist</th>\n",
       "      <th>lyrics</th>\n",
       "    </tr>\n",
       "  </thead>\n",
       "  <tbody>\n",
       "    <tr>\n",
       "      <th>0</th>\n",
       "      <td>1960</td>\n",
       "      <td>THE VILLAGE OF ST. BERNADETTE</td>\n",
       "      <td>Andy Williams</td>\n",
       "      <td>I've traveled far, the land and the sea\\nBeaut...</td>\n",
       "    </tr>\n",
       "    <tr>\n",
       "      <th>1</th>\n",
       "      <td>1960</td>\n",
       "      <td>PAPER ROSES</td>\n",
       "      <td>Anita Bryant</td>\n",
       "      <td>I realize the way your eyes deceived me\\nWith ...</td>\n",
       "    </tr>\n",
       "    <tr>\n",
       "      <th>2</th>\n",
       "      <td>1960</td>\n",
       "      <td>IN MY LITTLE CORNER OF THE WORLD</td>\n",
       "      <td>Anita Bryant</td>\n",
       "      <td>Oh, come along with me\\nTo my little corner of...</td>\n",
       "    </tr>\n",
       "    <tr>\n",
       "      <th>3</th>\n",
       "      <td>1960</td>\n",
       "      <td>O DIO MIO</td>\n",
       "      <td>Annette</td>\n",
       "      <td>[Strofa 1]\\nE un giorno lui mi disse: \"Nei tuo...</td>\n",
       "    </tr>\n",
       "    <tr>\n",
       "      <th>4</th>\n",
       "      <td>1960</td>\n",
       "      <td>WONDERLAND BY NIGHT</td>\n",
       "      <td>Bert Kaempfert</td>\n",
       "      <td>Stars hang suspended\\nAbove a floating yellow ...</td>\n",
       "    </tr>\n",
       "  </tbody>\n",
       "</table>\n",
       "</div>"
      ],
      "text/plain": [
       "   year                             title          artist  \\\n",
       "0  1960     THE VILLAGE OF ST. BERNADETTE   Andy Williams   \n",
       "1  1960                       PAPER ROSES    Anita Bryant   \n",
       "2  1960  IN MY LITTLE CORNER OF THE WORLD    Anita Bryant   \n",
       "3  1960                         O DIO MIO         Annette   \n",
       "4  1960               WONDERLAND BY NIGHT  Bert Kaempfert   \n",
       "\n",
       "                                              lyrics  \n",
       "0  I've traveled far, the land and the sea\\nBeaut...  \n",
       "1  I realize the way your eyes deceived me\\nWith ...  \n",
       "2  Oh, come along with me\\nTo my little corner of...  \n",
       "3  [Strofa 1]\\nE un giorno lui mi disse: \"Nei tuo...  \n",
       "4  Stars hang suspended\\nAbove a floating yellow ...  "
      ]
     },
     "execution_count": 11,
     "metadata": {},
     "output_type": "execute_result"
    }
   ],
   "source": [
    "df.head()"
   ]
  },
  {
   "cell_type": "code",
   "execution_count": 12,
   "metadata": {},
   "outputs": [
    {
     "data": {
      "text/html": [
       "<div>\n",
       "<style scoped>\n",
       "    .dataframe tbody tr th:only-of-type {\n",
       "        vertical-align: middle;\n",
       "    }\n",
       "\n",
       "    .dataframe tbody tr th {\n",
       "        vertical-align: top;\n",
       "    }\n",
       "\n",
       "    .dataframe thead th {\n",
       "        text-align: right;\n",
       "    }\n",
       "</style>\n",
       "<table border=\"1\" class=\"dataframe\">\n",
       "  <thead>\n",
       "    <tr style=\"text-align: right;\">\n",
       "      <th></th>\n",
       "      <th>year</th>\n",
       "      <th>title</th>\n",
       "      <th>artist</th>\n",
       "      <th>lyrics</th>\n",
       "    </tr>\n",
       "  </thead>\n",
       "  <tbody>\n",
       "    <tr>\n",
       "      <th>4730</th>\n",
       "      <td>2019</td>\n",
       "      <td>YOU NEED TO CALM DOWN</td>\n",
       "      <td>Taylor Swift</td>\n",
       "      <td>[Verse 1]\\nYou are somebody that I don't know\\...</td>\n",
       "    </tr>\n",
       "    <tr>\n",
       "      <th>4731</th>\n",
       "      <td>2019</td>\n",
       "      <td>ME!</td>\n",
       "      <td>Taylor Swift featuring Brendon Urie</td>\n",
       "      <td>JANUARY\"Giant\" by Calvin Harris featuring Rag ...</td>\n",
       "    </tr>\n",
       "    <tr>\n",
       "      <th>4732</th>\n",
       "      <td>2019</td>\n",
       "      <td>HEARTLESS</td>\n",
       "      <td>The Weeknd</td>\n",
       "      <td>[Intro]\\nYoung Metro, young Metro, young Metro...</td>\n",
       "    </tr>\n",
       "    <tr>\n",
       "      <th>4733</th>\n",
       "      <td>2019</td>\n",
       "      <td>DANCE MONKEY</td>\n",
       "      <td>Tones and I</td>\n",
       "      <td>[Verse 1]\\nThey say, \"Oh my God, I see the way...</td>\n",
       "    </tr>\n",
       "    <tr>\n",
       "      <th>4734</th>\n",
       "      <td>2019</td>\n",
       "      <td>HIGHEST IN THE ROOM</td>\n",
       "      <td>Travis Scott</td>\n",
       "      <td>[Chorus]\\nI got room in my fumes (Yeah)\\nShe f...</td>\n",
       "    </tr>\n",
       "  </tbody>\n",
       "</table>\n",
       "</div>"
      ],
      "text/plain": [
       "      year                  title                               artist  \\\n",
       "4730  2019  YOU NEED TO CALM DOWN                         Taylor Swift   \n",
       "4731  2019                    ME!  Taylor Swift featuring Brendon Urie   \n",
       "4732  2019              HEARTLESS                           The Weeknd   \n",
       "4733  2019           DANCE MONKEY                          Tones and I   \n",
       "4734  2019    HIGHEST IN THE ROOM                         Travis Scott   \n",
       "\n",
       "                                                 lyrics  \n",
       "4730  [Verse 1]\\nYou are somebody that I don't know\\...  \n",
       "4731  JANUARY\"Giant\" by Calvin Harris featuring Rag ...  \n",
       "4732  [Intro]\\nYoung Metro, young Metro, young Metro...  \n",
       "4733  [Verse 1]\\nThey say, \"Oh my God, I see the way...  \n",
       "4734  [Chorus]\\nI got room in my fumes (Yeah)\\nShe f...  "
      ]
     },
     "execution_count": 12,
     "metadata": {},
     "output_type": "execute_result"
    }
   ],
   "source": [
    "df.tail()"
   ]
  },
  {
   "cell_type": "markdown",
   "metadata": {},
   "source": [
    "### Remove brackets and words contained within\n",
    "- These tend to be denoting verse from chorus (or something similar) or other non-lyric words."
   ]
  },
  {
   "cell_type": "code",
   "execution_count": 13,
   "metadata": {},
   "outputs": [],
   "source": [
    "df['lyrics'] = df.lyrics.map(remove_brackets)"
   ]
  },
  {
   "cell_type": "markdown",
   "metadata": {},
   "source": [
    "### Save/Load"
   ]
  },
  {
   "cell_type": "code",
   "execution_count": 14,
   "metadata": {},
   "outputs": [],
   "source": [
    "# # uncomment to save\n",
    "# with gzip.open('data/lyrics_df.pkl', 'wb') as goodbye:\n",
    "#     pickle.dump(df, goodbye, protocol=pickle.HIGHEST_PROTOCOL)\n",
    "    \n",
    "# # uncomment to load\n",
    "# with gzip.open('data/lyrics_df.pkl', 'rb') as hello:\n",
    "#     df = pickle.load(hello)"
   ]
  },
  {
   "cell_type": "markdown",
   "metadata": {},
   "source": [
    "## Rescrapes\n",
    "\n",
    "### 1960"
   ]
  },
  {
   "cell_type": "code",
   "execution_count": 50,
   "metadata": {},
   "outputs": [],
   "source": [
    "# rescrape\n",
    "df.loc[32, 'lyrics'] = lyrics_grabber(access_token, search_term=\"because they're young duane eddy and the rebels\")\n",
    "df.loc[51, 'lyrics'] = lyrics_grabber(access_token, search_term='jackie wilson night')\n",
    "df.loc[68, 'lyrics'] = lyrics_grabber(access_token, search_term='mister custer')\n",
    "df.loc[75, 'lyrics'] = lyrics_grabber(access_token, search_term='the big hurt toni fisher')\n",
    "df.loc[85, 'lyrics'] = lyrics_grabber(access_token, search_term='Only the Lonely (Know the Way I Feel)')\n",
    "\n",
    "\n",
    "# more complex ones\n",
    "soup = soupify('https://www.flashlyrics.com/lyrics/lolita/sailor-your-home-is-the-sea-41')\n",
    "df.loc[69, 'lyrics'] = '\\n'.join(\n",
    "    [line.contents[0] for line in soup.find('div', attrs={'class': 'main-panel-content'}).find_all('span')\n",
    "     if line.contents][2:]\n",
    ")\n",
    "\n",
    "soup = soupify('https://www.flashlyrics.com/lyrics/the-ivy-three/yogi-79')\n",
    "df.loc[98, 'lyrics'] = '\\n'.join(\n",
    "    [line.contents[0] for line in soup.find('div', attrs={'class': 'main-panel-content'}).find_all('span')\n",
    "     if line.contents]\n",
    ")"
   ]
  },
  {
   "cell_type": "code",
   "execution_count": 52,
   "metadata": {},
   "outputs": [],
   "source": [
    "# remove lines\n",
    "df.loc[45, 'lyrics'] = remove_n_lines(df.loc[45, 'lyrics'], 11)"
   ]
  },
  {
   "cell_type": "code",
   "execution_count": 53,
   "metadata": {},
   "outputs": [],
   "source": [
    "# instrumentals\n",
    "df.loc[38, 'lyrics'] = np.nan\n",
    "df.loc[39, 'lyrics'] = np.nan\n",
    "df.loc[81, 'lyrics'] = np.nan\n",
    "df.loc[102, 'lyrics'] = np.nan"
   ]
  },
  {
   "cell_type": "markdown",
   "metadata": {},
   "source": [
    "### 1961"
   ]
  },
  {
   "cell_type": "code",
   "execution_count": 80,
   "metadata": {
    "scrolled": true
   },
   "outputs": [],
   "source": [
    "# rescrape\n",
    "df.loc[106, 'lyrics'] = lyrics_grabber(access_token, 'arthur lyman yellow bird')\n",
    "df.loc[136, 'lyrics'] = rescrape('https://www.lyricsondemand.com/d/dickanddeedeelyrics/themountainshighlyrics.html',\n",
    "                                 name='div', attrs={'class': 'lcontent'})\n",
    "df.loc[174, 'lyrics'] = lyrics_grabber(access_token, \"ral donner you don't know what you've got\")\n",
    "\n",
    "# more complex ones\n",
    "soup = soupify('https://www.flashlyrics.com/lyrics/adam-wade/as-if-i-didnt-know-55')\n",
    "df.loc[105, 'lyrics'] = '\\n'.join(\n",
    "    [line.contents[0] for line in soup.find('div', attrs={'class': 'main-panel-content'}).find_all('span')\n",
    "     if line.contents]\n",
    ")\n",
    "\n",
    "soup = soupify('https://www.flashlyrics.com/lyrics/ferrante-and-teicher/tonight-12')\n",
    "df.loc[144, 'lyrics'] = '\\n'.join(\n",
    "    [line.contents[0] for line in soup.find('div', attrs={'class': 'main-panel-content'}).find_all('span')\n",
    "     if line.contents]\n",
    ")"
   ]
  },
  {
   "cell_type": "code",
   "execution_count": 81,
   "metadata": {},
   "outputs": [],
   "source": [
    "# instrumentals\n",
    "df.loc[110, 'lyrics'] = np.nan\n",
    "df.loc[145, 'lyrics'] = np.nan\n",
    "df.loc[161, 'lyrics'] = np.nan\n",
    "df.loc[185, 'lyrics'] = np.nan\n",
    "df.loc[198, 'lyrics'] = np.nan"
   ]
  },
  {
   "cell_type": "code",
   "execution_count": 82,
   "metadata": {},
   "outputs": [],
   "source": [
    "# remove lines\n",
    "df.loc[105, 'lyrics'] = remove_n_lines(df.loc[105, 'lyrics'], 2)\n",
    "df.loc[174, 'lyrics'] = remove_n_lines(df.loc[174, 'lyrics'], 5)\n",
    "df.loc[195, 'lyrics'] = remove_n_lines(df.loc[195, 'lyrics'], 10)\n",
    "df.loc[208, 'lyrics'] = remove_n_lines(df.loc[208, 'lyrics'], 3)"
   ]
  },
  {
   "cell_type": "code",
   "execution_count": 83,
   "metadata": {},
   "outputs": [],
   "source": [
    "# update song\n",
    "df.loc[177, 'title'] = 'Corrine, Corrina'"
   ]
  },
  {
   "cell_type": "code",
   "execution_count": 85,
   "metadata": {},
   "outputs": [],
   "source": [
    "# remove duplicate\n",
    "df.drop(index=178, inplace=True)\n",
    "df.drop(index=182, inplace=True)"
   ]
  },
  {
   "cell_type": "markdown",
   "metadata": {},
   "source": [
    "### 1962"
   ]
  },
  {
   "cell_type": "code",
   "execution_count": 100,
   "metadata": {},
   "outputs": [],
   "source": [
    "# rescrape\n",
    "df.loc[272, 'lyrics'] = lyrics_grabber(access_token, 'joey dee shout')"
   ]
  },
  {
   "cell_type": "code",
   "execution_count": 101,
   "metadata": {},
   "outputs": [],
   "source": [
    "# instrumentals\n",
    "df.loc[214, 'lyrics'] = np.nan\n",
    "df.loc[215, 'lyrics'] = np.nan\n",
    "df.loc[221, 'lyrics'] = np.nan\n",
    "df.loc[241, 'lyrics'] = np.nan\n",
    "df.loc[242, 'lyrics'] = np.nan\n",
    "df.loc[276, 'lyrics'] = np.nan\n",
    "df.loc[282, 'lyrics'] = np.nan\n",
    "df.loc[315, 'lyrics'] = np.nan\n",
    "df.loc[316, 'lyrics'] = np.nan"
   ]
  },
  {
   "cell_type": "code",
   "execution_count": 102,
   "metadata": {},
   "outputs": [],
   "source": [
    "# remove lines\n",
    "df.loc[226, 'lyrics'] = remove_n_lines(df.loc[226, 'lyrics'], 7, 3)\n",
    "df.loc[256, 'lyrics'] = remove_n_lines(df.loc[256, 'lyrics'], 2)\n",
    "df.loc[273, 'lyrics'] = remove_n_lines(df.loc[273, 'lyrics'], 5, 1)\n",
    "df.loc[318, 'lyrics'] = remove_n_lines(df.loc[318, 'lyrics'], 2)"
   ]
  },
  {
   "cell_type": "markdown",
   "metadata": {},
   "source": [
    "### 1963"
   ]
  },
  {
   "cell_type": "code",
   "execution_count": 110,
   "metadata": {},
   "outputs": [],
   "source": [
    "# rescrape\n",
    "df.loc[360, 'lyrics'] = lyrics_grabber(access_token, 'fingertips stevie')\n",
    "\n",
    "# more complex ones\n",
    "soup = soupify('https://www.flashlyrics.com/lyrics/dixie-belles/down-at-papa-joes-70')\n",
    "df.loc[403, 'lyrics'] = '\\n'.join(\n",
    "    [line.contents[0] for line in soup.find('div', attrs={'class': 'main-panel-content'}).find_all('span')\n",
    "     if line.contents][1:]\n",
    ")"
   ]
  },
  {
   "cell_type": "code",
   "execution_count": 111,
   "metadata": {},
   "outputs": [],
   "source": [
    "# instrumentals\n",
    "df.loc[324, 'lyrics'] = np.nan\n",
    "df.loc[353, 'lyrics'] = np.nan\n",
    "df.loc[361, 'lyrics'] = np.nan\n",
    "df.loc[362, 'lyrics'] = np.nan\n",
    "df.loc[397, 'lyrics'] = np.nan\n",
    "df.loc[419, 'lyrics'] = np.nan"
   ]
  },
  {
   "cell_type": "code",
   "execution_count": 112,
   "metadata": {},
   "outputs": [],
   "source": [
    "# remove lines\n",
    "df.loc[327, 'lyrics'] = remove_n_lines(df.loc[327, 'lyrics'], 3)\n",
    "df.loc[344, 'lyrics'] = remove_n_lines(df.loc[344, 'lyrics'], 2)\n",
    "df.loc[351, 'lyrics'] = remove_n_lines(df.loc[351, 'lyrics'], 2)"
   ]
  },
  {
   "cell_type": "markdown",
   "metadata": {},
   "source": [
    "### 1964"
   ]
  },
  {
   "cell_type": "code",
   "execution_count": 117,
   "metadata": {},
   "outputs": [],
   "source": [
    "# rescrape\n",
    "df.loc[442, 'lyrics'] = lyrics_grabber(access_token, 'summer song chad')\n",
    "df.loc[473, 'lyrics'] = lyrics_grabber(access_token, 'dancing in the street martha')\n",
    "df.loc[482, 'lyrics'] = lyrics_grabber(access_token, 'roy orbison pretty woman')\n",
    "df.loc[518, 'lyrics'] = rescrape('http://www.songlyrics.com/the-larks/jerk-lyrics/',\n",
    "                                 name='p', attrs={'class': 'songLyricsV14 iComment-text'})"
   ]
  },
  {
   "cell_type": "code",
   "execution_count": 118,
   "metadata": {},
   "outputs": [],
   "source": [
    "# instrumentals\n",
    "df.loc[431, 'lyrics'] = np.nan\n",
    "df.loc[519, 'lyrics'] = np.nan\n",
    "df.loc[534, 'lyrics'] = np.nan"
   ]
  },
  {
   "cell_type": "code",
   "execution_count": 119,
   "metadata": {},
   "outputs": [],
   "source": [
    "# remove lines\n",
    "df.loc[513, 'lyrics'] = remove_n_lines(df.loc[513, 'lyrics'], 6)\n",
    "df.loc[521, 'lyrics'] = remove_n_lines(df.loc[521, 'lyrics'], 6)"
   ]
  },
  {
   "cell_type": "code",
   "execution_count": 120,
   "metadata": {},
   "outputs": [],
   "source": [
    "# update artist name\n",
    "df.loc[442, 'artist'] = 'Chad and Jeremy'"
   ]
  },
  {
   "cell_type": "code",
   "execution_count": 121,
   "metadata": {},
   "outputs": [],
   "source": [
    "# remove duplicate\n",
    "df.drop(index=467, inplace=True)"
   ]
  },
  {
   "cell_type": "markdown",
   "metadata": {},
   "source": [
    "### 1965"
   ]
  },
  {
   "cell_type": "code",
   "execution_count": 124,
   "metadata": {},
   "outputs": [],
   "source": [
    "# rescrape\n",
    "df.loc[562, 'lyrics'] = lyrics_grabber(access_token, \"Papa’s Got a Brand New Bag (Part 1)\")\n",
    "df.loc[571, 'lyrics'] = lyrics_grabber(access_token, 'nowhere to run martha')\n",
    "df.loc[593, 'lyrics'] = lyrics_grabber(access_token, 'i got you babe')\n",
    "df.loc[611, 'lyrics'] = lyrics_grabber(access_token, \"I Can’t Help Myself (Sugar Pie, Honey Bunch)\")"
   ]
  },
  {
   "cell_type": "code",
   "execution_count": 125,
   "metadata": {},
   "outputs": [],
   "source": [
    "# instrumentals\n",
    "df.loc[552, 'lyrics'] = np.nan\n",
    "df.loc[621, 'lyrics'] = np.nan"
   ]
  },
  {
   "cell_type": "markdown",
   "metadata": {},
   "source": [
    "### 1966"
   ]
  },
  {
   "cell_type": "code",
   "execution_count": 131,
   "metadata": {},
   "outputs": [],
   "source": [
    "# rescrape\n",
    "df.loc[689, 'lyrics'] = lyrics_grabber(access_token, 'good thing paul revere')\n",
    "df.loc[691, 'lyrics'] = lyrics_grabber(access_token, 'hungry paul revere')\n",
    "df.loc[692, 'lyrics'] = lyrics_grabber(access_token, 'kicks paul revere')\n",
    "df.loc[694, 'lyrics'] = lyrics_grabber(access_token, 'lady godiva peter')\n",
    "df.loc[704, 'lyrics'] = lyrics_grabber(access_token, 'homeward bound simon')\n",
    "df.loc[735, 'lyrics'] = lyrics_grabber(access_token, 'california dreamin')"
   ]
  },
  {
   "cell_type": "code",
   "execution_count": 132,
   "metadata": {},
   "outputs": [],
   "source": [
    "# remove duplicate\n",
    "df.drop(index=690, inplace=True)"
   ]
  },
  {
   "cell_type": "markdown",
   "metadata": {},
   "source": [
    "### 1967"
   ]
  },
  {
   "cell_type": "code",
   "execution_count": 135,
   "metadata": {},
   "outputs": [],
   "source": [
    "# rescrape\n",
    "df.loc[874, 'lyrics'] = rescrape('http://www.songlyrics.com/victor-lundberg/an-open-letter-to-my-teenage-son-lyrics/',\n",
    "                                 name='p', attrs={'class': 'songLyricsV14 iComment-text'})"
   ]
  },
  {
   "cell_type": "markdown",
   "metadata": {},
   "source": [
    "### 1968"
   ]
  },
  {
   "cell_type": "code",
   "execution_count": 145,
   "metadata": {},
   "outputs": [],
   "source": [
    "# rescrape\n",
    "df.loc[929, 'lyrics'] = lyrics_grabber(access_token, 'mrs. robinson')"
   ]
  },
  {
   "cell_type": "code",
   "execution_count": 146,
   "metadata": {},
   "outputs": [],
   "source": [
    "# instrumentals\n",
    "df.loc[888, 'lyrics'] = np.nan\n",
    "df.loc[904, 'lyrics'] = np.nan\n",
    "df.loc[905, 'lyrics'] = np.nan\n",
    "df.loc[919, 'lyrics'] = np.nan"
   ]
  },
  {
   "cell_type": "code",
   "execution_count": 140,
   "metadata": {},
   "outputs": [],
   "source": [
    "# remove lines\n",
    "df.loc[899, 'lyrics'] = remove_n_lines(df.loc[899, 'lyrics'], 3, 7)\n",
    "df.loc[969, 'lyrics'] = remove_n_lines(df.loc[969, 'lyrics'], 5, 1)"
   ]
  },
  {
   "cell_type": "markdown",
   "metadata": {},
   "source": [
    "### 1969\n",
    "\n",
    "- There are some top 10 entries that appear as both the single's A and B sides.\n",
    "- I'll split these up into two separate entries."
   ]
  },
  {
   "cell_type": "code",
   "execution_count": 191,
   "metadata": {},
   "outputs": [
    {
     "name": "stdout",
     "output_type": "stream",
     "text": [
      "Timeout raised and caught:\n",
      "HTTPSConnectionPool(host='genius.com', port=443): Read timed out. (read timeout=5)\n",
      "CPU times: user 8.58 s, sys: 402 ms, total: 8.98 s\n",
      "Wall time: 4min 9s\n"
     ]
    }
   ],
   "source": [
    "%%time\n",
    "\n",
    "# instantiate empty list\n",
    "to_add_on = []\n",
    "\n",
    "# exclude final entry because it is actually a single song\n",
    "# loop over indices, overwrite row with first song, capture second song\n",
    "for ind in df[df.title.str.contains(' / ')].index[:-1]:\n",
    "    second_song = split_combos(df, ind)\n",
    "    to_add_on.append(second_song)\n",
    "\n",
    "# convert second songs to dataframe\n",
    "temp_df = pd.DataFrame(to_add_on)\n",
    "\n",
    "# combine\n",
    "df = pd.concat([df, temp_df])"
   ]
  },
  {
   "cell_type": "code",
   "execution_count": 155,
   "metadata": {},
   "outputs": [],
   "source": [
    "# rescrape\n",
    "df.loc[1003, 'lyrics'] = lyrics_grabber(access_token, 'i want you back the jackson 5')\n",
    "df.loc[1023, 'lyrics'] = lyrics_grabber(access_token, 'boxer simon garfunkel')\n",
    "df.loc[1039, 'lyrics'] = lyrics_grabber(access_token, 'beatles get back')"
   ]
  },
  {
   "cell_type": "code",
   "execution_count": 156,
   "metadata": {},
   "outputs": [],
   "source": [
    "# instrumentals\n",
    "df.loc[981, 'lyrics'] = np.nan\n",
    "df.loc[982, 'lyrics'] = np.nan\n",
    "df.loc[1001, 'lyrics'] = np.nan\n",
    "df.loc[1057, 'lyrics'] = np.nan\n",
    "df.loc[1071, 'lyrics'] = np.nan"
   ]
  },
  {
   "cell_type": "code",
   "execution_count": 157,
   "metadata": {},
   "outputs": [],
   "source": [
    "# remove duplicate\n",
    "df.drop(index=1038, inplace=True)"
   ]
  },
  {
   "cell_type": "markdown",
   "metadata": {},
   "source": [
    "### 1970"
   ]
  },
  {
   "cell_type": "code",
   "execution_count": 169,
   "metadata": {},
   "outputs": [],
   "source": [
    "# rescrape\n",
    "df.loc[1111, 'lyrics'] = lyrics_grabber(access_token, 'abc the jackson 5')\n",
    "df.loc[1130, 'lyrics'] = lyrics_grabber(access_token, 'cecilia simon garfunkel')\n",
    "df.loc[1131, 'lyrics'] = lyrics_grabber(access_token, 'bridge over troubled water simon garfunkel')"
   ]
  },
  {
   "cell_type": "markdown",
   "metadata": {},
   "source": [
    "### 1971"
   ]
  },
  {
   "cell_type": "code",
   "execution_count": 197,
   "metadata": {},
   "outputs": [],
   "source": [
    "df.reset_index(drop=True, inplace=True)"
   ]
  },
  {
   "cell_type": "code",
   "execution_count": 203,
   "metadata": {},
   "outputs": [],
   "source": [
    "# rescrape\n",
    "df.loc[1172, 'lyrics'] = lyrics_grabber(access_token, 'one toke over the line brewer & shipley')\n",
    "df.loc[1220, 'lyrics'] = lyrics_grabber(access_token, 'uncle albert')"
   ]
  },
  {
   "cell_type": "code",
   "execution_count": 204,
   "metadata": {},
   "outputs": [],
   "source": [
    "# edge case, had a slash in song title\n",
    "df.loc[1225, 'title'] = 'UNCLE ALBERT/ADMIRAL HALSEY'"
   ]
  },
  {
   "cell_type": "code",
   "execution_count": 205,
   "metadata": {},
   "outputs": [],
   "source": [
    "# instrumentals\n",
    "df.loc[1183, 'lyrics'] = np.nan"
   ]
  },
  {
   "cell_type": "code",
   "execution_count": 206,
   "metadata": {},
   "outputs": [],
   "source": [
    "# remove duplicate\n",
    "df.drop(index=4751, inplace=True)\n",
    "df.drop(index=4754, inplace=True)"
   ]
  },
  {
   "cell_type": "markdown",
   "metadata": {},
   "source": [
    "### 1972"
   ]
  },
  {
   "cell_type": "code",
   "execution_count": 209,
   "metadata": {},
   "outputs": [],
   "source": [
    "# rescrape\n",
    "df.loc[1337, 'lyrics'] = lyrics_grabber(access_token, 'jungle fever chakachas')"
   ]
  },
  {
   "cell_type": "code",
   "execution_count": 210,
   "metadata": {},
   "outputs": [],
   "source": [
    "# instrumentals\n",
    "df.loc[1267, 'lyrics'] = np.nan\n",
    "df.loc[1275, 'lyrics'] = np.nan\n",
    "df.loc[1303, 'lyrics'] = np.nan\n",
    "\n",
    "# edge case; non-lyric song\n",
    "df.loc[1339, 'lyrics'] = np.nan"
   ]
  },
  {
   "cell_type": "code",
   "execution_count": 211,
   "metadata": {},
   "outputs": [],
   "source": [
    "# remove duplicate\n",
    "df.drop(index=1287, inplace=True)"
   ]
  },
  {
   "cell_type": "markdown",
   "metadata": {},
   "source": [
    "### 1973"
   ]
  },
  {
   "cell_type": "code",
   "execution_count": 215,
   "metadata": {},
   "outputs": [],
   "source": [
    "# rescrape\n",
    "df.loc[1412, 'lyrics'] = lyrics_grabber(access_token, 'The Morning After (Theme From The Poseidon Adventure)')"
   ]
  },
  {
   "cell_type": "code",
   "execution_count": 216,
   "metadata": {},
   "outputs": [],
   "source": [
    "# instrumentals\n",
    "df.loc[1432, 'lyrics'] = np.nan\n",
    "\n",
    "# edge case; non-lyric song\n",
    "df.loc[1392, 'lyrics'] = np.nan"
   ]
  },
  {
   "cell_type": "markdown",
   "metadata": {},
   "source": [
    "### 1974"
   ]
  },
  {
   "cell_type": "code",
   "execution_count": 222,
   "metadata": {},
   "outputs": [],
   "source": [
    "# rescrape\n",
    "df.loc[1497, 'lyrics'] = lyrics_grabber(access_token, 'use my imagination gladys')\n",
    "df.loc[1515, 'lyrics'] = lyrics_grabber(access_token, 'hollywood swinging')\n",
    "df.loc[1516, 'lyrics'] = lyrics_grabber(access_token, 'jungle boogie')\n",
    "df.loc[1531, 'lyrics'] = lyrics_grabber(access_token, 'jet wings')\n",
    "df.loc[1534, 'lyrics'] = lyrics_grabber(access_token, 'band on the run wings')"
   ]
  },
  {
   "cell_type": "code",
   "execution_count": 223,
   "metadata": {},
   "outputs": [],
   "source": [
    "# instrumentals\n",
    "df.loc[1521, 'lyrics'] = np.nan\n",
    "df.loc[1522, 'lyrics'] = np.nan\n",
    "df.loc[1553, 'lyrics'] = np.nan\n",
    "df.loc[4757, 'lyrics'] = np.nan"
   ]
  },
  {
   "cell_type": "markdown",
   "metadata": {},
   "source": [
    "### 1975"
   ]
  },
  {
   "cell_type": "code",
   "execution_count": 229,
   "metadata": {},
   "outputs": [],
   "source": [
    "# rescrape\n",
    "df.loc[1658, 'lyrics'] = lyrics_grabber(access_token, 'yesterday carpenters')\n",
    "df.loc[1660, 'lyrics'] = lyrics_grabber(access_token, 'philadelphia freedom elton john')\n",
    "df.loc[1663, 'lyrics'] = lyrics_grabber(access_token, 'fire ohio players')\n",
    "df.loc[1664, 'lyrics'] = lyrics_grabber(access_token, 'love rollercoaster ohio players')\n",
    "df.loc[1641, 'lyrics'] = lyrics_grabber(access_token, 'ringo no no song')"
   ]
  },
  {
   "cell_type": "code",
   "execution_count": 230,
   "metadata": {},
   "outputs": [],
   "source": [
    "# instrumentals\n",
    "df.loc[1629, 'lyrics'] = np.nan\n",
    "df.loc[1669, 'lyrics'] = np.nan"
   ]
  },
  {
   "cell_type": "markdown",
   "metadata": {},
   "source": [
    "### 1976"
   ]
  },
  {
   "cell_type": "code",
   "execution_count": 233,
   "metadata": {},
   "outputs": [],
   "source": [
    "# rescrape\n",
    "df.loc[1686, 'lyrics'] = lyrics_grabber(access_token, 'sara smile hall oates')\n",
    "df.loc[1694, 'lyrics'] = lyrics_grabber(access_token, 'sing a song earth')\n",
    "df.loc[1730, 'lyrics'] = lyrics_grabber(access_token, 'disco duck rick dees')\n",
    "df.loc[1738, 'lyrics'] = lyrics_grabber(access_token, 'more more more andrea true')\n",
    "df.loc[1746, 'lyrics'] = lyrics_grabber(access_token, 'muskrat love')"
   ]
  },
  {
   "cell_type": "code",
   "execution_count": 234,
   "metadata": {},
   "outputs": [],
   "source": [
    "# instrumentals\n",
    "df.loc[1729, 'lyrics'] = np.nan\n",
    "df.loc[1758, 'lyrics'] = np.nan"
   ]
  },
  {
   "cell_type": "markdown",
   "metadata": {},
   "source": [
    "### 1977"
   ]
  },
  {
   "cell_type": "code",
   "execution_count": 242,
   "metadata": {},
   "outputs": [],
   "source": [
    "# rescrape\n",
    "df.loc[1777, 'lyrics'] = lyrics_grabber(access_token, 'bill conti gonna fly now')\n",
    "df.loc[1843, 'lyrics'] = lyrics_grabber(access_token, 'jet airliner steve miller')\n",
    "df.loc[1844, 'lyrics'] = lyrics_grabber(access_token, 'eagle steve miller')"
   ]
  },
  {
   "cell_type": "code",
   "execution_count": 243,
   "metadata": {},
   "outputs": [],
   "source": [
    "# instrumentals\n",
    "df.loc[1819, 'lyrics'] = np.nan\n",
    "df.loc[1841, 'lyrics'] = np.nan\n",
    "df.loc[4769, 'lyrics'] = np.nan"
   ]
  },
  {
   "cell_type": "code",
   "execution_count": 244,
   "metadata": {},
   "outputs": [],
   "source": [
    "# remove lines\n",
    "df.loc[1803, 'lyrics'] = remove_n_lines(df.loc[1803, 'lyrics'], 2)"
   ]
  },
  {
   "cell_type": "markdown",
   "metadata": {},
   "source": [
    "### 1978"
   ]
  },
  {
   "cell_type": "code",
   "execution_count": 248,
   "metadata": {},
   "outputs": [],
   "source": [
    "# rescrape\n",
    "df.loc[1867, 'lyrics'] = lyrics_grabber(access_token, 'still the same bob seger')\n",
    "df.loc[1922, 'lyrics'] = lyrics_grabber(access_token, 'ymca village people')"
   ]
  },
  {
   "cell_type": "code",
   "execution_count": 249,
   "metadata": {},
   "outputs": [],
   "source": [
    "# instrumentals\n",
    "df.loc[1873, 'lyrics'] = np.nan"
   ]
  },
  {
   "cell_type": "markdown",
   "metadata": {},
   "source": [
    "### 1979"
   ]
  },
  {
   "cell_type": "code",
   "execution_count": 253,
   "metadata": {},
   "outputs": [],
   "source": [
    "# rescrape\n",
    "df.loc[1952, 'lyrics'] = lyrics_grabber(access_token, 'boogie wonderland')\n",
    "df.loc[1957, 'lyrics'] = lyrics_grabber(access_token, 'promises eric clapton')\n",
    "df.loc[1958, 'lyrics'] = lyrics_grabber(access_token, 'watch out for lucy eric clapton')\n",
    "df.loc[1964, 'lyrics'] = lyrics_grabber(access_token, 'only lonely souther')"
   ]
  },
  {
   "cell_type": "code",
   "execution_count": 254,
   "metadata": {},
   "outputs": [],
   "source": [
    "# update title\n",
    "df.loc[1958, 'title'] = 'WATCH OUT FOR LUCY'"
   ]
  },
  {
   "cell_type": "code",
   "execution_count": 255,
   "metadata": {},
   "outputs": [],
   "source": [
    "# instrumentals\n",
    "df.loc[1960, 'lyrics'] = np.nan\n",
    "df.loc[1962, 'lyrics'] = np.nan"
   ]
  },
  {
   "cell_type": "code",
   "execution_count": 256,
   "metadata": {},
   "outputs": [],
   "source": [
    "# remove duplicates\n",
    "df.drop(index=4771, inplace=True)\n",
    "df.drop(index=4772, inplace=True)"
   ]
  },
  {
   "cell_type": "markdown",
   "metadata": {},
   "source": [
    "### 1980"
   ]
  },
  {
   "cell_type": "code",
   "execution_count": 261,
   "metadata": {},
   "outputs": [],
   "source": [
    "# rescrape\n",
    "df.loc[2068, 'lyrics'] = lyrics_grabber(access_token, 'another brick in the wall')"
   ]
  },
  {
   "cell_type": "code",
   "execution_count": 262,
   "metadata": {},
   "outputs": [],
   "source": [
    "# instrumentals\n",
    "df.loc[4775, 'lyrics'] = np.nan"
   ]
  },
  {
   "cell_type": "code",
   "execution_count": 264,
   "metadata": {},
   "outputs": [],
   "source": [
    "# remove lines\n",
    "df.loc[2024, 'lyrics'] = remove_n_lines(df.loc[2024, 'lyrics'], 3)\n",
    "df.loc[2054, 'lyrics'] = remove_n_lines(df.loc[2054, 'lyrics'], 3)"
   ]
  },
  {
   "cell_type": "code",
   "execution_count": 265,
   "metadata": {},
   "outputs": [],
   "source": [
    "# remove duplicate\n",
    "df.drop(index=2064, inplace=True)\n",
    "df.drop(index=4773, inplace=True)\n",
    "df.drop(index=4774, inplace=True)\n",
    "df.drop(index=4776, inplace=True)"
   ]
  },
  {
   "cell_type": "markdown",
   "metadata": {},
   "source": [
    "### 1981"
   ]
  },
  {
   "cell_type": "code",
   "execution_count": 272,
   "metadata": {},
   "outputs": [],
   "source": [
    "# rescrape\n",
    "df.loc[2122, 'lyrics'] = lyrics_grabber(access_token, 'joey scarbury believe it or not')"
   ]
  },
  {
   "cell_type": "code",
   "execution_count": 273,
   "metadata": {},
   "outputs": [],
   "source": [
    "# instrumentals\n",
    "df.loc[2135, 'lyrics'] = np.nan"
   ]
  },
  {
   "cell_type": "code",
   "execution_count": 274,
   "metadata": {},
   "outputs": [],
   "source": [
    "# remove lines\n",
    "df.loc[2103, 'lyrics'] = remove_n_lines(df.loc[2103, 'lyrics'], 6)"
   ]
  },
  {
   "cell_type": "markdown",
   "metadata": {},
   "source": [
    "### 1982"
   ]
  },
  {
   "cell_type": "code",
   "execution_count": 277,
   "metadata": {},
   "outputs": [],
   "source": [
    "# rescrape\n",
    "df.loc[2189, 'lyrics'] = lyrics_grabber(access_token, 'crimson and clover')\n",
    "df.loc[2190, 'lyrics'] = lyrics_grabber(access_token, 'Joan Jett & The Blackhearts i love rock')\n",
    "df.loc[2231, 'lyrics'] = lyrics_grabber(access_token, 'rock this town stray cats')"
   ]
  },
  {
   "cell_type": "code",
   "execution_count": 278,
   "metadata": {},
   "outputs": [],
   "source": [
    "# instrumentals\n",
    "df.loc[2202, 'lyrics'] = np.nan\n",
    "df.loc[2235, 'lyrics'] = np.nan"
   ]
  },
  {
   "cell_type": "markdown",
   "metadata": {},
   "source": [
    "### 1983"
   ]
  },
  {
   "cell_type": "code",
   "execution_count": 284,
   "metadata": {},
   "outputs": [],
   "source": [
    "# rescrape\n",
    "df.loc[2242, 'lyrics'] = lyrics_grabber(access_token, 'shame on the moon bob seger')\n",
    "df.loc[2292, 'lyrics'] = lyrics_grabber(access_token, 'say say say paul')\n",
    "df.loc[2306, 'lyrics'] = lyrics_grabber(access_token, 'sweet dreams eurythmics')"
   ]
  },
  {
   "cell_type": "code",
   "execution_count": 285,
   "metadata": {},
   "outputs": [],
   "source": [
    "# remove lines\n",
    "df.loc[2302, 'lyrics'] = remove_n_lines(df.loc[2302, 'lyrics'], 8)"
   ]
  },
  {
   "cell_type": "code",
   "execution_count": 286,
   "metadata": {},
   "outputs": [],
   "source": [
    "# remove duplicate\n",
    "df.drop(index=2205, inplace=True)"
   ]
  },
  {
   "cell_type": "markdown",
   "metadata": {},
   "source": [
    "### 1984"
   ]
  },
  {
   "cell_type": "code",
   "execution_count": 290,
   "metadata": {},
   "outputs": [],
   "source": [
    "# rescrape\n",
    "df.loc[2393, 'lyrics'] = lyrics_grabber(access_token, 'warrior scandal')\n",
    "df.loc[2402, 'lyrics'] = lyrics_grabber(access_token, 'state of shock jacksons')"
   ]
  },
  {
   "cell_type": "markdown",
   "metadata": {},
   "source": [
    "### 1985"
   ]
  },
  {
   "cell_type": "code",
   "execution_count": 293,
   "metadata": {},
   "outputs": [],
   "source": [
    "# instrumentals\n",
    "df.loc[2451, 'lyrics'] = np.nan\n",
    "df.loc[2456, 'lyrics'] = np.nan"
   ]
  },
  {
   "cell_type": "code",
   "execution_count": 294,
   "metadata": {},
   "outputs": [],
   "source": [
    "# remove lines\n",
    "df.loc[2477, 'lyrics'] = remove_n_lines(df.loc[2477, 'lyrics'], 1)"
   ]
  },
  {
   "cell_type": "markdown",
   "metadata": {},
   "source": [
    "### 1986"
   ]
  },
  {
   "cell_type": "code",
   "execution_count": 297,
   "metadata": {},
   "outputs": [],
   "source": [
    "# rescrape\n",
    "df.loc[2583, 'lyrics'] = lyrics_grabber(access_token, 'your wildest dreams')"
   ]
  },
  {
   "cell_type": "markdown",
   "metadata": {},
   "source": [
    "### 1987"
   ]
  },
  {
   "cell_type": "code",
   "execution_count": 300,
   "metadata": {},
   "outputs": [],
   "source": [
    "# rescrape\n",
    "df.loc[2646, 'lyrics'] = lyrics_grabber(access_token, 'war bruce springsteen')\n",
    "df.loc[2712, 'lyrics'] = lyrics_grabber(access_token, 'got the look prince')\n",
    "df.loc[2714, 'lyrics'] = lyrics_grabber(access_token, 'the one i love rem')"
   ]
  },
  {
   "cell_type": "code",
   "execution_count": 301,
   "metadata": {},
   "outputs": [],
   "source": [
    "# instrumentals\n",
    "df.loc[2689, 'lyrics'] = np.nan"
   ]
  },
  {
   "cell_type": "markdown",
   "metadata": {},
   "source": [
    "### 1988"
   ]
  },
  {
   "cell_type": "code",
   "execution_count": 306,
   "metadata": {},
   "outputs": [],
   "source": [
    "# rescrape\n",
    "df.loc[2785, 'lyrics'] = lyrics_grabber(access_token, 'anything for you gloria')\n",
    "df.loc[2809, 'lyrics'] = lyrics_grabber(access_token, \"she's like the wind patrick swayze\")"
   ]
  },
  {
   "cell_type": "markdown",
   "metadata": {},
   "source": [
    "### 1989"
   ]
  },
  {
   "cell_type": "markdown",
   "metadata": {},
   "source": [
    "### 1990"
   ]
  },
  {
   "cell_type": "code",
   "execution_count": 315,
   "metadata": {},
   "outputs": [],
   "source": [
    "# rescrape\n",
    "df.loc[3054, 'lyrics'] = lyrics_grabber(access_token, 'this old heart of mine rod')"
   ]
  },
  {
   "cell_type": "code",
   "execution_count": 316,
   "metadata": {},
   "outputs": [],
   "source": [
    "# remove lines\n",
    "df.loc[3060, 'lyrics'] = remove_n_lines(df.loc[3060, 'lyrics'], 3)\n",
    "df.loc[3068, 'lyrics'] = remove_n_lines(df.loc[3068, 'lyrics'], 1)"
   ]
  },
  {
   "cell_type": "markdown",
   "metadata": {},
   "source": [
    "### 1991 - 1993"
   ]
  },
  {
   "cell_type": "code",
   "execution_count": 324,
   "metadata": {},
   "outputs": [],
   "source": [
    "# remove lines\n",
    "df.loc[3273, 'lyrics'] = remove_n_lines(df.loc[3273, 'lyrics'], 6)"
   ]
  },
  {
   "cell_type": "markdown",
   "metadata": {},
   "source": [
    "### 1994"
   ]
  },
  {
   "cell_type": "code",
   "execution_count": 327,
   "metadata": {},
   "outputs": [],
   "source": [
    "# remove lines\n",
    "df.loc[4778, 'lyrics'] = remove_n_lines(df.loc[4778, 'lyrics'], 2)"
   ]
  },
  {
   "cell_type": "markdown",
   "metadata": {},
   "source": [
    "### 1995"
   ]
  },
  {
   "cell_type": "code",
   "execution_count": 335,
   "metadata": {},
   "outputs": [],
   "source": [
    "# rescrape\n",
    "df.loc[3372, 'lyrics'] = lyrics_grabber(access_token, \"gangsta's paradise coolio\")\n",
    "df.loc[3401, 'lyrics'] = lyrics_grabber(access_token, 'big poppa')\n",
    "df.loc[4781, 'lyrics'] = lyrics_grabber(access_token, 'childhood michael jackson')"
   ]
  },
  {
   "cell_type": "markdown",
   "metadata": {},
   "source": [
    "### 1996"
   ]
  },
  {
   "cell_type": "code",
   "execution_count": 339,
   "metadata": {},
   "outputs": [],
   "source": [
    "# rescrape\n",
    "df.loc[3443, 'lyrics'] = lyrics_grabber(access_token, 'nobody keith sweat')\n",
    "df.loc[4784, 'lyrics'] = lyrics_grabber(access_token, 'how do u want it 2pac')"
   ]
  },
  {
   "cell_type": "code",
   "execution_count": 340,
   "metadata": {},
   "outputs": [],
   "source": [
    "# remove lines\n",
    "df.loc[3422, 'lyrics'] = remove_n_lines(df.loc[3422, 'lyrics'], 3)"
   ]
  },
  {
   "cell_type": "code",
   "execution_count": 341,
   "metadata": {},
   "outputs": [],
   "source": [
    "# instrumentals\n",
    "df.loc[3417, 'lyrics'] = np.nan"
   ]
  },
  {
   "cell_type": "markdown",
   "metadata": {},
   "source": [
    "### 1997"
   ]
  },
  {
   "cell_type": "code",
   "execution_count": 345,
   "metadata": {},
   "outputs": [],
   "source": [
    "# rescrape\n",
    "df.loc[3485, 'lyrics'] = lyrics_grabber(access_token, 'mmmbop')\n",
    "df.loc[3495, 'lyrics'] = lyrics_grabber(access_token, 'feel so good ma$e')\n",
    "df.loc[3501, 'lyrics'] = lyrics_grabber(access_token, \"i'll be missing you puff daddy\")\n",
    "df.loc[3503, 'lyrics'] = lyrics_grabber(access_token, 'CAN’T NOBODY HOLD ME DOWN')\n",
    "df.loc[4790, 'lyrics'] = lyrics_grabber(access_token, 'been around the world puff')"
   ]
  },
  {
   "cell_type": "markdown",
   "metadata": {},
   "source": [
    "### 1998"
   ]
  },
  {
   "cell_type": "code",
   "execution_count": 351,
   "metadata": {},
   "outputs": [],
   "source": [
    "# rescrape\n",
    "df.loc[3485, 'lyrics'] = lyrics_grabber(access_token, 'lookin at me ma$e')"
   ]
  },
  {
   "cell_type": "code",
   "execution_count": 352,
   "metadata": {},
   "outputs": [],
   "source": [
    "# remove lines\n",
    "df.loc[3564, 'lyrics'] = remove_n_lines(df.loc[3564, 'lyrics'], 4)"
   ]
  },
  {
   "cell_type": "code",
   "execution_count": 353,
   "metadata": {},
   "outputs": [],
   "source": [
    "# remove duplicates\n",
    "df.drop(index=3540, inplace=True)\n",
    "df.drop(index=4791, inplace=True)"
   ]
  },
  {
   "cell_type": "markdown",
   "metadata": {},
   "source": [
    "### 1999"
   ]
  },
  {
   "cell_type": "code",
   "execution_count": 357,
   "metadata": {},
   "outputs": [],
   "source": [
    "# rescrape\n",
    "df.loc[3604, 'lyrics'] = lyrics_grabber(access_token, 'lost in you garth')\n",
    "df.loc[3632, 'lyrics'] = lyrics_grabber(access_token, 'smooth santana')"
   ]
  },
  {
   "cell_type": "markdown",
   "metadata": {},
   "source": [
    "### 2000"
   ]
  },
  {
   "cell_type": "code",
   "execution_count": 362,
   "metadata": {},
   "outputs": [],
   "source": [
    "# rescrape\n",
    "df.loc[3663, 'lyrics'] = lyrics_grabber(access_token, \"destiny's child independent\")\n",
    "df.loc[3683, 'lyrics'] = lyrics_grabber(access_token, 'case of the ex')\n",
    "df.loc[3687, 'lyrics'] = lyrics_grabber(access_token, 'country grammer nelly')\n",
    "df.loc[3695, 'lyrics'] = lyrics_grabber(access_token, 'maria santana')"
   ]
  },
  {
   "cell_type": "code",
   "execution_count": 363,
   "metadata": {},
   "outputs": [],
   "source": [
    "# remove duplicate\n",
    "df.drop(index=3696, inplace=True)"
   ]
  },
  {
   "cell_type": "markdown",
   "metadata": {},
   "source": [
    "### 2001"
   ]
  },
  {
   "cell_type": "code",
   "execution_count": 367,
   "metadata": {},
   "outputs": [],
   "source": [
    "# rescrape\n",
    "df.loc[3711, 'lyrics'] = lyrics_grabber(access_token, \"lady marmalade Lil’ Kim, Mýa, Christina Aguilera & P!nk\")\n",
    "df.loc[3726, 'lyrics'] = lyrics_grabber(access_token, 'always on time ja rule')\n",
    "df.loc[3728, 'lyrics'] = lyrics_grabber(access_token, 'put it on me ja rule')"
   ]
  },
  {
   "cell_type": "code",
   "execution_count": 370,
   "metadata": {},
   "outputs": [],
   "source": [
    "# remove duplicate\n",
    "df.drop(index=3736, inplace=True)"
   ]
  },
  {
   "cell_type": "markdown",
   "metadata": {},
   "source": [
    "### 2002"
   ]
  },
  {
   "cell_type": "code",
   "execution_count": 377,
   "metadata": {},
   "outputs": [],
   "source": [
    "# rescrape\n",
    "df.loc[3771, 'lyrics'] = lyrics_grabber(access_token, 'oh boy cam’ron')\n",
    "df.loc[3772, 'lyrics'] = lyrics_grabber(access_token, 'hey ma cam’ron')\n",
    "df.loc[3784, 'lyrics'] = lyrics_grabber(access_token, \"what's luv fat joe\")\n",
    "df.loc[3785, 'lyrics'] = lyrics_grabber(access_token, 'down 4 u ja rule')\n",
    "df.loc[3807, 'lyrics'] = lyrics_grabber(access_token, 'diddy i need a girl (pt. 2)')\n",
    "df.loc[3808, 'lyrics'] = lyrics_grabber(access_token, 'diddy i need a girl (pt. 1)')"
   ]
  },
  {
   "cell_type": "code",
   "execution_count": 378,
   "metadata": {},
   "outputs": [],
   "source": [
    "# remove lines\n",
    "df.loc[3766, 'lyrics'] = remove_n_lines(df.loc[3766, 'lyrics'], 4)"
   ]
  },
  {
   "cell_type": "markdown",
   "metadata": {},
   "source": [
    "### 2003"
   ]
  },
  {
   "cell_type": "code",
   "execution_count": 390,
   "metadata": {},
   "outputs": [],
   "source": [
    "# rescrape\n",
    "df.loc[3824, 'lyrics'] = lyrics_grabber(access_token, '21 questions 50 cent')\n",
    "df.loc[3831, 'lyrics'] = lyrics_grabber(access_token, 'crazy in love beyonce')\n",
    "df.loc[3836, 'lyrics'] = lyrics_grabber(access_token, 'holidae in chingy')\n",
    "df.loc[3842, 'lyrics'] = lyrics_grabber(access_token, 'into you fabolous')\n",
    "df.loc[3854, 'lyrics'] = lyrics_grabber(access_token, 'get low lil jon')\n",
    "df.loc[3856, 'lyrics'] = lyrics_grabber(access_token, 'ludacris stand up')\n",
    "df.loc[3862, 'lyrics'] = lyrics_grabber(access_token, 'way you move outkast')\n",
    "df.loc[3869, 'lyrics'] = lyrics_grabber(access_token, 'beautiful snoop dog')\n",
    "df.loc[3872, 'lyrics'] = lyrics_grabber(access_token, 'damn youngbloodz')"
   ]
  },
  {
   "cell_type": "markdown",
   "metadata": {},
   "source": [
    "### 2004"
   ]
  },
  {
   "cell_type": "code",
   "execution_count": 399,
   "metadata": {},
   "outputs": [],
   "source": [
    "# rescrape\n",
    "df.loc[3886, 'lyrics'] = lyrics_grabber(access_token, 'goodies ciara')\n",
    "df.loc[3887, 'lyrics'] = lyrics_grabber(access_token, 'my band d12')\n",
    "df.loc[3898, 'lyrics'] = lyrics_grabber(access_token, 'slow motion juvenile')\n",
    "df.loc[3899, 'lyrics'] = lyrics_grabber(access_token, 'all falls down kanye')\n",
    "df.loc[3902, 'lyrics'] = lyrics_grabber(access_token, 'lovers and friend lil jon')\n",
    "df.loc[3918, 'lyrics'] = lyrics_grabber(access_token, 'drop it snoop')\n",
    "df.loc[3926, 'lyrics'] = lyrics_grabber(access_token, 'yeah usher')"
   ]
  },
  {
   "cell_type": "markdown",
   "metadata": {},
   "source": [
    "### 2005"
   ]
  },
  {
   "cell_type": "code",
   "execution_count": 407,
   "metadata": {},
   "outputs": [],
   "source": [
    "# featuring rescrapes\n",
    "to_be_rescraped = [3931, 3938, 3941, 3956, 3967, 3976, 3977]\n",
    "\n",
    "for ind in to_be_rescraped:\n",
    "    df.loc[ind, 'lyrics'] = featuring(df, ind, access_token)"
   ]
  },
  {
   "cell_type": "code",
   "execution_count": 408,
   "metadata": {},
   "outputs": [],
   "source": [
    "# rescrape\n",
    "df.loc[3984, 'lyrics'] = lyrics_grabber(access_token, 'my humps black')"
   ]
  },
  {
   "cell_type": "code",
   "execution_count": 409,
   "metadata": {},
   "outputs": [],
   "source": [
    "# remove lines\n",
    "df.loc[3934, 'lyrics'] = remove_n_lines(df.loc[3934, 'lyrics'], 4)"
   ]
  },
  {
   "cell_type": "markdown",
   "metadata": {},
   "source": [
    "### 2006"
   ]
  },
  {
   "cell_type": "code",
   "execution_count": 414,
   "metadata": {},
   "outputs": [],
   "source": [
    "# featuring rescrapes\n",
    "to_be_rescraped = [3986, 3987, 3990, 3994, 4002, 4004, 4009, 4024, 4030, 4041]\n",
    "\n",
    "for ind in to_be_rescraped:\n",
    "    df.loc[ind, 'lyrics'] = featuring(df, ind, access_token)"
   ]
  },
  {
   "cell_type": "code",
   "execution_count": 415,
   "metadata": {},
   "outputs": [],
   "source": [
    "# rescrape\n",
    "df.loc[4051, 'lyrics'] = lyrics_grabber(access_token, 'breaking free')"
   ]
  },
  {
   "cell_type": "markdown",
   "metadata": {},
   "source": [
    "### 2007"
   ]
  },
  {
   "cell_type": "code",
   "execution_count": 426,
   "metadata": {},
   "outputs": [],
   "source": [
    "# featuring rescrapes\n",
    "to_be_rescraped = [4053, 4089, 4106, 4111, 4117]\n",
    "\n",
    "for ind in to_be_rescraped:\n",
    "    df.loc[ind, 'lyrics'] = featuring(df, ind, access_token)"
   ]
  },
  {
   "cell_type": "code",
   "execution_count": 427,
   "metadata": {},
   "outputs": [],
   "source": [
    "# rescrape\n",
    "df.loc[4073, 'lyrics'] = lyrics_grabber(access_token, 'feist 1234')\n",
    "df.loc[4075, 'lyrics'] = lyrics_grabber(access_token, 'fergie big girls')\n",
    "df.loc[4086, 'lyrics'] = lyrics_grabber(access_token, 'justin what goes around')"
   ]
  },
  {
   "cell_type": "markdown",
   "metadata": {},
   "source": [
    "### 2008"
   ]
  },
  {
   "cell_type": "code",
   "execution_count": 436,
   "metadata": {},
   "outputs": [],
   "source": [
    "# featuring rescrapes\n",
    "to_be_rescraped = [4131, 4145, 4147, 4148, 4149, 4168, 4170]\n",
    "\n",
    "for ind in to_be_rescraped:\n",
    "    df.loc[ind, 'lyrics'] = featuring(df, ind, access_token)"
   ]
  },
  {
   "cell_type": "code",
   "execution_count": 437,
   "metadata": {},
   "outputs": [],
   "source": [
    "# rescrape\n",
    "df.loc[4136, 'lyrics'] = lyrics_grabber(access_token, 'no air jordin')\n",
    "df.loc[4173, 'lyrics'] = lyrics_grabber(access_token, 'independent webbie')"
   ]
  },
  {
   "cell_type": "markdown",
   "metadata": {},
   "source": [
    "### 2009"
   ]
  },
  {
   "cell_type": "code",
   "execution_count": 442,
   "metadata": {},
   "outputs": [],
   "source": [
    "# featuring rescrapes\n",
    "to_be_rescraped = [4183, 4193, 4224]\n",
    "\n",
    "for ind in to_be_rescraped:\n",
    "    df.loc[ind, 'lyrics'] = featuring(df, ind, access_token)"
   ]
  },
  {
   "cell_type": "code",
   "execution_count": 443,
   "metadata": {},
   "outputs": [],
   "source": [
    "# rescrape\n",
    "df.loc[4183, 'lyrics'] = lyrics_grabber(access_token, 'sexy bitch david')\n",
    "df.loc[4197, 'lyrics'] = lyrics_grabber(access_token, 'run this town jay-z')\n",
    "df.loc[4230, 'lyrics'] = lyrics_grabber(access_token, 'boom boom pow black')\n",
    "df.loc[4231, 'lyrics'] = lyrics_grabber(access_token, 'i gotta feeling black')"
   ]
  },
  {
   "cell_type": "markdown",
   "metadata": {},
   "source": [
    "### 2010"
   ]
  },
  {
   "cell_type": "code",
   "execution_count": 449,
   "metadata": {},
   "outputs": [],
   "source": [
    "# uncomment to save\n",
    "with gzip.open('data/lyrics_df_updated.pkl', 'wb') as goodbye:\n",
    "    pickle.dump(df, goodbye, protocol=pickle.HIGHEST_PROTOCOL)\n",
    "    \n",
    "# # uncomment to load\n",
    "# with gzip.open('data/lyrics_df_updated.pkl', 'rb') as hello:\n",
    "#     df = pickle.load(hello)"
   ]
  },
  {
   "cell_type": "code",
   "execution_count": 448,
   "metadata": {
    "scrolled": true
   },
   "outputs": [
    {
     "data": {
      "text/html": [
       "<div>\n",
       "<style scoped>\n",
       "    .dataframe tbody tr th:only-of-type {\n",
       "        vertical-align: middle;\n",
       "    }\n",
       "\n",
       "    .dataframe tbody tr th {\n",
       "        vertical-align: top;\n",
       "    }\n",
       "\n",
       "    .dataframe thead th {\n",
       "        text-align: right;\n",
       "    }\n",
       "</style>\n",
       "<table border=\"1\" class=\"dataframe\">\n",
       "  <thead>\n",
       "    <tr style=\"text-align: right;\">\n",
       "      <th></th>\n",
       "      <th>year</th>\n",
       "      <th>title</th>\n",
       "      <th>artist</th>\n",
       "      <th>lyrics</th>\n",
       "    </tr>\n",
       "  </thead>\n",
       "  <tbody>\n",
       "    <tr>\n",
       "      <th>4233</th>\n",
       "      <td>2010</td>\n",
       "      <td>WHATAYA WANT FROM ME</td>\n",
       "      <td>Adam Lambert</td>\n",
       "      <td>Hey, slow it down\\nWhataya want from me?\\nWhat...</td>\n",
       "    </tr>\n",
       "    <tr>\n",
       "      <th>4234</th>\n",
       "      <td>2010</td>\n",
       "      <td>WE ARE THE WORLD 25: FOR HAITI</td>\n",
       "      <td>Artists for Haiti</td>\n",
       "      <td>Justin Bieber:\\nThere comes a time\\nWhen we he...</td>\n",
       "    </tr>\n",
       "    <tr>\n",
       "      <th>4235</th>\n",
       "      <td>2010</td>\n",
       "      <td>NOTHIN’ ON YOU</td>\n",
       "      <td>B.o.B featuring Bruno Mars</td>\n",
       "      <td>Finding good music can be a challenge. With su...</td>\n",
       "    </tr>\n",
       "    <tr>\n",
       "      <th>4236</th>\n",
       "      <td>2010</td>\n",
       "      <td>AIRPLANES</td>\n",
       "      <td>B.o.B featuring Eminem &amp; Hayley Williams</td>\n",
       "      <td>Varsayabilir miyiz ki uçakların\\nGece gökyüzün...</td>\n",
       "    </tr>\n",
       "    <tr>\n",
       "      <th>4237</th>\n",
       "      <td>2010</td>\n",
       "      <td>AIRPLANES</td>\n",
       "      <td>B.o.B featuring Hayley Williams of Paramore</td>\n",
       "      <td>DON'T LET ME FALL\\n\\n(Bobby Simmons Jr., Clare...</td>\n",
       "    </tr>\n",
       "    <tr>\n",
       "      <th>4238</th>\n",
       "      <td>2010</td>\n",
       "      <td>MAGIC</td>\n",
       "      <td>B.o.B featuring Rivers Cuomo</td>\n",
       "      <td>DON'T LET ME FALL\\n\\n(Bobby Simmons Jr., Clare...</td>\n",
       "    </tr>\n",
       "    <tr>\n",
       "      <th>4239</th>\n",
       "      <td>2010</td>\n",
       "      <td>JUST THE WAY YOU ARE</td>\n",
       "      <td>Bruno Mars</td>\n",
       "      <td>Oh, her eyes, her eyes\\nMake the stars look li...</td>\n",
       "    </tr>\n",
       "    <tr>\n",
       "      <th>4240</th>\n",
       "      <td>2010</td>\n",
       "      <td>GRENADE</td>\n",
       "      <td>Bruno Mars</td>\n",
       "      <td>Easy come, easy go, that's just how you live, ...</td>\n",
       "    </tr>\n",
       "    <tr>\n",
       "      <th>4241</th>\n",
       "      <td>2010</td>\n",
       "      <td>F**K YOU (FORGET YOU)</td>\n",
       "      <td>Cee Lo Green</td>\n",
       "      <td>See you driving 'round town\\nWith the girl I l...</td>\n",
       "    </tr>\n",
       "    <tr>\n",
       "      <th>4242</th>\n",
       "      <td>2010</td>\n",
       "      <td>FIND YOUR LOVE</td>\n",
       "      <td>Drake</td>\n",
       "      <td>I'm more than just an option (Hey, hey, hey)\\n...</td>\n",
       "    </tr>\n",
       "    <tr>\n",
       "      <th>4243</th>\n",
       "      <td>2010</td>\n",
       "      <td>NOT AFRAID</td>\n",
       "      <td>Eminem</td>\n",
       "      <td>I'm not afraid (I'm not afraid)\\nTo take a sta...</td>\n",
       "    </tr>\n",
       "    <tr>\n",
       "      <th>4244</th>\n",
       "      <td>2010</td>\n",
       "      <td>LOVE THE WAY YOU LIE</td>\n",
       "      <td>Eminem featuring Rihanna</td>\n",
       "      <td>Parody of \"Love the Way You Lie\" performed by ...</td>\n",
       "    </tr>\n",
       "    <tr>\n",
       "      <th>4245</th>\n",
       "      <td>2010</td>\n",
       "      <td>I LIKE IT</td>\n",
       "      <td>Enrique Iglesias featuring Pitbull</td>\n",
       "      <td>It's my time It's my life\\nI can do what I lik...</td>\n",
       "    </tr>\n",
       "    <tr>\n",
       "      <th>4246</th>\n",
       "      <td>2010</td>\n",
       "      <td>LIKE A G6</td>\n",
       "      <td>Far</td>\n",
       "      <td>Poppin bottles in the ice, like a blizzard\\nWh...</td>\n",
       "    </tr>\n",
       "    <tr>\n",
       "      <th>4247</th>\n",
       "      <td>2010</td>\n",
       "      <td>CLUB CAN’T HANDLE ME</td>\n",
       "      <td>Flo Rida featuring David Guetta</td>\n",
       "      <td>You know I know how\\nTo make 'em stop and star...</td>\n",
       "    </tr>\n",
       "    <tr>\n",
       "      <th>4248</th>\n",
       "      <td>2010</td>\n",
       "      <td>IN MY HEAD</td>\n",
       "      <td>Jason DeRulo</td>\n",
       "      <td>Jason Derulo\\n(Beluga Heights)\\n(J-J-J-J-J.R.)...</td>\n",
       "    </tr>\n",
       "    <tr>\n",
       "      <th>4249</th>\n",
       "      <td>2010</td>\n",
       "      <td>RIDIN’ SOLO</td>\n",
       "      <td>Jason Derulo</td>\n",
       "      <td>Mmmm, yeah, yeah\\nYeah, yeah, yeah\\n\\n\\nI'm fe...</td>\n",
       "    </tr>\n",
       "    <tr>\n",
       "      <th>4250</th>\n",
       "      <td>2010</td>\n",
       "      <td>DO YOU REMEMBER</td>\n",
       "      <td>Jay Sean featuring Sean Paul &amp; Lil Jon</td>\n",
       "      <td>Hey! Jay Sean, hey! (Mmh, yeah)\\nSean Paul\\nLi...</td>\n",
       "    </tr>\n",
       "    <tr>\n",
       "      <th>4251</th>\n",
       "      <td>2010</td>\n",
       "      <td>YOUNG FOREVER</td>\n",
       "      <td>Jay-Z</td>\n",
       "      <td>Let's dance in style, let's dance for a while\\...</td>\n",
       "    </tr>\n",
       "    <tr>\n",
       "      <th>4252</th>\n",
       "      <td>2010</td>\n",
       "      <td>BABY</td>\n",
       "      <td>Justin Bieber featuring Ludacris</td>\n",
       "      <td>Hey, Cegrey here\\nI'm always here, I'm here fo...</td>\n",
       "    </tr>\n",
       "    <tr>\n",
       "      <th>4253</th>\n",
       "      <td>2010</td>\n",
       "      <td>TEENAGE DREAM</td>\n",
       "      <td>Katy Perry</td>\n",
       "      <td>You think I'm pretty without any makeup on\\nYo...</td>\n",
       "    </tr>\n",
       "    <tr>\n",
       "      <th>4254</th>\n",
       "      <td>2010</td>\n",
       "      <td>FIREWORK</td>\n",
       "      <td>Katy Perry</td>\n",
       "      <td>Do you ever feel like a plastic bag\\nDrifting ...</td>\n",
       "    </tr>\n",
       "    <tr>\n",
       "      <th>4255</th>\n",
       "      <td>2010</td>\n",
       "      <td>CALIFORNIA GURLS</td>\n",
       "      <td>Katy Perry featuring Snoop Dogg</td>\n",
       "      <td>2000\\n#1 Breathe by Faith Hill vs. #4 I Wanna ...</td>\n",
       "    </tr>\n",
       "    <tr>\n",
       "      <th>4256</th>\n",
       "      <td>2010</td>\n",
       "      <td>WE R WHO WE R</td>\n",
       "      <td>Ke</td>\n",
       "      <td>Hot and dangerous\\nIf you’re one of us, then r...</td>\n",
       "    </tr>\n",
       "    <tr>\n",
       "      <th>4257</th>\n",
       "      <td>2010</td>\n",
       "      <td>YOUR LOVE IS MY DRUG</td>\n",
       "      <td>Ke</td>\n",
       "      <td>Maybe I need some rehab\\nOr maybe just need so...</td>\n",
       "    </tr>\n",
       "    <tr>\n",
       "      <th>4258</th>\n",
       "      <td>2010</td>\n",
       "      <td>TAKE IT OFF</td>\n",
       "      <td>Ke</td>\n",
       "      <td>There's a place downtown where the freaks all ...</td>\n",
       "    </tr>\n",
       "    <tr>\n",
       "      <th>4259</th>\n",
       "      <td>2010</td>\n",
       "      <td>BULLETPROOF</td>\n",
       "      <td>La Roux</td>\n",
       "      <td>Been there, done that, messed around\\nI’m havi...</td>\n",
       "    </tr>\n",
       "    <tr>\n",
       "      <th>4260</th>\n",
       "      <td>2010</td>\n",
       "      <td>ALEJANDRO</td>\n",
       "      <td>Lady Gaga</td>\n",
       "      <td>I know that we are young, and I know that you ...</td>\n",
       "    </tr>\n",
       "    <tr>\n",
       "      <th>4261</th>\n",
       "      <td>2010</td>\n",
       "      <td>TELEPHONE</td>\n",
       "      <td>Lady Gaga featuring Beyonce</td>\n",
       "      <td>Révélation francophone de l'année\\nJoyce Jonat...</td>\n",
       "    </tr>\n",
       "    <tr>\n",
       "      <th>4262</th>\n",
       "      <td>2010</td>\n",
       "      <td>HOW LOW</td>\n",
       "      <td>Ludacris</td>\n",
       "      <td>How low can you go? How low can you go?\\nHow l...</td>\n",
       "    </tr>\n",
       "    <tr>\n",
       "      <th>4263</th>\n",
       "      <td>2010</td>\n",
       "      <td>COOLER THAN ME</td>\n",
       "      <td>Mike Posner</td>\n",
       "      <td>If I could write you a song to make you fall i...</td>\n",
       "    </tr>\n",
       "    <tr>\n",
       "      <th>4264</th>\n",
       "      <td>2010</td>\n",
       "      <td>JUST A DREAM</td>\n",
       "      <td>Nelly</td>\n",
       "      <td>Uhh, uhh, uhh\\nI was thinking 'bout her, think...</td>\n",
       "    </tr>\n",
       "    <tr>\n",
       "      <th>4265</th>\n",
       "      <td>2010</td>\n",
       "      <td>RAISE YOUR GLASS</td>\n",
       "      <td>P</td>\n",
       "      <td>Right, right, turn off the lights\\nWe're gonna...</td>\n",
       "    </tr>\n",
       "    <tr>\n",
       "      <th>4266</th>\n",
       "      <td>2010</td>\n",
       "      <td>ONLY GIRL (IN THE WORLD)</td>\n",
       "      <td>Rihanna</td>\n",
       "      <td>La-la-la-la\\nLa-la-la-la\\nLa-la-la-la (Uh, yea...</td>\n",
       "    </tr>\n",
       "    <tr>\n",
       "      <th>4267</th>\n",
       "      <td>2010</td>\n",
       "      <td>RUDE BOY</td>\n",
       "      <td>Rihanna</td>\n",
       "      <td>Come here, rude boy, boy, can you get it up?\\n...</td>\n",
       "    </tr>\n",
       "    <tr>\n",
       "      <th>4268</th>\n",
       "      <td>2010</td>\n",
       "      <td>WHAT’S MY NAME?</td>\n",
       "      <td>Rihanna featuring Drake</td>\n",
       "      <td>#50) Trey Songz ft. Drake- The Usual\\n\\n#49) F...</td>\n",
       "    </tr>\n",
       "    <tr>\n",
       "      <th>4269</th>\n",
       "      <td>2010</td>\n",
       "      <td>HARD</td>\n",
       "      <td>Rihanna featuring Jeezy</td>\n",
       "      <td>I just turned 18 man I'm grown\\nGot facial hai...</td>\n",
       "    </tr>\n",
       "    <tr>\n",
       "      <th>4270</th>\n",
       "      <td>2010</td>\n",
       "      <td>DYNAMITE</td>\n",
       "      <td>Taio Cruz</td>\n",
       "      <td>I came to dance, dance, dance, dance (Yeah)\\nI...</td>\n",
       "    </tr>\n",
       "    <tr>\n",
       "      <th>4271</th>\n",
       "      <td>2010</td>\n",
       "      <td>BREAK YOUR HEART</td>\n",
       "      <td>Taio Cruz featuring Ludacris</td>\n",
       "      <td>\"10\". Black Eyed Peas - 'Boom Boom Pow\"\\n\\n\\nI...</td>\n",
       "    </tr>\n",
       "    <tr>\n",
       "      <th>4272</th>\n",
       "      <td>2010</td>\n",
       "      <td>MINE</td>\n",
       "      <td>Taylor Swift</td>\n",
       "      <td>You were in college, working part-time, waitin...</td>\n",
       "    </tr>\n",
       "    <tr>\n",
       "      <th>4273</th>\n",
       "      <td>2010</td>\n",
       "      <td>HEY, SOUL SISTER</td>\n",
       "      <td>Train</td>\n",
       "      <td>Heyy\\nHe-e-e-e-ey\\nHe-e-e-e-ey\\n\\n\\nYour lipst...</td>\n",
       "    </tr>\n",
       "    <tr>\n",
       "      <th>4274</th>\n",
       "      <td>2010</td>\n",
       "      <td>BILLIONAIRE</td>\n",
       "      <td>Travie McCoy featuring Bruno Mars</td>\n",
       "      <td>Elementary School and Younger\\nAdam Lambert - ...</td>\n",
       "    </tr>\n",
       "    <tr>\n",
       "      <th>4275</th>\n",
       "      <td>2010</td>\n",
       "      <td>SAY AAH</td>\n",
       "      <td>Trey Songz featuring Fabolous</td>\n",
       "      <td>Finding good music can be a challenge. With su...</td>\n",
       "    </tr>\n",
       "    <tr>\n",
       "      <th>4276</th>\n",
       "      <td>2010</td>\n",
       "      <td>BOTTOMS UP</td>\n",
       "      <td>Trey Songz featuring Nicki Minaj</td>\n",
       "      <td>\"Ass Drop\" by Wiz Khalifa\\n\"Ayo\" by Chris Brow...</td>\n",
       "    </tr>\n",
       "    <tr>\n",
       "      <th>4277</th>\n",
       "      <td>2010</td>\n",
       "      <td>DJ GOT US FALLIN’ IN LOVE</td>\n",
       "      <td>Usher featuring Pitbull</td>\n",
       "      <td>Usher, Usher, Usher\\nYeah, man\\n\\n\\nSo we back...</td>\n",
       "    </tr>\n",
       "    <tr>\n",
       "      <th>4278</th>\n",
       "      <td>2010</td>\n",
       "      <td>OMG</td>\n",
       "      <td>Usher featuring will.i.am</td>\n",
       "      <td>Finding good music can be a challenge. With su...</td>\n",
       "    </tr>\n",
       "    <tr>\n",
       "      <th>4279</th>\n",
       "      <td>2010</td>\n",
       "      <td>BEDROCK</td>\n",
       "      <td>Young Money featuring Lloyd</td>\n",
       "      <td>To honor the 25th anniversary of Billboard's H...</td>\n",
       "    </tr>\n",
       "    <tr>\n",
       "      <th>4280</th>\n",
       "      <td>2010</td>\n",
       "      <td>ROCK THAT BODY</td>\n",
       "      <td>the Black Eyed Peas</td>\n",
       "      <td>I wanna rock right now\\nI wanna, I wanna rock ...</td>\n",
       "    </tr>\n",
       "    <tr>\n",
       "      <th>4281</th>\n",
       "      <td>2010</td>\n",
       "      <td>IMMA BE</td>\n",
       "      <td>the Black Eyed Peas</td>\n",
       "      <td>Verse 1:\\nThey overdosing on my swag\\nPut the ...</td>\n",
       "    </tr>\n",
       "    <tr>\n",
       "      <th>4282</th>\n",
       "      <td>2010</td>\n",
       "      <td>THE TIME (DIRTY BIT)</td>\n",
       "      <td>the Black Eyed Peas</td>\n",
       "      <td>This is international\\nBig mega radio smasher\\...</td>\n",
       "    </tr>\n",
       "  </tbody>\n",
       "</table>\n",
       "</div>"
      ],
      "text/plain": [
       "      year                           title  \\\n",
       "4233  2010            WHATAYA WANT FROM ME   \n",
       "4234  2010  WE ARE THE WORLD 25: FOR HAITI   \n",
       "4235  2010                  NOTHIN’ ON YOU   \n",
       "4236  2010                       AIRPLANES   \n",
       "4237  2010                       AIRPLANES   \n",
       "4238  2010                           MAGIC   \n",
       "4239  2010            JUST THE WAY YOU ARE   \n",
       "4240  2010                         GRENADE   \n",
       "4241  2010           F**K YOU (FORGET YOU)   \n",
       "4242  2010                  FIND YOUR LOVE   \n",
       "4243  2010                      NOT AFRAID   \n",
       "4244  2010            LOVE THE WAY YOU LIE   \n",
       "4245  2010                       I LIKE IT   \n",
       "4246  2010                       LIKE A G6   \n",
       "4247  2010            CLUB CAN’T HANDLE ME   \n",
       "4248  2010                      IN MY HEAD   \n",
       "4249  2010                     RIDIN’ SOLO   \n",
       "4250  2010                 DO YOU REMEMBER   \n",
       "4251  2010                   YOUNG FOREVER   \n",
       "4252  2010                            BABY   \n",
       "4253  2010                   TEENAGE DREAM   \n",
       "4254  2010                        FIREWORK   \n",
       "4255  2010                CALIFORNIA GURLS   \n",
       "4256  2010                   WE R WHO WE R   \n",
       "4257  2010            YOUR LOVE IS MY DRUG   \n",
       "4258  2010                     TAKE IT OFF   \n",
       "4259  2010                     BULLETPROOF   \n",
       "4260  2010                       ALEJANDRO   \n",
       "4261  2010                       TELEPHONE   \n",
       "4262  2010                         HOW LOW   \n",
       "4263  2010                  COOLER THAN ME   \n",
       "4264  2010                    JUST A DREAM   \n",
       "4265  2010                RAISE YOUR GLASS   \n",
       "4266  2010        ONLY GIRL (IN THE WORLD)   \n",
       "4267  2010                        RUDE BOY   \n",
       "4268  2010                 WHAT’S MY NAME?   \n",
       "4269  2010                            HARD   \n",
       "4270  2010                        DYNAMITE   \n",
       "4271  2010                BREAK YOUR HEART   \n",
       "4272  2010                            MINE   \n",
       "4273  2010                HEY, SOUL SISTER   \n",
       "4274  2010                     BILLIONAIRE   \n",
       "4275  2010                         SAY AAH   \n",
       "4276  2010                      BOTTOMS UP   \n",
       "4277  2010       DJ GOT US FALLIN’ IN LOVE   \n",
       "4278  2010                             OMG   \n",
       "4279  2010                         BEDROCK   \n",
       "4280  2010                  ROCK THAT BODY   \n",
       "4281  2010                         IMMA BE   \n",
       "4282  2010            THE TIME (DIRTY BIT)   \n",
       "\n",
       "                                           artist  \\\n",
       "4233                                 Adam Lambert   \n",
       "4234                            Artists for Haiti   \n",
       "4235                   B.o.B featuring Bruno Mars   \n",
       "4236     B.o.B featuring Eminem & Hayley Williams   \n",
       "4237  B.o.B featuring Hayley Williams of Paramore   \n",
       "4238                 B.o.B featuring Rivers Cuomo   \n",
       "4239                                   Bruno Mars   \n",
       "4240                                   Bruno Mars   \n",
       "4241                                 Cee Lo Green   \n",
       "4242                                        Drake   \n",
       "4243                                       Eminem   \n",
       "4244                     Eminem featuring Rihanna   \n",
       "4245           Enrique Iglesias featuring Pitbull   \n",
       "4246                                          Far   \n",
       "4247              Flo Rida featuring David Guetta   \n",
       "4248                                 Jason DeRulo   \n",
       "4249                                 Jason Derulo   \n",
       "4250       Jay Sean featuring Sean Paul & Lil Jon   \n",
       "4251                                        Jay-Z   \n",
       "4252             Justin Bieber featuring Ludacris   \n",
       "4253                                   Katy Perry   \n",
       "4254                                   Katy Perry   \n",
       "4255              Katy Perry featuring Snoop Dogg   \n",
       "4256                                           Ke   \n",
       "4257                                           Ke   \n",
       "4258                                           Ke   \n",
       "4259                                      La Roux   \n",
       "4260                                    Lady Gaga   \n",
       "4261                  Lady Gaga featuring Beyonce   \n",
       "4262                                     Ludacris   \n",
       "4263                                  Mike Posner   \n",
       "4264                                        Nelly   \n",
       "4265                                            P   \n",
       "4266                                      Rihanna   \n",
       "4267                                      Rihanna   \n",
       "4268                      Rihanna featuring Drake   \n",
       "4269                      Rihanna featuring Jeezy   \n",
       "4270                                    Taio Cruz   \n",
       "4271                 Taio Cruz featuring Ludacris   \n",
       "4272                                 Taylor Swift   \n",
       "4273                                        Train   \n",
       "4274            Travie McCoy featuring Bruno Mars   \n",
       "4275                Trey Songz featuring Fabolous   \n",
       "4276             Trey Songz featuring Nicki Minaj   \n",
       "4277                      Usher featuring Pitbull   \n",
       "4278                    Usher featuring will.i.am   \n",
       "4279                  Young Money featuring Lloyd   \n",
       "4280                          the Black Eyed Peas   \n",
       "4281                          the Black Eyed Peas   \n",
       "4282                          the Black Eyed Peas   \n",
       "\n",
       "                                                 lyrics  \n",
       "4233  Hey, slow it down\\nWhataya want from me?\\nWhat...  \n",
       "4234  Justin Bieber:\\nThere comes a time\\nWhen we he...  \n",
       "4235  Finding good music can be a challenge. With su...  \n",
       "4236  Varsayabilir miyiz ki uçakların\\nGece gökyüzün...  \n",
       "4237  DON'T LET ME FALL\\n\\n(Bobby Simmons Jr., Clare...  \n",
       "4238  DON'T LET ME FALL\\n\\n(Bobby Simmons Jr., Clare...  \n",
       "4239  Oh, her eyes, her eyes\\nMake the stars look li...  \n",
       "4240  Easy come, easy go, that's just how you live, ...  \n",
       "4241  See you driving 'round town\\nWith the girl I l...  \n",
       "4242  I'm more than just an option (Hey, hey, hey)\\n...  \n",
       "4243  I'm not afraid (I'm not afraid)\\nTo take a sta...  \n",
       "4244  Parody of \"Love the Way You Lie\" performed by ...  \n",
       "4245  It's my time It's my life\\nI can do what I lik...  \n",
       "4246  Poppin bottles in the ice, like a blizzard\\nWh...  \n",
       "4247  You know I know how\\nTo make 'em stop and star...  \n",
       "4248  Jason Derulo\\n(Beluga Heights)\\n(J-J-J-J-J.R.)...  \n",
       "4249  Mmmm, yeah, yeah\\nYeah, yeah, yeah\\n\\n\\nI'm fe...  \n",
       "4250  Hey! Jay Sean, hey! (Mmh, yeah)\\nSean Paul\\nLi...  \n",
       "4251  Let's dance in style, let's dance for a while\\...  \n",
       "4252  Hey, Cegrey here\\nI'm always here, I'm here fo...  \n",
       "4253  You think I'm pretty without any makeup on\\nYo...  \n",
       "4254  Do you ever feel like a plastic bag\\nDrifting ...  \n",
       "4255  2000\\n#1 Breathe by Faith Hill vs. #4 I Wanna ...  \n",
       "4256  Hot and dangerous\\nIf you’re one of us, then r...  \n",
       "4257  Maybe I need some rehab\\nOr maybe just need so...  \n",
       "4258  There's a place downtown where the freaks all ...  \n",
       "4259  Been there, done that, messed around\\nI’m havi...  \n",
       "4260  I know that we are young, and I know that you ...  \n",
       "4261  Révélation francophone de l'année\\nJoyce Jonat...  \n",
       "4262  How low can you go? How low can you go?\\nHow l...  \n",
       "4263  If I could write you a song to make you fall i...  \n",
       "4264  Uhh, uhh, uhh\\nI was thinking 'bout her, think...  \n",
       "4265  Right, right, turn off the lights\\nWe're gonna...  \n",
       "4266  La-la-la-la\\nLa-la-la-la\\nLa-la-la-la (Uh, yea...  \n",
       "4267  Come here, rude boy, boy, can you get it up?\\n...  \n",
       "4268  #50) Trey Songz ft. Drake- The Usual\\n\\n#49) F...  \n",
       "4269  I just turned 18 man I'm grown\\nGot facial hai...  \n",
       "4270  I came to dance, dance, dance, dance (Yeah)\\nI...  \n",
       "4271  \"10\". Black Eyed Peas - 'Boom Boom Pow\"\\n\\n\\nI...  \n",
       "4272  You were in college, working part-time, waitin...  \n",
       "4273  Heyy\\nHe-e-e-e-ey\\nHe-e-e-e-ey\\n\\n\\nYour lipst...  \n",
       "4274  Elementary School and Younger\\nAdam Lambert - ...  \n",
       "4275  Finding good music can be a challenge. With su...  \n",
       "4276  \"Ass Drop\" by Wiz Khalifa\\n\"Ayo\" by Chris Brow...  \n",
       "4277  Usher, Usher, Usher\\nYeah, man\\n\\n\\nSo we back...  \n",
       "4278  Finding good music can be a challenge. With su...  \n",
       "4279  To honor the 25th anniversary of Billboard's H...  \n",
       "4280  I wanna rock right now\\nI wanna, I wanna rock ...  \n",
       "4281  Verse 1:\\nThey overdosing on my swag\\nPut the ...  \n",
       "4282  This is international\\nBig mega radio smasher\\...  "
      ]
     },
     "execution_count": 448,
     "metadata": {},
     "output_type": "execute_result"
    }
   ],
   "source": [
    "df[df.year == 2010]"
   ]
  },
  {
   "cell_type": "code",
   "execution_count": 441,
   "metadata": {
    "scrolled": false
   },
   "outputs": [
    {
     "name": "stdout",
     "output_type": "stream",
     "text": [
      "\"Hey, sorry I missed your call, just leave a message after the beep\"\n",
      "\"Hey, yeah, it's me, just been thinking about everything tonight and I don't know. I just miss you so much\n",
      "Give me a call back if you can?\"\n",
      "\n",
      "\n",
      "Picture perfect memories\n",
      "Scattered all around the floor\n",
      "Reachin' for the phone 'cause I can't fight it anymore\n",
      "\n",
      "\n",
      "And I wonder if I ever cross your mind\n",
      "For me, it happens all the time\n",
      "\n",
      "\n",
      "It's a quarter after one, I'm all alone and I need you now\n",
      "Said I wouldn't call, but I've lost all control and I need you now\n",
      "And I don't know how I can do without\n",
      "I just need you now\n",
      "\n",
      "\n",
      "Another shot of whiskey\n",
      "Can't stop lookin' at the door\n",
      "Wishing you'd come sweeping in the way you did before\n",
      "\n",
      "\n",
      "And I wonder if I ever cross your mind\n",
      "For me, it happens all the time\n",
      "\n",
      "\n",
      "It's a quarter after one, I'm a little drunk and I need you now\n",
      "Said I wouldn't call, but I've lost all control and I need you now\n",
      "And I don't know how I can do without\n",
      "I just need you now\n",
      "Whoa, oh\n",
      "\n",
      "\n",
      "I guess I'd rather hurt than feel nothin' at all\n",
      "\n",
      "\n",
      "It's a quarter after one, I'm all alone and I need you now\n",
      "And I said I wouldn't call, but I'm a little drunk and I need you now\n",
      "And I don't know how I can do without\n",
      "I just need you now\n",
      "\n",
      "\n",
      "I just need you now\n",
      "Oh baby, I need you now\n"
     ]
    }
   ],
   "source": [
    "print(df.loc[4206, 'lyrics'])"
   ]
  },
  {
   "cell_type": "code",
   "execution_count": null,
   "metadata": {},
   "outputs": [],
   "source": [
    "print(df.loc[3659, 'lyrics'])"
   ]
  },
  {
   "cell_type": "markdown",
   "metadata": {},
   "source": [
    "# GRAVEYARD"
   ]
  },
  {
   "cell_type": "code",
   "execution_count": null,
   "metadata": {},
   "outputs": [],
   "source": []
  },
  {
   "cell_type": "code",
   "execution_count": null,
   "metadata": {},
   "outputs": [],
   "source": [
    "df.loc[1324, 'lyrics'] = lyrics_grabber(access_token, 'The Morning After (Theme From The Poseidon Adventure)')"
   ]
  },
  {
   "cell_type": "code",
   "execution_count": null,
   "metadata": {},
   "outputs": [],
   "source": [
    "remove_n_lines(2, df.loc[1386, 'lyrics'])"
   ]
  },
  {
   "cell_type": "code",
   "execution_count": null,
   "metadata": {},
   "outputs": [],
   "source": [
    "df[df.artist == 'The Larks']"
   ]
  },
  {
   "cell_type": "code",
   "execution_count": null,
   "metadata": {},
   "outputs": [],
   "source": []
  },
  {
   "cell_type": "code",
   "execution_count": null,
   "metadata": {},
   "outputs": [],
   "source": [
    "rescrape('http://www.songlyrics.com/the-larks/jerk-lyrics/',\n",
    "                                 soup.find('p', attrs={'class': 'songLyricsV14 iComment-text'}).contents)"
   ]
  },
  {
   "cell_type": "code",
   "execution_count": null,
   "metadata": {},
   "outputs": [],
   "source": [
    "soup = soupify('http://www.songlyrics.com/the-larks/jerk-lyrics/')"
   ]
  },
  {
   "cell_type": "code",
   "execution_count": null,
   "metadata": {},
   "outputs": [],
   "source": [
    "soup.find('p', attrs={'class': 'songLyricsV14 iComment-text'}).contents"
   ]
  },
  {
   "cell_type": "code",
   "execution_count": null,
   "metadata": {},
   "outputs": [],
   "source": [
    "'\\n'.join(\n",
    "    [line.strip() for line in soup.find('div', attrs={'class': 'inner'}).contents\n",
    "     if isinstance(line, str) if line.strip()]\n",
    ")"
   ]
  },
  {
   "cell_type": "code",
   "execution_count": null,
   "metadata": {},
   "outputs": [],
   "source": [
    "soup.find('div', attrs={'class': 'inner'}).contents"
   ]
  },
  {
   "cell_type": "code",
   "execution_count": null,
   "metadata": {},
   "outputs": [],
   "source": [
    "please break this code"
   ]
  },
  {
   "cell_type": "code",
   "execution_count": null,
   "metadata": {},
   "outputs": [],
   "source": [
    "print(df.loc[81, 'lyrics'])"
   ]
  },
  {
   "cell_type": "code",
   "execution_count": null,
   "metadata": {},
   "outputs": [],
   "source": [
    "regex = re.compile(\".*?\\[(.*?)\\]\")\n",
    "result = re.findall(regex, df.loc[1, 'lyrics'])\n",
    "result"
   ]
  },
  {
   "cell_type": "code",
   "execution_count": null,
   "metadata": {},
   "outputs": [],
   "source": []
  },
  {
   "cell_type": "code",
   "execution_count": null,
   "metadata": {},
   "outputs": [],
   "source": [
    "df['lyrics'] = df.lyrics.map(remove_brackets)\n",
    "df.lyrics.head(100)"
   ]
  },
  {
   "cell_type": "code",
   "execution_count": null,
   "metadata": {},
   "outputs": [],
   "source": []
  },
  {
   "cell_type": "code",
   "execution_count": null,
   "metadata": {},
   "outputs": [],
   "source": [
    "# graph number of unique songs per year\n",
    "plt.figure(figsize=(10,6))\n",
    "plt.plot([len(year) for year in all_top10s])\n",
    "plt.xticks(ticks=range(0,60,5), labels=range(1960,2021,5))\n",
    "plt.show()"
   ]
  },
  {
   "cell_type": "code",
   "execution_count": null,
   "metadata": {},
   "outputs": [],
   "source": [
    "# graph number of unique songs per year\n",
    "plt.figure(figsize=(10,6))\n",
    "sns.barplot(x=[year for year in range(1960,2020)], y=[len(year) for year in all_top10s])\n",
    "plt.xticks(ticks=range(0,60,5), labels=range(1960,2021,5))\n",
    "plt.show()"
   ]
  },
  {
   "cell_type": "code",
   "execution_count": 149,
   "metadata": {},
   "outputs": [],
   "source": [
    "# two songs combined, so separating here\n",
    "df.loc[985, 'title'] = 'DOWN ON THE CORNER'\n",
    "df.loc[985, 'lyrics'] = lyrics_grabber(access_token, 'creedence down on the corner')\n",
    "\n",
    "df.loc[986, 'title'] = 'FORTUNATE SON'\n",
    "df.loc[986, 'lyrics'] = lyrics_grabber(access_token, 'creedence fortunate son')"
   ]
  },
  {
   "cell_type": "code",
   "execution_count": 168,
   "metadata": {},
   "outputs": [],
   "source": [
    "# separating song combos\n",
    "ccr1 = split_combos(1092)\n",
    "\n",
    "ccr2 = split_combos(1093)\n",
    "\n",
    "ccr3 = split_combos(1094)\n",
    "\n",
    "gh = split_combos(1109)\n",
    "\n",
    "j5 = split_combos(1113)\n",
    "\n",
    "sfs = split_combos(1132)\n",
    "\n",
    "bea = split_combos(1139)\n",
    "\n",
    "t5s = split_combos(1145)\n",
    "\n",
    "tgw = split_combos(1149)\n",
    "\n",
    "addons = [ccr1, ccr2, ccr3, gh, j5, sfs, bea, t5s, tgw]\n",
    "temp_df = pd.DataFrame(addons)\n",
    "\n",
    "df = pd.concat([df, temp_df])"
   ]
  }
 ],
 "metadata": {
  "kernelspec": {
   "display_name": "Python [conda env:learn-env] *",
   "language": "python",
   "name": "conda-env-learn-env-py"
  },
  "language_info": {
   "codemirror_mode": {
    "name": "ipython",
    "version": 3
   },
   "file_extension": ".py",
   "mimetype": "text/x-python",
   "name": "python",
   "nbconvert_exporter": "python",
   "pygments_lexer": "ipython3",
   "version": "3.6.9"
  }
 },
 "nbformat": 4,
 "nbformat_minor": 2
}
