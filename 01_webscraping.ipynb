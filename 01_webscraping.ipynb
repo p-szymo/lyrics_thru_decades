{
 "cells": [
  {
   "cell_type": "markdown",
   "metadata": {},
   "source": [
    "# Music Lyrics Through the Years\n",
    "\n",
    "#### Import (possibly) necessary libraries"
   ]
  },
  {
   "cell_type": "code",
   "execution_count": 1,
   "metadata": {},
   "outputs": [],
   "source": [
    "import pandas as pd; pd.options.display.max_rows = 200\n",
    "import numpy as np\n",
    "\n",
    "import matplotlib.pyplot as plt\n",
    "import seaborn as sns; sns.set_style('ticks')\n",
    "\n",
    "import re\n",
    "from unicodedata import normalize\n",
    "\n",
    "import requests as rq\n",
    "from bs4 import BeautifulSoup as bs\n",
    "from selenium import webdriver\n",
    "\n",
    "import pickle\n",
    "import gzip\n",
    "\n",
    "from functions.webscraping import *\n",
    "\n",
    "import json\n",
    "\n",
    "%load_ext autoreload\n",
    "%autoreload 2"
   ]
  },
  {
   "cell_type": "markdown",
   "metadata": {},
   "source": [
    "## Scrape song title and artist"
   ]
  },
  {
   "cell_type": "code",
   "execution_count": 2,
   "metadata": {},
   "outputs": [
    {
     "name": "stdout",
     "output_type": "stream",
     "text": [
      "CPU times: user 14.7 s, sys: 195 ms, total: 14.9 s\n",
      "Wall time: 1min 51s\n"
     ]
    },
    {
     "data": {
      "text/plain": [
       "60"
      ]
     },
     "execution_count": 2,
     "metadata": {},
     "output_type": "execute_result"
    }
   ],
   "source": [
    "%%time\n",
    "\n",
    "# list of unique songs in top 10 between 1960 and 2019\n",
    "all_top10s = [\n",
    "    yearly_top10s(f'https://top40weekly.com/{year}-all-charts/') for year in range(1960,2020)\n",
    "]\n",
    "\n",
    "# confirm 60 years\n",
    "len(all_top10s)"
   ]
  },
  {
   "cell_type": "code",
   "execution_count": 3,
   "metadata": {},
   "outputs": [
    {
     "data": {
      "text/plain": [
       "5293"
      ]
     },
     "execution_count": 3,
     "metadata": {},
     "output_type": "execute_result"
    }
   ],
   "source": [
    "# number of songs, before removing some duplicates across years\n",
    "sum([len(year) for year in all_top10s])"
   ]
  },
  {
   "cell_type": "code",
   "execution_count": 4,
   "metadata": {},
   "outputs": [],
   "source": [
    "# uncomment to save\n",
    "with gzip.open('data/all_top10s.pkl', 'wb') as goodbye:\n",
    "    pickle.dump(all_top10s, goodbye, protocol=pickle.HIGHEST_PROTOCOL)\n",
    "    \n",
    "# uncomment to load\n",
    "with gzip.open('data/all_top10s.pkl', 'rb') as hello:\n",
    "    all_top10s = pickle.load(hello)"
   ]
  },
  {
   "cell_type": "markdown",
   "metadata": {},
   "source": [
    "- Since some songs may be within the top 10 in two different years, I need to remove those from the list."
   ]
  },
  {
   "cell_type": "code",
   "execution_count": 5,
   "metadata": {},
   "outputs": [],
   "source": [
    "top10s = []\n",
    "\n",
    "for i,year in enumerate(all_top10s):\n",
    "    \n",
    "    for song in year:\n",
    "        \n",
    "        song_dict = {}\n",
    "        song_dict['year'] = i+1960\n",
    "        song_dict['title'] = song[0]\n",
    "        song_dict['artist'] = song[1]\n",
    "        top10s.append(song_dict)"
   ]
  },
  {
   "cell_type": "code",
   "execution_count": 6,
   "metadata": {},
   "outputs": [],
   "source": [
    "temp_df = pd.DataFrame(top10s)\n",
    "temp_df = temp_df.drop_duplicates(subset=['title', 'artist'])\n",
    "\n",
    "unique_top10s = temp_df.to_dict('records')"
   ]
  },
  {
   "cell_type": "code",
   "execution_count": 7,
   "metadata": {},
   "outputs": [
    {
     "data": {
      "text/plain": [
       "4735"
      ]
     },
     "execution_count": 7,
     "metadata": {},
     "output_type": "execute_result"
    }
   ],
   "source": [
    "len(unique_top10s)"
   ]
  },
  {
   "cell_type": "markdown",
   "metadata": {},
   "source": [
    "## Scrape lyrics"
   ]
  },
  {
   "cell_type": "code",
   "execution_count": 8,
   "metadata": {},
   "outputs": [],
   "source": [
    "# parse personal api keys\n",
    "with open('data/api_keys.json', 'r') as json_file:\n",
    "    creds = json.load(json_file)\n",
    "\n",
    "# set the credentials based on the credentials file\n",
    "client_id = creds['client_id']\n",
    "client_secret = creds['client_secret']\n",
    "access_token = creds['access_token']"
   ]
  },
  {
   "cell_type": "code",
   "execution_count": 9,
   "metadata": {},
   "outputs": [
    {
     "name": "stdout",
     "output_type": "stream",
     "text": [
      "Failed grabs:\n",
      "(Down At) PAPA JOE’S The Dixiebelles\n",
      "AN OPEN LETTER TO MY TEENAGE SON Victor Lundberg\n",
      "/ 14 DOWN ON THE CORNER / FORTUNATE SON Creedence Clearwater Revival\n",
      "Timeout raised and caught:\n",
      "HTTPSConnectionPool(host='genius.com', port=443): Read timed out. (read timeout=5)\n",
      "MIDNIGHT COWBOY Ferrante and\n",
      "JUNGLE FEVER The Chakachas\n",
      "YOU AIN Bachman-Turner Overdrive\n",
      "JUJU ON DAT BEAT  Zayion McCall\n",
      "CPU times: user 5min 53s, sys: 15.4 s, total: 6min 9s\n",
      "Wall time: 1h 57min 57s\n"
     ]
    },
    {
     "data": {
      "text/plain": [
       "4735"
      ]
     },
     "execution_count": 9,
     "metadata": {},
     "output_type": "execute_result"
    }
   ],
   "source": [
    "%%time\n",
    "\n",
    "top10s = []\n",
    "print('Failed grabs:')\n",
    "\n",
    "for song in unique_top10s:\n",
    "    \n",
    "    search_term = f\"{song['title']} {song['artist']}\"\n",
    "        \n",
    "    try:\n",
    "        song['lyrics'] = lyrics_grabber(access_token, search_term)\n",
    "\n",
    "    except:\n",
    "        try:\n",
    "            search_term = f\"{re.match('[A-Z,. ]+', song['title']).group()} {' '.join(song['artist'].split()[:2])}\"\n",
    "            song['lyrics'] = lyrics_grabber(access_token, search_term)\n",
    "\n",
    "        except:\n",
    "            print(search_term)\n",
    "            song['lyrics'] = np.nan\n",
    "            \n",
    "    top10s.append(song)\n",
    "        \n",
    "len(top10s)"
   ]
  },
  {
   "cell_type": "code",
   "execution_count": 10,
   "metadata": {},
   "outputs": [
    {
     "data": {
      "text/plain": [
       "(4735, 4)"
      ]
     },
     "execution_count": 10,
     "metadata": {},
     "output_type": "execute_result"
    }
   ],
   "source": [
    "df = pd.DataFrame(top10s)\n",
    "df.shape"
   ]
  },
  {
   "cell_type": "code",
   "execution_count": 11,
   "metadata": {},
   "outputs": [
    {
     "data": {
      "text/html": [
       "<div>\n",
       "<style scoped>\n",
       "    .dataframe tbody tr th:only-of-type {\n",
       "        vertical-align: middle;\n",
       "    }\n",
       "\n",
       "    .dataframe tbody tr th {\n",
       "        vertical-align: top;\n",
       "    }\n",
       "\n",
       "    .dataframe thead th {\n",
       "        text-align: right;\n",
       "    }\n",
       "</style>\n",
       "<table border=\"1\" class=\"dataframe\">\n",
       "  <thead>\n",
       "    <tr style=\"text-align: right;\">\n",
       "      <th></th>\n",
       "      <th>year</th>\n",
       "      <th>title</th>\n",
       "      <th>artist</th>\n",
       "      <th>lyrics</th>\n",
       "    </tr>\n",
       "  </thead>\n",
       "  <tbody>\n",
       "    <tr>\n",
       "      <th>0</th>\n",
       "      <td>1960</td>\n",
       "      <td>THE VILLAGE OF ST. BERNADETTE</td>\n",
       "      <td>Andy Williams</td>\n",
       "      <td>I've traveled far, the land and the sea\\nBeaut...</td>\n",
       "    </tr>\n",
       "    <tr>\n",
       "      <th>1</th>\n",
       "      <td>1960</td>\n",
       "      <td>PAPER ROSES</td>\n",
       "      <td>Anita Bryant</td>\n",
       "      <td>I realize the way your eyes deceived me\\nWith ...</td>\n",
       "    </tr>\n",
       "    <tr>\n",
       "      <th>2</th>\n",
       "      <td>1960</td>\n",
       "      <td>IN MY LITTLE CORNER OF THE WORLD</td>\n",
       "      <td>Anita Bryant</td>\n",
       "      <td>Oh, come along with me\\nTo my little corner of...</td>\n",
       "    </tr>\n",
       "    <tr>\n",
       "      <th>3</th>\n",
       "      <td>1960</td>\n",
       "      <td>O DIO MIO</td>\n",
       "      <td>Annette</td>\n",
       "      <td>[Strofa 1]\\nE un giorno lui mi disse: \"Nei tuo...</td>\n",
       "    </tr>\n",
       "    <tr>\n",
       "      <th>4</th>\n",
       "      <td>1960</td>\n",
       "      <td>WONDERLAND BY NIGHT</td>\n",
       "      <td>Bert Kaempfert</td>\n",
       "      <td>Stars hang suspended\\nAbove a floating yellow ...</td>\n",
       "    </tr>\n",
       "  </tbody>\n",
       "</table>\n",
       "</div>"
      ],
      "text/plain": [
       "   year                             title          artist  \\\n",
       "0  1960     THE VILLAGE OF ST. BERNADETTE   Andy Williams   \n",
       "1  1960                       PAPER ROSES    Anita Bryant   \n",
       "2  1960  IN MY LITTLE CORNER OF THE WORLD    Anita Bryant   \n",
       "3  1960                         O DIO MIO         Annette   \n",
       "4  1960               WONDERLAND BY NIGHT  Bert Kaempfert   \n",
       "\n",
       "                                              lyrics  \n",
       "0  I've traveled far, the land and the sea\\nBeaut...  \n",
       "1  I realize the way your eyes deceived me\\nWith ...  \n",
       "2  Oh, come along with me\\nTo my little corner of...  \n",
       "3  [Strofa 1]\\nE un giorno lui mi disse: \"Nei tuo...  \n",
       "4  Stars hang suspended\\nAbove a floating yellow ...  "
      ]
     },
     "execution_count": 11,
     "metadata": {},
     "output_type": "execute_result"
    }
   ],
   "source": [
    "df.head()"
   ]
  },
  {
   "cell_type": "code",
   "execution_count": 12,
   "metadata": {},
   "outputs": [
    {
     "data": {
      "text/html": [
       "<div>\n",
       "<style scoped>\n",
       "    .dataframe tbody tr th:only-of-type {\n",
       "        vertical-align: middle;\n",
       "    }\n",
       "\n",
       "    .dataframe tbody tr th {\n",
       "        vertical-align: top;\n",
       "    }\n",
       "\n",
       "    .dataframe thead th {\n",
       "        text-align: right;\n",
       "    }\n",
       "</style>\n",
       "<table border=\"1\" class=\"dataframe\">\n",
       "  <thead>\n",
       "    <tr style=\"text-align: right;\">\n",
       "      <th></th>\n",
       "      <th>year</th>\n",
       "      <th>title</th>\n",
       "      <th>artist</th>\n",
       "      <th>lyrics</th>\n",
       "    </tr>\n",
       "  </thead>\n",
       "  <tbody>\n",
       "    <tr>\n",
       "      <th>4730</th>\n",
       "      <td>2019</td>\n",
       "      <td>YOU NEED TO CALM DOWN</td>\n",
       "      <td>Taylor Swift</td>\n",
       "      <td>[Verse 1]\\nYou are somebody that I don't know\\...</td>\n",
       "    </tr>\n",
       "    <tr>\n",
       "      <th>4731</th>\n",
       "      <td>2019</td>\n",
       "      <td>ME!</td>\n",
       "      <td>Taylor Swift featuring Brendon Urie</td>\n",
       "      <td>JANUARY\"Giant\" by Calvin Harris featuring Rag ...</td>\n",
       "    </tr>\n",
       "    <tr>\n",
       "      <th>4732</th>\n",
       "      <td>2019</td>\n",
       "      <td>HEARTLESS</td>\n",
       "      <td>The Weeknd</td>\n",
       "      <td>[Intro]\\nYoung Metro, young Metro, young Metro...</td>\n",
       "    </tr>\n",
       "    <tr>\n",
       "      <th>4733</th>\n",
       "      <td>2019</td>\n",
       "      <td>DANCE MONKEY</td>\n",
       "      <td>Tones and I</td>\n",
       "      <td>[Verse 1]\\nThey say, \"Oh my God, I see the way...</td>\n",
       "    </tr>\n",
       "    <tr>\n",
       "      <th>4734</th>\n",
       "      <td>2019</td>\n",
       "      <td>HIGHEST IN THE ROOM</td>\n",
       "      <td>Travis Scott</td>\n",
       "      <td>[Chorus]\\nI got room in my fumes (Yeah)\\nShe f...</td>\n",
       "    </tr>\n",
       "  </tbody>\n",
       "</table>\n",
       "</div>"
      ],
      "text/plain": [
       "      year                  title                               artist  \\\n",
       "4730  2019  YOU NEED TO CALM DOWN                         Taylor Swift   \n",
       "4731  2019                    ME!  Taylor Swift featuring Brendon Urie   \n",
       "4732  2019              HEARTLESS                           The Weeknd   \n",
       "4733  2019           DANCE MONKEY                          Tones and I   \n",
       "4734  2019    HIGHEST IN THE ROOM                         Travis Scott   \n",
       "\n",
       "                                                 lyrics  \n",
       "4730  [Verse 1]\\nYou are somebody that I don't know\\...  \n",
       "4731  JANUARY\"Giant\" by Calvin Harris featuring Rag ...  \n",
       "4732  [Intro]\\nYoung Metro, young Metro, young Metro...  \n",
       "4733  [Verse 1]\\nThey say, \"Oh my God, I see the way...  \n",
       "4734  [Chorus]\\nI got room in my fumes (Yeah)\\nShe f...  "
      ]
     },
     "execution_count": 12,
     "metadata": {},
     "output_type": "execute_result"
    }
   ],
   "source": [
    "df.tail()"
   ]
  },
  {
   "cell_type": "markdown",
   "metadata": {},
   "source": [
    "### Remove brackets and words contained within\n",
    "- These tend to be denoting verse from chorus (or something similar) or other non-lyric words."
   ]
  },
  {
   "cell_type": "code",
   "execution_count": 13,
   "metadata": {},
   "outputs": [],
   "source": [
    "df['lyrics'] = df.lyrics.map(remove_brackets)"
   ]
  },
  {
   "cell_type": "markdown",
   "metadata": {},
   "source": [
    "### Save/Load"
   ]
  },
  {
   "cell_type": "code",
   "execution_count": 14,
   "metadata": {},
   "outputs": [],
   "source": [
    "# # uncomment to save\n",
    "# with gzip.open('data/lyrics_df.pkl', 'wb') as goodbye:\n",
    "#     pickle.dump(df, goodbye, protocol=pickle.HIGHEST_PROTOCOL)\n",
    "    \n",
    "# # uncomment to load\n",
    "# with gzip.open('data/lyrics_df.pkl', 'rb') as hello:\n",
    "#     df = pickle.load(hello)"
   ]
  },
  {
   "cell_type": "markdown",
   "metadata": {},
   "source": [
    "## Rescrapes\n",
    "\n",
    "### 1960"
   ]
  },
  {
   "cell_type": "code",
   "execution_count": 50,
   "metadata": {},
   "outputs": [],
   "source": [
    "# rescrape\n",
    "df.loc[32, 'lyrics'] = lyrics_grabber(access_token, search_term=\"because they're young duane eddy and the rebels\")\n",
    "df.loc[51, 'lyrics'] = lyrics_grabber(access_token, search_term='jackie wilson night')\n",
    "df.loc[68, 'lyrics'] = lyrics_grabber(access_token, search_term='mister custer')\n",
    "df.loc[75, 'lyrics'] = lyrics_grabber(access_token, search_term='the big hurt toni fisher')\n",
    "df.loc[85, 'lyrics'] = lyrics_grabber(access_token, search_term='Only the Lonely (Know the Way I Feel)')\n",
    "\n",
    "\n",
    "# more complex ones\n",
    "soup = soupify('https://www.flashlyrics.com/lyrics/lolita/sailor-your-home-is-the-sea-41')\n",
    "df.loc[69, 'lyrics'] = '\\n'.join(\n",
    "    [line.contents[0] for line in soup.find('div', attrs={'class': 'main-panel-content'}).find_all('span')\n",
    "     if line.contents][2:]\n",
    ")\n",
    "\n",
    "soup = soupify('https://www.flashlyrics.com/lyrics/the-ivy-three/yogi-79')\n",
    "df.loc[98, 'lyrics'] = '\\n'.join(\n",
    "    [line.contents[0] for line in soup.find('div', attrs={'class': 'main-panel-content'}).find_all('span')\n",
    "     if line.contents]\n",
    ")"
   ]
  },
  {
   "cell_type": "code",
   "execution_count": 52,
   "metadata": {},
   "outputs": [],
   "source": [
    "# remove lines\n",
    "df.loc[45, 'lyrics'] = remove_n_lines(df.loc[45, 'lyrics'], 11)"
   ]
  },
  {
   "cell_type": "code",
   "execution_count": 53,
   "metadata": {},
   "outputs": [],
   "source": [
    "# instrumentals\n",
    "df.loc[38, 'lyrics'] = np.nan\n",
    "df.loc[39, 'lyrics'] = np.nan\n",
    "df.loc[81, 'lyrics'] = np.nan\n",
    "df.loc[102, 'lyrics'] = np.nan"
   ]
  },
  {
   "cell_type": "markdown",
   "metadata": {},
   "source": [
    "### 1961"
   ]
  },
  {
   "cell_type": "code",
   "execution_count": 80,
   "metadata": {
    "scrolled": true
   },
   "outputs": [],
   "source": [
    "# rescrape\n",
    "df.loc[106, 'lyrics'] = lyrics_grabber(access_token, 'arthur lyman yellow bird')\n",
    "df.loc[136, 'lyrics'] = rescrape('https://www.lyricsondemand.com/d/dickanddeedeelyrics/themountainshighlyrics.html',\n",
    "                                 name='div', attrs={'class': 'lcontent'})\n",
    "df.loc[174, 'lyrics'] = lyrics_grabber(access_token, \"ral donner you don't know what you've got\")\n",
    "\n",
    "# more complex ones\n",
    "soup = soupify('https://www.flashlyrics.com/lyrics/adam-wade/as-if-i-didnt-know-55')\n",
    "df.loc[105, 'lyrics'] = '\\n'.join(\n",
    "    [line.contents[0] for line in soup.find('div', attrs={'class': 'main-panel-content'}).find_all('span')\n",
    "     if line.contents]\n",
    ")\n",
    "\n",
    "soup = soupify('https://www.flashlyrics.com/lyrics/ferrante-and-teicher/tonight-12')\n",
    "df.loc[144, 'lyrics'] = '\\n'.join(\n",
    "    [line.contents[0] for line in soup.find('div', attrs={'class': 'main-panel-content'}).find_all('span')\n",
    "     if line.contents]\n",
    ")"
   ]
  },
  {
   "cell_type": "code",
   "execution_count": 81,
   "metadata": {},
   "outputs": [],
   "source": [
    "# instrumentals\n",
    "df.loc[110, 'lyrics'] = np.nan\n",
    "df.loc[145, 'lyrics'] = np.nan\n",
    "df.loc[161, 'lyrics'] = np.nan\n",
    "df.loc[185, 'lyrics'] = np.nan\n",
    "df.loc[198, 'lyrics'] = np.nan"
   ]
  },
  {
   "cell_type": "code",
   "execution_count": 82,
   "metadata": {},
   "outputs": [],
   "source": [
    "# remove lines\n",
    "df.loc[105, 'lyrics'] = remove_n_lines(df.loc[105, 'lyrics'], 2)\n",
    "df.loc[174, 'lyrics'] = remove_n_lines(df.loc[174, 'lyrics'], 5)\n",
    "df.loc[195, 'lyrics'] = remove_n_lines(df.loc[195, 'lyrics'], 10)\n",
    "df.loc[208, 'lyrics'] = remove_n_lines(df.loc[208, 'lyrics'], 3)"
   ]
  },
  {
   "cell_type": "code",
   "execution_count": 83,
   "metadata": {},
   "outputs": [],
   "source": [
    "# update song\n",
    "df.loc[177, 'title'] = 'Corrine, Corrina'"
   ]
  },
  {
   "cell_type": "code",
   "execution_count": 85,
   "metadata": {},
   "outputs": [],
   "source": [
    "# remove duplicate\n",
    "df.drop(index=178, inplace=True)\n",
    "df.drop(index=182, inplace=True)"
   ]
  },
  {
   "cell_type": "markdown",
   "metadata": {},
   "source": [
    "### 1962"
   ]
  },
  {
   "cell_type": "code",
   "execution_count": 100,
   "metadata": {},
   "outputs": [],
   "source": [
    "# rescrape\n",
    "df.loc[272, 'lyrics'] = lyrics_grabber(access_token, 'joey dee shout')"
   ]
  },
  {
   "cell_type": "code",
   "execution_count": 101,
   "metadata": {},
   "outputs": [],
   "source": [
    "# instrumentals\n",
    "df.loc[214, 'lyrics'] = np.nan\n",
    "df.loc[215, 'lyrics'] = np.nan\n",
    "df.loc[221, 'lyrics'] = np.nan\n",
    "df.loc[241, 'lyrics'] = np.nan\n",
    "df.loc[242, 'lyrics'] = np.nan\n",
    "df.loc[276, 'lyrics'] = np.nan\n",
    "df.loc[282, 'lyrics'] = np.nan\n",
    "df.loc[315, 'lyrics'] = np.nan\n",
    "df.loc[316, 'lyrics'] = np.nan"
   ]
  },
  {
   "cell_type": "code",
   "execution_count": 102,
   "metadata": {},
   "outputs": [],
   "source": [
    "# remove lines\n",
    "df.loc[226, 'lyrics'] = remove_n_lines(df.loc[226, 'lyrics'], 7, 3)\n",
    "df.loc[256, 'lyrics'] = remove_n_lines(df.loc[256, 'lyrics'], 2)\n",
    "df.loc[273, 'lyrics'] = remove_n_lines(df.loc[273, 'lyrics'], 5, 1)\n",
    "df.loc[318, 'lyrics'] = remove_n_lines(df.loc[318, 'lyrics'], 2)"
   ]
  },
  {
   "cell_type": "markdown",
   "metadata": {},
   "source": [
    "### 1963"
   ]
  },
  {
   "cell_type": "code",
   "execution_count": 110,
   "metadata": {},
   "outputs": [],
   "source": [
    "# rescrape\n",
    "df.loc[360, 'lyrics'] = lyrics_grabber(access_token, 'fingertips stevie')\n",
    "\n",
    "# more complex ones\n",
    "soup = soupify('https://www.flashlyrics.com/lyrics/dixie-belles/down-at-papa-joes-70')\n",
    "df.loc[403, 'lyrics'] = '\\n'.join(\n",
    "    [line.contents[0] for line in soup.find('div', attrs={'class': 'main-panel-content'}).find_all('span')\n",
    "     if line.contents][1:]\n",
    ")"
   ]
  },
  {
   "cell_type": "code",
   "execution_count": 111,
   "metadata": {},
   "outputs": [],
   "source": [
    "# instrumentals\n",
    "df.loc[324, 'lyrics'] = np.nan\n",
    "df.loc[353, 'lyrics'] = np.nan\n",
    "df.loc[361, 'lyrics'] = np.nan\n",
    "df.loc[362, 'lyrics'] = np.nan\n",
    "df.loc[397, 'lyrics'] = np.nan\n",
    "df.loc[419, 'lyrics'] = np.nan"
   ]
  },
  {
   "cell_type": "code",
   "execution_count": 112,
   "metadata": {},
   "outputs": [],
   "source": [
    "# remove lines\n",
    "df.loc[327, 'lyrics'] = remove_n_lines(df.loc[327, 'lyrics'], 3)\n",
    "df.loc[344, 'lyrics'] = remove_n_lines(df.loc[344, 'lyrics'], 2)\n",
    "df.loc[351, 'lyrics'] = remove_n_lines(df.loc[351, 'lyrics'], 2)"
   ]
  },
  {
   "cell_type": "markdown",
   "metadata": {},
   "source": [
    "### 1964"
   ]
  },
  {
   "cell_type": "code",
   "execution_count": 117,
   "metadata": {},
   "outputs": [],
   "source": [
    "# rescrape\n",
    "df.loc[442, 'lyrics'] = lyrics_grabber(access_token, 'summer song chad')\n",
    "df.loc[473, 'lyrics'] = lyrics_grabber(access_token, 'dancing in the street martha')\n",
    "df.loc[482, 'lyrics'] = lyrics_grabber(access_token, 'roy orbison pretty woman')\n",
    "df.loc[518, 'lyrics'] = rescrape('http://www.songlyrics.com/the-larks/jerk-lyrics/',\n",
    "                                 name='p', attrs={'class': 'songLyricsV14 iComment-text'})"
   ]
  },
  {
   "cell_type": "code",
   "execution_count": 118,
   "metadata": {},
   "outputs": [],
   "source": [
    "# instrumentals\n",
    "df.loc[431, 'lyrics'] = np.nan\n",
    "df.loc[519, 'lyrics'] = np.nan\n",
    "df.loc[534, 'lyrics'] = np.nan"
   ]
  },
  {
   "cell_type": "code",
   "execution_count": 119,
   "metadata": {},
   "outputs": [],
   "source": [
    "# remove lines\n",
    "df.loc[513, 'lyrics'] = remove_n_lines(df.loc[513, 'lyrics'], 6)\n",
    "df.loc[521, 'lyrics'] = remove_n_lines(df.loc[521, 'lyrics'], 6)"
   ]
  },
  {
   "cell_type": "code",
   "execution_count": 120,
   "metadata": {},
   "outputs": [],
   "source": [
    "# update artist name\n",
    "df.loc[442, 'artist'] = 'Chad and Jeremy'"
   ]
  },
  {
   "cell_type": "code",
   "execution_count": 121,
   "metadata": {},
   "outputs": [],
   "source": [
    "# remove duplicate\n",
    "df.drop(index=467, inplace=True)"
   ]
  },
  {
   "cell_type": "markdown",
   "metadata": {},
   "source": [
    "### 1965"
   ]
  },
  {
   "cell_type": "code",
   "execution_count": 124,
   "metadata": {},
   "outputs": [],
   "source": [
    "# rescrape\n",
    "df.loc[562, 'lyrics'] = lyrics_grabber(access_token, \"Papa’s Got a Brand New Bag (Part 1)\")\n",
    "df.loc[571, 'lyrics'] = lyrics_grabber(access_token, 'nowhere to run martha')\n",
    "df.loc[593, 'lyrics'] = lyrics_grabber(access_token, 'i got you babe')\n",
    "df.loc[611, 'lyrics'] = lyrics_grabber(access_token, \"I Can’t Help Myself (Sugar Pie, Honey Bunch)\")"
   ]
  },
  {
   "cell_type": "code",
   "execution_count": 125,
   "metadata": {},
   "outputs": [],
   "source": [
    "# instrumentals\n",
    "df.loc[552, 'lyrics'] = np.nan\n",
    "df.loc[621, 'lyrics'] = np.nan"
   ]
  },
  {
   "cell_type": "markdown",
   "metadata": {},
   "source": [
    "### 1966"
   ]
  },
  {
   "cell_type": "code",
   "execution_count": 131,
   "metadata": {},
   "outputs": [],
   "source": [
    "# rescrape\n",
    "df.loc[689, 'lyrics'] = lyrics_grabber(access_token, 'good thing paul revere')\n",
    "df.loc[691, 'lyrics'] = lyrics_grabber(access_token, 'hungry paul revere')\n",
    "df.loc[692, 'lyrics'] = lyrics_grabber(access_token, 'kicks paul revere')\n",
    "df.loc[694, 'lyrics'] = lyrics_grabber(access_token, 'lady godiva peter')\n",
    "df.loc[704, 'lyrics'] = lyrics_grabber(access_token, 'homeward bound simon')\n",
    "df.loc[735, 'lyrics'] = lyrics_grabber(access_token, 'california dreamin')"
   ]
  },
  {
   "cell_type": "code",
   "execution_count": 132,
   "metadata": {},
   "outputs": [],
   "source": [
    "# remove duplicate\n",
    "df.drop(index=690, inplace=True)"
   ]
  },
  {
   "cell_type": "markdown",
   "metadata": {},
   "source": [
    "### 1967"
   ]
  },
  {
   "cell_type": "code",
   "execution_count": 135,
   "metadata": {},
   "outputs": [],
   "source": [
    "# rescrape\n",
    "df.loc[874, 'lyrics'] = rescrape('http://www.songlyrics.com/victor-lundberg/an-open-letter-to-my-teenage-son-lyrics/',\n",
    "                                 name='p', attrs={'class': 'songLyricsV14 iComment-text'})"
   ]
  },
  {
   "cell_type": "markdown",
   "metadata": {},
   "source": [
    "### 1968"
   ]
  },
  {
   "cell_type": "code",
   "execution_count": 145,
   "metadata": {},
   "outputs": [],
   "source": [
    "# rescrape\n",
    "df.loc[929, 'lyrics'] = lyrics_grabber(access_token, 'mrs. robinson')"
   ]
  },
  {
   "cell_type": "code",
   "execution_count": 146,
   "metadata": {},
   "outputs": [],
   "source": [
    "# instrumentals\n",
    "df.loc[888, 'lyrics'] = np.nan\n",
    "df.loc[904, 'lyrics'] = np.nan\n",
    "df.loc[905, 'lyrics'] = np.nan\n",
    "df.loc[919, 'lyrics'] = np.nan"
   ]
  },
  {
   "cell_type": "code",
   "execution_count": 140,
   "metadata": {},
   "outputs": [],
   "source": [
    "# remove lines\n",
    "df.loc[899, 'lyrics'] = remove_n_lines(df.loc[899, 'lyrics'], 3, 7)\n",
    "df.loc[969, 'lyrics'] = remove_n_lines(df.loc[969, 'lyrics'], 5, 1)"
   ]
  },
  {
   "cell_type": "markdown",
   "metadata": {},
   "source": [
    "### 1969\n",
    "\n",
    "- There are some top 10 entries that appear as both the single's A and B sides.\n",
    "- I'll split these up into two separate entries."
   ]
  },
  {
   "cell_type": "code",
   "execution_count": 191,
   "metadata": {},
   "outputs": [
    {
     "name": "stdout",
     "output_type": "stream",
     "text": [
      "Timeout raised and caught:\n",
      "HTTPSConnectionPool(host='genius.com', port=443): Read timed out. (read timeout=5)\n",
      "CPU times: user 8.58 s, sys: 402 ms, total: 8.98 s\n",
      "Wall time: 4min 9s\n"
     ]
    }
   ],
   "source": [
    "%%time\n",
    "\n",
    "# instantiate empty list\n",
    "to_add_on = []\n",
    "\n",
    "# exclude final entry because it is actually a single song\n",
    "# loop over indices, overwrite row with first song, capture second song\n",
    "for ind in df[df.title.str.contains(' / ')].index[:-1]:\n",
    "    second_song = split_combos(df, ind)\n",
    "    to_add_on.append(second_song)\n",
    "\n",
    "# convert second songs to dataframe\n",
    "temp_df = pd.DataFrame(to_add_on)\n",
    "\n",
    "# combine\n",
    "df = pd.concat([df, temp_df])"
   ]
  },
  {
   "cell_type": "code",
   "execution_count": 155,
   "metadata": {},
   "outputs": [],
   "source": [
    "# rescrape\n",
    "df.loc[1003, 'lyrics'] = lyrics_grabber(access_token, 'i want you back the jackson 5')\n",
    "df.loc[1023, 'lyrics'] = lyrics_grabber(access_token, 'boxer simon garfunkel')\n",
    "df.loc[1039, 'lyrics'] = lyrics_grabber(access_token, 'beatles get back')"
   ]
  },
  {
   "cell_type": "code",
   "execution_count": 156,
   "metadata": {},
   "outputs": [],
   "source": [
    "# instrumentals\n",
    "df.loc[981, 'lyrics'] = np.nan\n",
    "df.loc[982, 'lyrics'] = np.nan\n",
    "df.loc[1001, 'lyrics'] = np.nan\n",
    "df.loc[1057, 'lyrics'] = np.nan\n",
    "df.loc[1071, 'lyrics'] = np.nan"
   ]
  },
  {
   "cell_type": "code",
   "execution_count": 157,
   "metadata": {},
   "outputs": [],
   "source": [
    "# remove duplicate\n",
    "df.drop(index=1038, inplace=True)"
   ]
  },
  {
   "cell_type": "markdown",
   "metadata": {},
   "source": [
    "### 1970"
   ]
  },
  {
   "cell_type": "code",
   "execution_count": 169,
   "metadata": {},
   "outputs": [],
   "source": [
    "# rescrape\n",
    "df.loc[1111, 'lyrics'] = lyrics_grabber(access_token, 'abc the jackson 5')\n",
    "df.loc[1130, 'lyrics'] = lyrics_grabber(access_token, 'cecilia simon garfunkel')\n",
    "df.loc[1131, 'lyrics'] = lyrics_grabber(access_token, 'bridge over troubled water simon garfunkel')"
   ]
  },
  {
   "cell_type": "markdown",
   "metadata": {},
   "source": [
    "### 1971"
   ]
  },
  {
   "cell_type": "code",
   "execution_count": 197,
   "metadata": {},
   "outputs": [],
   "source": [
    "df.reset_index(drop=True, inplace=True)"
   ]
  },
  {
   "cell_type": "code",
   "execution_count": 203,
   "metadata": {},
   "outputs": [],
   "source": [
    "# rescrape\n",
    "df.loc[1172, 'lyrics'] = lyrics_grabber(access_token, 'one toke over the line brewer & shipley')\n",
    "df.loc[1220, 'lyrics'] = lyrics_grabber(access_token, 'uncle albert')"
   ]
  },
  {
   "cell_type": "code",
   "execution_count": 204,
   "metadata": {},
   "outputs": [],
   "source": [
    "# edge case, had a slash in song title\n",
    "df.loc[1225, 'title'] = 'UNCLE ALBERT/ADMIRAL HALSEY'"
   ]
  },
  {
   "cell_type": "code",
   "execution_count": 205,
   "metadata": {},
   "outputs": [],
   "source": [
    "# instrumentals\n",
    "df.loc[1183, 'lyrics'] = np.nan"
   ]
  },
  {
   "cell_type": "code",
   "execution_count": 206,
   "metadata": {},
   "outputs": [],
   "source": [
    "# remove duplicate\n",
    "df.drop(index=4751, inplace=True)\n",
    "df.drop(index=4754, inplace=True)"
   ]
  },
  {
   "cell_type": "markdown",
   "metadata": {},
   "source": [
    "### 1972"
   ]
  },
  {
   "cell_type": "code",
   "execution_count": 209,
   "metadata": {},
   "outputs": [],
   "source": [
    "# rescrape\n",
    "df.loc[1337, 'lyrics'] = lyrics_grabber(access_token, 'jungle fever chakachas')"
   ]
  },
  {
   "cell_type": "code",
   "execution_count": 210,
   "metadata": {},
   "outputs": [],
   "source": [
    "# instrumentals\n",
    "df.loc[1267, 'lyrics'] = np.nan\n",
    "df.loc[1275, 'lyrics'] = np.nan\n",
    "df.loc[1303, 'lyrics'] = np.nan\n",
    "\n",
    "# edge case; non-lyric song\n",
    "df.loc[1339, 'lyrics'] = np.nan"
   ]
  },
  {
   "cell_type": "code",
   "execution_count": 211,
   "metadata": {},
   "outputs": [],
   "source": [
    "# remove duplicate\n",
    "df.drop(index=1287, inplace=True)"
   ]
  },
  {
   "cell_type": "markdown",
   "metadata": {},
   "source": [
    "### 1973"
   ]
  },
  {
   "cell_type": "code",
   "execution_count": 215,
   "metadata": {},
   "outputs": [],
   "source": [
    "# rescrape\n",
    "df.loc[1412, 'lyrics'] = lyrics_grabber(access_token, 'The Morning After (Theme From The Poseidon Adventure)')"
   ]
  },
  {
   "cell_type": "code",
   "execution_count": 216,
   "metadata": {},
   "outputs": [],
   "source": [
    "# instrumentals\n",
    "df.loc[1432, 'lyrics'] = np.nan\n",
    "\n",
    "# edge case; non-lyric song\n",
    "df.loc[1392, 'lyrics'] = np.nan"
   ]
  },
  {
   "cell_type": "markdown",
   "metadata": {},
   "source": [
    "### 1974"
   ]
  },
  {
   "cell_type": "code",
   "execution_count": 222,
   "metadata": {},
   "outputs": [],
   "source": [
    "# rescrape\n",
    "df.loc[1497, 'lyrics'] = lyrics_grabber(access_token, 'use my imagination gladys')\n",
    "df.loc[1515, 'lyrics'] = lyrics_grabber(access_token, 'hollywood swinging')\n",
    "df.loc[1516, 'lyrics'] = lyrics_grabber(access_token, 'jungle boogie')\n",
    "df.loc[1531, 'lyrics'] = lyrics_grabber(access_token, 'jet wings')\n",
    "df.loc[1534, 'lyrics'] = lyrics_grabber(access_token, 'band on the run wings')"
   ]
  },
  {
   "cell_type": "code",
   "execution_count": 223,
   "metadata": {},
   "outputs": [],
   "source": [
    "# instrumentals\n",
    "df.loc[1521, 'lyrics'] = np.nan\n",
    "df.loc[1522, 'lyrics'] = np.nan\n",
    "df.loc[1553, 'lyrics'] = np.nan\n",
    "df.loc[4757, 'lyrics'] = np.nan"
   ]
  },
  {
   "cell_type": "markdown",
   "metadata": {},
   "source": [
    "### 1975"
   ]
  },
  {
   "cell_type": "code",
   "execution_count": 229,
   "metadata": {},
   "outputs": [],
   "source": [
    "# rescrape\n",
    "df.loc[1658, 'lyrics'] = lyrics_grabber(access_token, 'yesterday carpenters')\n",
    "df.loc[1660, 'lyrics'] = lyrics_grabber(access_token, 'philadelphia freedom elton john')\n",
    "df.loc[1663, 'lyrics'] = lyrics_grabber(access_token, 'fire ohio players')\n",
    "df.loc[1664, 'lyrics'] = lyrics_grabber(access_token, 'love rollercoaster ohio players')\n",
    "df.loc[1641, 'lyrics'] = lyrics_grabber(access_token, 'ringo no no song')"
   ]
  },
  {
   "cell_type": "code",
   "execution_count": 230,
   "metadata": {},
   "outputs": [],
   "source": [
    "# instrumentals\n",
    "df.loc[1629, 'lyrics'] = np.nan\n",
    "df.loc[1669, 'lyrics'] = np.nan"
   ]
  },
  {
   "cell_type": "markdown",
   "metadata": {},
   "source": [
    "### 1976"
   ]
  },
  {
   "cell_type": "code",
   "execution_count": 233,
   "metadata": {},
   "outputs": [],
   "source": [
    "# rescrape\n",
    "df.loc[1686, 'lyrics'] = lyrics_grabber(access_token, 'sara smile hall oates')\n",
    "df.loc[1694, 'lyrics'] = lyrics_grabber(access_token, 'sing a song earth')\n",
    "df.loc[1730, 'lyrics'] = lyrics_grabber(access_token, 'disco duck rick dees')\n",
    "df.loc[1738, 'lyrics'] = lyrics_grabber(access_token, 'more more more andrea true')\n",
    "df.loc[1746, 'lyrics'] = lyrics_grabber(access_token, 'muskrat love')"
   ]
  },
  {
   "cell_type": "code",
   "execution_count": 234,
   "metadata": {},
   "outputs": [],
   "source": [
    "# instrumentals\n",
    "df.loc[1729, 'lyrics'] = np.nan\n",
    "df.loc[1758, 'lyrics'] = np.nan"
   ]
  },
  {
   "cell_type": "markdown",
   "metadata": {},
   "source": [
    "### 1977"
   ]
  },
  {
   "cell_type": "code",
   "execution_count": 242,
   "metadata": {},
   "outputs": [],
   "source": [
    "# rescrape\n",
    "df.loc[1777, 'lyrics'] = lyrics_grabber(access_token, 'bill conti gonna fly now')\n",
    "df.loc[1843, 'lyrics'] = lyrics_grabber(access_token, 'jet airliner steve miller')\n",
    "df.loc[1844, 'lyrics'] = lyrics_grabber(access_token, 'eagle steve miller')"
   ]
  },
  {
   "cell_type": "code",
   "execution_count": 243,
   "metadata": {},
   "outputs": [],
   "source": [
    "# instrumentals\n",
    "df.loc[1819, 'lyrics'] = np.nan\n",
    "df.loc[1841, 'lyrics'] = np.nan\n",
    "df.loc[4769, 'lyrics'] = np.nan"
   ]
  },
  {
   "cell_type": "code",
   "execution_count": 244,
   "metadata": {},
   "outputs": [],
   "source": [
    "# remove lines\n",
    "df.loc[1803, 'lyrics'] = remove_n_lines(df.loc[1803, 'lyrics'], 2)"
   ]
  },
  {
   "cell_type": "markdown",
   "metadata": {},
   "source": [
    "### 1978"
   ]
  },
  {
   "cell_type": "code",
   "execution_count": 248,
   "metadata": {},
   "outputs": [],
   "source": [
    "# rescrape\n",
    "df.loc[1867, 'lyrics'] = lyrics_grabber(access_token, 'still the same bob seger')\n",
    "df.loc[1922, 'lyrics'] = lyrics_grabber(access_token, 'ymca village people')"
   ]
  },
  {
   "cell_type": "code",
   "execution_count": 249,
   "metadata": {},
   "outputs": [],
   "source": [
    "# instrumentals\n",
    "df.loc[1873, 'lyrics'] = np.nan"
   ]
  },
  {
   "cell_type": "markdown",
   "metadata": {},
   "source": [
    "### 1979"
   ]
  },
  {
   "cell_type": "code",
   "execution_count": 253,
   "metadata": {},
   "outputs": [],
   "source": [
    "# rescrape\n",
    "df.loc[1952, 'lyrics'] = lyrics_grabber(access_token, 'boogie wonderland')\n",
    "df.loc[1957, 'lyrics'] = lyrics_grabber(access_token, 'promises eric clapton')\n",
    "df.loc[1958, 'lyrics'] = lyrics_grabber(access_token, 'watch out for lucy eric clapton')\n",
    "df.loc[1964, 'lyrics'] = lyrics_grabber(access_token, 'only lonely souther')"
   ]
  },
  {
   "cell_type": "code",
   "execution_count": 254,
   "metadata": {},
   "outputs": [],
   "source": [
    "# update title\n",
    "df.loc[1958, 'title'] = 'WATCH OUT FOR LUCY'"
   ]
  },
  {
   "cell_type": "code",
   "execution_count": 255,
   "metadata": {},
   "outputs": [],
   "source": [
    "# instrumentals\n",
    "df.loc[1960, 'lyrics'] = np.nan\n",
    "df.loc[1962, 'lyrics'] = np.nan"
   ]
  },
  {
   "cell_type": "code",
   "execution_count": 256,
   "metadata": {},
   "outputs": [],
   "source": [
    "# remove duplicates\n",
    "df.drop(index=4771, inplace=True)\n",
    "df.drop(index=4772, inplace=True)"
   ]
  },
  {
   "cell_type": "markdown",
   "metadata": {},
   "source": [
    "### 1980"
   ]
  },
  {
   "cell_type": "code",
   "execution_count": 261,
   "metadata": {},
   "outputs": [],
   "source": [
    "# rescrape\n",
    "df.loc[2068, 'lyrics'] = lyrics_grabber(access_token, 'another brick in the wall')"
   ]
  },
  {
   "cell_type": "code",
   "execution_count": 262,
   "metadata": {},
   "outputs": [],
   "source": [
    "# instrumentals\n",
    "df.loc[4775, 'lyrics'] = np.nan"
   ]
  },
  {
   "cell_type": "code",
   "execution_count": 264,
   "metadata": {},
   "outputs": [],
   "source": [
    "# remove lines\n",
    "df.loc[2024, 'lyrics'] = remove_n_lines(df.loc[2024, 'lyrics'], 3)\n",
    "df.loc[2054, 'lyrics'] = remove_n_lines(df.loc[2054, 'lyrics'], 3)"
   ]
  },
  {
   "cell_type": "code",
   "execution_count": 265,
   "metadata": {},
   "outputs": [],
   "source": [
    "# remove duplicate\n",
    "df.drop(index=2064, inplace=True)\n",
    "df.drop(index=4773, inplace=True)\n",
    "df.drop(index=4774, inplace=True)\n",
    "df.drop(index=4776, inplace=True)"
   ]
  },
  {
   "cell_type": "markdown",
   "metadata": {},
   "source": [
    "### 1981"
   ]
  },
  {
   "cell_type": "code",
   "execution_count": 272,
   "metadata": {},
   "outputs": [],
   "source": [
    "# rescrape\n",
    "df.loc[2122, 'lyrics'] = lyrics_grabber(access_token, 'joey scarbury believe it or not')"
   ]
  },
  {
   "cell_type": "code",
   "execution_count": 273,
   "metadata": {},
   "outputs": [],
   "source": [
    "# instrumentals\n",
    "df.loc[2135, 'lyrics'] = np.nan"
   ]
  },
  {
   "cell_type": "code",
   "execution_count": 274,
   "metadata": {},
   "outputs": [],
   "source": [
    "# remove lines\n",
    "df.loc[2103, 'lyrics'] = remove_n_lines(df.loc[2103, 'lyrics'], 6)"
   ]
  },
  {
   "cell_type": "markdown",
   "metadata": {},
   "source": [
    "### 1982"
   ]
  },
  {
   "cell_type": "code",
   "execution_count": 277,
   "metadata": {},
   "outputs": [],
   "source": [
    "# rescrape\n",
    "df.loc[2189, 'lyrics'] = lyrics_grabber(access_token, 'crimson and clover')\n",
    "df.loc[2190, 'lyrics'] = lyrics_grabber(access_token, 'Joan Jett & The Blackhearts i love rock')\n",
    "df.loc[2231, 'lyrics'] = lyrics_grabber(access_token, 'rock this town stray cats')"
   ]
  },
  {
   "cell_type": "code",
   "execution_count": 278,
   "metadata": {},
   "outputs": [],
   "source": [
    "# instrumentals\n",
    "df.loc[2202, 'lyrics'] = np.nan\n",
    "df.loc[2235, 'lyrics'] = np.nan"
   ]
  },
  {
   "cell_type": "markdown",
   "metadata": {},
   "source": [
    "### 1983"
   ]
  },
  {
   "cell_type": "code",
   "execution_count": 284,
   "metadata": {},
   "outputs": [],
   "source": [
    "# rescrape\n",
    "df.loc[2242, 'lyrics'] = lyrics_grabber(access_token, 'shame on the moon bob seger')\n",
    "df.loc[2292, 'lyrics'] = lyrics_grabber(access_token, 'say say say paul')\n",
    "df.loc[2306, 'lyrics'] = lyrics_grabber(access_token, 'sweet dreams eurythmics')"
   ]
  },
  {
   "cell_type": "code",
   "execution_count": 285,
   "metadata": {},
   "outputs": [],
   "source": [
    "# remove lines\n",
    "df.loc[2302, 'lyrics'] = remove_n_lines(df.loc[2302, 'lyrics'], 8)"
   ]
  },
  {
   "cell_type": "code",
   "execution_count": 286,
   "metadata": {},
   "outputs": [],
   "source": [
    "# remove duplicate\n",
    "df.drop(index=2205, inplace=True)"
   ]
  },
  {
   "cell_type": "markdown",
   "metadata": {},
   "source": [
    "### 1984"
   ]
  },
  {
   "cell_type": "code",
   "execution_count": 290,
   "metadata": {},
   "outputs": [],
   "source": [
    "# rescrape\n",
    "df.loc[2393, 'lyrics'] = lyrics_grabber(access_token, 'warrior scandal')\n",
    "df.loc[2402, 'lyrics'] = lyrics_grabber(access_token, 'state of shock jacksons')"
   ]
  },
  {
   "cell_type": "markdown",
   "metadata": {},
   "source": [
    "### 1985"
   ]
  },
  {
   "cell_type": "code",
   "execution_count": 293,
   "metadata": {},
   "outputs": [],
   "source": [
    "# instrumentals\n",
    "df.loc[2451, 'lyrics'] = np.nan\n",
    "df.loc[2456, 'lyrics'] = np.nan"
   ]
  },
  {
   "cell_type": "code",
   "execution_count": 294,
   "metadata": {},
   "outputs": [],
   "source": [
    "# remove lines\n",
    "df.loc[2477, 'lyrics'] = remove_n_lines(df.loc[2477, 'lyrics'], 1)"
   ]
  },
  {
   "cell_type": "markdown",
   "metadata": {},
   "source": [
    "### 1986"
   ]
  },
  {
   "cell_type": "code",
   "execution_count": 297,
   "metadata": {},
   "outputs": [],
   "source": [
    "# rescrape\n",
    "df.loc[2583, 'lyrics'] = lyrics_grabber(access_token, 'your wildest dreams')"
   ]
  },
  {
   "cell_type": "markdown",
   "metadata": {},
   "source": [
    "### 1987"
   ]
  },
  {
   "cell_type": "code",
   "execution_count": 300,
   "metadata": {},
   "outputs": [],
   "source": [
    "# rescrape\n",
    "df.loc[2646, 'lyrics'] = lyrics_grabber(access_token, 'war bruce springsteen')\n",
    "df.loc[2712, 'lyrics'] = lyrics_grabber(access_token, 'got the look prince')\n",
    "df.loc[2714, 'lyrics'] = lyrics_grabber(access_token, 'the one i love rem')"
   ]
  },
  {
   "cell_type": "code",
   "execution_count": 301,
   "metadata": {},
   "outputs": [],
   "source": [
    "# instrumentals\n",
    "df.loc[2689, 'lyrics'] = np.nan"
   ]
  },
  {
   "cell_type": "markdown",
   "metadata": {},
   "source": [
    "### 1988"
   ]
  },
  {
   "cell_type": "code",
   "execution_count": 306,
   "metadata": {},
   "outputs": [],
   "source": [
    "# rescrape\n",
    "df.loc[2785, 'lyrics'] = lyrics_grabber(access_token, 'anything for you gloria')\n",
    "df.loc[2809, 'lyrics'] = lyrics_grabber(access_token, \"she's like the wind patrick swayze\")"
   ]
  },
  {
   "cell_type": "markdown",
   "metadata": {},
   "source": [
    "### 1989"
   ]
  },
  {
   "cell_type": "markdown",
   "metadata": {},
   "source": [
    "### 1990"
   ]
  },
  {
   "cell_type": "code",
   "execution_count": 315,
   "metadata": {},
   "outputs": [],
   "source": [
    "# rescrape\n",
    "df.loc[3054, 'lyrics'] = lyrics_grabber(access_token, 'this old heart of mine rod')"
   ]
  },
  {
   "cell_type": "code",
   "execution_count": 316,
   "metadata": {},
   "outputs": [],
   "source": [
    "# remove lines\n",
    "df.loc[3060, 'lyrics'] = remove_n_lines(df.loc[3060, 'lyrics'], 3)\n",
    "df.loc[3068, 'lyrics'] = remove_n_lines(df.loc[3068, 'lyrics'], 1)"
   ]
  },
  {
   "cell_type": "markdown",
   "metadata": {},
   "source": [
    "### 1991 - 1995"
   ]
  },
  {
   "cell_type": "code",
   "execution_count": 317,
   "metadata": {},
   "outputs": [],
   "source": [
    "# uncomment to save\n",
    "with gzip.open('data/lyrics_df_updated.pkl', 'wb') as goodbye:\n",
    "    pickle.dump(df, goodbye, protocol=pickle.HIGHEST_PROTOCOL)\n",
    "    \n",
    "# # uncomment to load\n",
    "# with gzip.open('data/lyrics_df_updated.pkl', 'rb') as hello:\n",
    "#     df = pickle.load(hello)"
   ]
  },
  {
   "cell_type": "code",
   "execution_count": 318,
   "metadata": {},
   "outputs": [
    {
     "data": {
      "text/html": [
       "<div>\n",
       "<style scoped>\n",
       "    .dataframe tbody tr th:only-of-type {\n",
       "        vertical-align: middle;\n",
       "    }\n",
       "\n",
       "    .dataframe tbody tr th {\n",
       "        vertical-align: top;\n",
       "    }\n",
       "\n",
       "    .dataframe thead th {\n",
       "        text-align: right;\n",
       "    }\n",
       "</style>\n",
       "<table border=\"1\" class=\"dataframe\">\n",
       "  <thead>\n",
       "    <tr style=\"text-align: right;\">\n",
       "      <th></th>\n",
       "      <th>year</th>\n",
       "      <th>title</th>\n",
       "      <th>artist</th>\n",
       "      <th>lyrics</th>\n",
       "    </tr>\n",
       "  </thead>\n",
       "  <tbody>\n",
       "    <tr>\n",
       "      <th>3080</th>\n",
       "      <td>1991</td>\n",
       "      <td>EVERYBODY PLAYS THE FOOL</td>\n",
       "      <td>Aaron Neville</td>\n",
       "      <td>Ok, so your heart is broken\\nYou're sitting ar...</td>\n",
       "    </tr>\n",
       "    <tr>\n",
       "      <th>3081</th>\n",
       "      <td>1991</td>\n",
       "      <td>THAT’S WHAT LOVE IS FOR</td>\n",
       "      <td>Amy Grant</td>\n",
       "      <td>Sometimes we make it harder than it is\\nWe'll ...</td>\n",
       "    </tr>\n",
       "    <tr>\n",
       "      <th>3082</th>\n",
       "      <td>1991</td>\n",
       "      <td>EVERY HEARTBEAT</td>\n",
       "      <td>Amy Grant</td>\n",
       "      <td>Hear me speak what's on my mind\\nLet me give t...</td>\n",
       "    </tr>\n",
       "    <tr>\n",
       "      <th>3083</th>\n",
       "      <td>1991</td>\n",
       "      <td>BABY BABY</td>\n",
       "      <td>Amy Grant</td>\n",
       "      <td>Baby, baby\\nI'm taken with the notion\\nTo love...</td>\n",
       "    </tr>\n",
       "    <tr>\n",
       "      <th>3084</th>\n",
       "      <td>1991</td>\n",
       "      <td>PLAYGROUND</td>\n",
       "      <td>Another Bad Creation</td>\n",
       "      <td>GA:\\nYeah, boy. Another ABC card\\nComin' from ...</td>\n",
       "    </tr>\n",
       "    <tr>\n",
       "      <th>3085</th>\n",
       "      <td>1991</td>\n",
       "      <td>IESHA</td>\n",
       "      <td>Another Bad Creation</td>\n",
       "      <td>RoRo:\\nIesha, Iesha so glad to meetcha\\nSee yo...</td>\n",
       "    </tr>\n",
       "    <tr>\n",
       "      <th>3086</th>\n",
       "      <td>1991</td>\n",
       "      <td>STRIKE IT UP</td>\n",
       "      <td>Black Box</td>\n",
       "      <td>Yeah, yeah\\nDance, dance, dance, dance\\nYeah, ...</td>\n",
       "    </tr>\n",
       "    <tr>\n",
       "      <th>3087</th>\n",
       "      <td>1991</td>\n",
       "      <td>SOMETHING TO TALK ABOUT</td>\n",
       "      <td>Bonnie Raitt</td>\n",
       "      <td>People are talking, talking 'bout people\\nI he...</td>\n",
       "    </tr>\n",
       "    <tr>\n",
       "      <th>3088</th>\n",
       "      <td>1991</td>\n",
       "      <td>MOTOWNPHILLY</td>\n",
       "      <td>Boyz II Men</td>\n",
       "      <td>Boyz II Men\\nBoyz II Men\\nBoyz II Men\\nBoyz II...</td>\n",
       "    </tr>\n",
       "    <tr>\n",
       "      <th>3089</th>\n",
       "      <td>1991</td>\n",
       "      <td>IT’S SO HARD TO SAY GOODBYE TO YESTERDAY</td>\n",
       "      <td>Boyz II Men</td>\n",
       "      <td>How do I say goodbye\\nTo what we had?\\nThe goo...</td>\n",
       "    </tr>\n",
       "    <tr>\n",
       "      <th>3090</th>\n",
       "      <td>1991</td>\n",
       "      <td>CAN’T STOP THIS THING WE STARTED</td>\n",
       "      <td>Bryan Adams</td>\n",
       "      <td>Yeah...\\nBaby, I'm coming to get you\\n\\nYou mi...</td>\n",
       "    </tr>\n",
       "    <tr>\n",
       "      <th>3091</th>\n",
       "      <td>1991</td>\n",
       "      <td>(EVERYTHING I DO) I DO IT FOR YOU</td>\n",
       "      <td>Bryan Adams</td>\n",
       "      <td>Look into my eyes\\nYou will see\\nWhat you mean...</td>\n",
       "    </tr>\n",
       "    <tr>\n",
       "      <th>3092</th>\n",
       "      <td>1991</td>\n",
       "      <td>GONNA MAKE YOU SWEAT</td>\n",
       "      <td>C&amp;C Music Factory Featuring Freedom Williams</td>\n",
       "      <td>Everybody dance now!\\nEverybody dance now!\\nGi...</td>\n",
       "    </tr>\n",
       "    <tr>\n",
       "      <th>3093</th>\n",
       "      <td>1991</td>\n",
       "      <td>THINGS THAT MAKE YOU GO HMMM…</td>\n",
       "      <td>C&amp;C Music Factory Featuring Freedom Williams</td>\n",
       "      <td>Things that make you go, hmm\\n\\n\\nI was at the...</td>\n",
       "    </tr>\n",
       "    <tr>\n",
       "      <th>3094</th>\n",
       "      <td>1991</td>\n",
       "      <td>HERE WE GO</td>\n",
       "      <td>C&amp;C Music Factory Featuring Freedom Williams &amp;...</td>\n",
       "      <td>You all want this party started, right?\\nYou a...</td>\n",
       "    </tr>\n",
       "    <tr>\n",
       "      <th>3095</th>\n",
       "      <td>1991</td>\n",
       "      <td>TOO MANY WALLS</td>\n",
       "      <td>Cathy Dennis</td>\n",
       "      <td>Wish on a rainbow\\nIs all I can do\\nDream of t...</td>\n",
       "    </tr>\n",
       "    <tr>\n",
       "      <th>3096</th>\n",
       "      <td>1991</td>\n",
       "      <td>TOUCH ME (ALL NIGHT LONG)</td>\n",
       "      <td>Cathy Dennis</td>\n",
       "      <td>We're starting it over\\nWe're making way for d...</td>\n",
       "    </tr>\n",
       "    <tr>\n",
       "      <th>3097</th>\n",
       "      <td>1991</td>\n",
       "      <td>JUST ANOTHER DREAM</td>\n",
       "      <td>Cathy Dennis</td>\n",
       "      <td>The stars say you're my best lover\\nMatched up...</td>\n",
       "    </tr>\n",
       "    <tr>\n",
       "      <th>3098</th>\n",
       "      <td>1991</td>\n",
       "      <td>FINALLY</td>\n",
       "      <td>Ce Ce Peniston</td>\n",
       "      <td>Finally, finally, yeah yeah, ow\\n\\n\\nFinally i...</td>\n",
       "    </tr>\n",
       "    <tr>\n",
       "      <th>3099</th>\n",
       "      <td>1991</td>\n",
       "      <td>WHERE DOES MY HEART BEAT NOW</td>\n",
       "      <td>Celine Dion</td>\n",
       "      <td>So much to believe in, we were lost in time\\nE...</td>\n",
       "    </tr>\n",
       "    <tr>\n",
       "      <th>3100</th>\n",
       "      <td>1991</td>\n",
       "      <td>THE ONE AND ONLY</td>\n",
       "      <td>Chesney Hawkes</td>\n",
       "      <td>I am the one and only, oh yeah\\n\\nCall me, cal...</td>\n",
       "    </tr>\n",
       "    <tr>\n",
       "      <th>3101</th>\n",
       "      <td>1991</td>\n",
       "      <td>WICKED GAME</td>\n",
       "      <td>Chris Isaak</td>\n",
       "      <td>The world was on fire and no one could save me...</td>\n",
       "    </tr>\n",
       "    <tr>\n",
       "      <th>3102</th>\n",
       "      <td>1991</td>\n",
       "      <td>ALL 4 LOVE</td>\n",
       "      <td>Color Me Badd</td>\n",
       "      <td>I'm so glad you're my girl\\nI'll do anything 4...</td>\n",
       "    </tr>\n",
       "    <tr>\n",
       "      <th>3103</th>\n",
       "      <td>1991</td>\n",
       "      <td>I ADORE MI AMOR</td>\n",
       "      <td>Color Me Badd</td>\n",
       "      <td>Dream on, dream away\\nI think I'm gonna have t...</td>\n",
       "    </tr>\n",
       "    <tr>\n",
       "      <th>3104</th>\n",
       "      <td>1991</td>\n",
       "      <td>I WANNA SEX YOU UP</td>\n",
       "      <td>Color Me Badd</td>\n",
       "      <td>A tick tock, ya don't stop\\nTo the tick tock, ...</td>\n",
       "    </tr>\n",
       "    <tr>\n",
       "      <th>3105</th>\n",
       "      <td>1991</td>\n",
       "      <td>TEMPTATION</td>\n",
       "      <td>Corina</td>\n",
       "      <td>Baby, there's something I think you should kno...</td>\n",
       "    </tr>\n",
       "    <tr>\n",
       "      <th>3106</th>\n",
       "      <td>1991</td>\n",
       "      <td>GYPSY WOMAN (SHE’S HOMELESS)</td>\n",
       "      <td>Crystal Waters</td>\n",
       "      <td>She wakes up early every morning\\nJust to do h...</td>\n",
       "    </tr>\n",
       "    <tr>\n",
       "      <th>3107</th>\n",
       "      <td>1991</td>\n",
       "      <td>I WONDER WHY</td>\n",
       "      <td>Curtis Stigers</td>\n",
       "      <td>Love is a hunger\\nThat burns in my soul\\nBut y...</td>\n",
       "    </tr>\n",
       "    <tr>\n",
       "      <th>3108</th>\n",
       "      <td>1991</td>\n",
       "      <td>SUMMERTIME</td>\n",
       "      <td>D.J. Jazzy Jeff &amp; The Fresh Prince</td>\n",
       "      <td>Drums Please!\\n\\n\\nSummer, summer, summertime\\...</td>\n",
       "    </tr>\n",
       "    <tr>\n",
       "      <th>3109</th>\n",
       "      <td>1991</td>\n",
       "      <td>I TOUCH MYSELF</td>\n",
       "      <td>Divinyls</td>\n",
       "      <td>I love myself\\nI want you to love me\\nWhen I'm...</td>\n",
       "    </tr>\n",
       "    <tr>\n",
       "      <th>3110</th>\n",
       "      <td>1991</td>\n",
       "      <td>UNBELIEVABLE</td>\n",
       "      <td>E.M.F.</td>\n",
       "      <td>(Oh!)\\n(What the fuck?)\\n(What the fuck was th...</td>\n",
       "    </tr>\n",
       "    <tr>\n",
       "      <th>3111</th>\n",
       "      <td>1991</td>\n",
       "      <td>SADENESS</td>\n",
       "      <td>Enigma</td>\n",
       "      <td>Procedamus in pace\\nIn nomine Christi, amen\\nC...</td>\n",
       "    </tr>\n",
       "    <tr>\n",
       "      <th>3112</th>\n",
       "      <td>1991</td>\n",
       "      <td>HOLE HEARTED</td>\n",
       "      <td>Extreme</td>\n",
       "      <td>Oooh yeah wooh!\\nHey, hey, hey, hey, hey, yeah...</td>\n",
       "    </tr>\n",
       "    <tr>\n",
       "      <th>3113</th>\n",
       "      <td>1991</td>\n",
       "      <td>MORE THAN WORDS</td>\n",
       "      <td>Extreme</td>\n",
       "      <td>Saying \"I love you\"\\nIs not the words I want t...</td>\n",
       "    </tr>\n",
       "    <tr>\n",
       "      <th>3114</th>\n",
       "      <td>1991</td>\n",
       "      <td>LOVE OF A LIFETIME</td>\n",
       "      <td>Firehouse</td>\n",
       "      <td>I guess the time was right for us to say\\nWe'd...</td>\n",
       "    </tr>\n",
       "    <tr>\n",
       "      <th>3115</th>\n",
       "      <td>1991</td>\n",
       "      <td>RICO SUAVE</td>\n",
       "      <td>Gerardo</td>\n",
       "      <td>Rico...\\nSuave...\\n\\nSeguro que han oído que y...</td>\n",
       "    </tr>\n",
       "    <tr>\n",
       "      <th>3116</th>\n",
       "      <td>1991</td>\n",
       "      <td>COMING OUT OF THE DARK</td>\n",
       "      <td>Gloria Estefan</td>\n",
       "      <td>Why be afraid if I'm not alone?\\nLife is never...</td>\n",
       "    </tr>\n",
       "    <tr>\n",
       "      <th>3117</th>\n",
       "      <td>1991</td>\n",
       "      <td>DON’T CRY</td>\n",
       "      <td>Guns N’ Roses</td>\n",
       "      <td>Talk to me softly, there's something in your e...</td>\n",
       "    </tr>\n",
       "    <tr>\n",
       "      <th>3118</th>\n",
       "      <td>1991</td>\n",
       "      <td>2 LEGIT 2 QUIT</td>\n",
       "      <td>Hammer</td>\n",
       "      <td>Too legit... Too legit to quit\\nSweat running ...</td>\n",
       "    </tr>\n",
       "    <tr>\n",
       "      <th>3119</th>\n",
       "      <td>1991</td>\n",
       "      <td>I LIKE THE WAY (THE KISSING GAME)</td>\n",
       "      <td>Hi-Five</td>\n",
       "      <td>All summer long\\nWe've been together\\nAnd I ne...</td>\n",
       "    </tr>\n",
       "    <tr>\n",
       "      <th>3120</th>\n",
       "      <td>1991</td>\n",
       "      <td>I CAN’T WAIT ANOTHER MINUTE</td>\n",
       "      <td>Hi-Five</td>\n",
       "      <td>You know\\nI've been waiting so long or this ch...</td>\n",
       "    </tr>\n",
       "    <tr>\n",
       "      <th>3121</th>\n",
       "      <td>1991</td>\n",
       "      <td>DISAPPEAR</td>\n",
       "      <td>INXS</td>\n",
       "      <td>Say I'm crying\\nI'm looking at what's on T.V\\n...</td>\n",
       "    </tr>\n",
       "    <tr>\n",
       "      <th>3122</th>\n",
       "      <td>1991</td>\n",
       "      <td>LOVE WILL NEVER DO (WITHOUT YOU)</td>\n",
       "      <td>Janet Jackson</td>\n",
       "      <td>Our friends think we're opposites\\nFalling in ...</td>\n",
       "    </tr>\n",
       "    <tr>\n",
       "      <th>3123</th>\n",
       "      <td>1991</td>\n",
       "      <td>REAL REAL REAL</td>\n",
       "      <td>Jesus Jones</td>\n",
       "      <td>I think I know what you mean\\nAnd although it ...</td>\n",
       "    </tr>\n",
       "    <tr>\n",
       "      <th>3124</th>\n",
       "      <td>1991</td>\n",
       "      <td>RIGHT HERE, RIGHT NOW</td>\n",
       "      <td>Jesus Jones</td>\n",
       "      <td>A woman on the radio talks about revolution\\nW...</td>\n",
       "    </tr>\n",
       "    <tr>\n",
       "      <th>3125</th>\n",
       "      <td>1991</td>\n",
       "      <td>ROMANTIC</td>\n",
       "      <td>Karyn White</td>\n",
       "      <td>Ooh\\nBaby, baby, baby\\nI wanna get romantic\\nO...</td>\n",
       "    </tr>\n",
       "    <tr>\n",
       "      <th>3126</th>\n",
       "      <td>1991</td>\n",
       "      <td>I’LL GIVE ALL MY LOVE TO YOU</td>\n",
       "      <td>Keith Sweat</td>\n",
       "      <td>Oh baby baby baby oh\\nMy, my, my baby yeah\\nOh...</td>\n",
       "    </tr>\n",
       "    <tr>\n",
       "      <th>3127</th>\n",
       "      <td>1991</td>\n",
       "      <td>AROUND THE WAY GIRL</td>\n",
       "      <td>LL Cool J</td>\n",
       "      <td>You got me shook up, shook down, shook out\\nOn...</td>\n",
       "    </tr>\n",
       "    <tr>\n",
       "      <th>3128</th>\n",
       "      <td>1991</td>\n",
       "      <td>IT AIN’T OVER TIL IT’S OVER</td>\n",
       "      <td>Lenny Kravitz</td>\n",
       "      <td>Here we are still together\\nWe are one\\nSo muc...</td>\n",
       "    </tr>\n",
       "    <tr>\n",
       "      <th>3129</th>\n",
       "      <td>1991</td>\n",
       "      <td>I’VE BEEN THINKING ABOUT YOU</td>\n",
       "      <td>Londonbeat</td>\n",
       "      <td>We must have been stone crazy\\nWhen we thought...</td>\n",
       "    </tr>\n",
       "    <tr>\n",
       "      <th>3130</th>\n",
       "      <td>1991</td>\n",
       "      <td>DON’T WANT TO BE A FOOL</td>\n",
       "      <td>Luther Vandross</td>\n",
       "      <td>Love, what have you done, oh wow\\nI was sure u...</td>\n",
       "    </tr>\n",
       "    <tr>\n",
       "      <th>3131</th>\n",
       "      <td>1991</td>\n",
       "      <td>POWER OF LOVE/LOVE POWER</td>\n",
       "      <td>Luther Vandross</td>\n",
       "      <td>When I say goodbye it is never for long\\n'Caus...</td>\n",
       "    </tr>\n",
       "    <tr>\n",
       "      <th>3132</th>\n",
       "      <td>1991</td>\n",
       "      <td>RESCUE ME</td>\n",
       "      <td>Madonna</td>\n",
       "      <td>I'm talking, I'm talking\\nI believe in the pow...</td>\n",
       "    </tr>\n",
       "    <tr>\n",
       "      <th>3133</th>\n",
       "      <td>1991</td>\n",
       "      <td>I DON’T WANNA CRY</td>\n",
       "      <td>Mariah Carey</td>\n",
       "      <td>Once again we sit in silence\\nAfter all is sai...</td>\n",
       "    </tr>\n",
       "    <tr>\n",
       "      <th>3134</th>\n",
       "      <td>1991</td>\n",
       "      <td>CAN’T LET GO</td>\n",
       "      <td>Mariah Carey</td>\n",
       "      <td>There you are, holding her hand\\nI am lost, dy...</td>\n",
       "    </tr>\n",
       "    <tr>\n",
       "      <th>3135</th>\n",
       "      <td>1991</td>\n",
       "      <td>EMOTIONS</td>\n",
       "      <td>Mariah Carey</td>\n",
       "      <td>You've got me feeling emotions\\nDeeper than I'...</td>\n",
       "    </tr>\n",
       "    <tr>\n",
       "      <th>3136</th>\n",
       "      <td>1991</td>\n",
       "      <td>SOMEDAY</td>\n",
       "      <td>Mariah Carey</td>\n",
       "      <td>You were so blind to let me go\\nYou had it all...</td>\n",
       "    </tr>\n",
       "    <tr>\n",
       "      <th>3137</th>\n",
       "      <td>1991</td>\n",
       "      <td>WILDSIDE</td>\n",
       "      <td>Marky Mark &amp; The Funky Bunch</td>\n",
       "      <td>Ah yeah huh American the beautiful\\nHuh yeah l...</td>\n",
       "    </tr>\n",
       "    <tr>\n",
       "      <th>3138</th>\n",
       "      <td>1991</td>\n",
       "      <td>GOOD VIBRATIONS</td>\n",
       "      <td>Marky Mark &amp; The Funky Bunch Featuring Loleatt...</td>\n",
       "      <td>Yeah\\nCan you feel it baby\\nI can too\\n\\nCome ...</td>\n",
       "    </tr>\n",
       "    <tr>\n",
       "      <th>3139</th>\n",
       "      <td>1991</td>\n",
       "      <td>LOVE… THY WILL BE DONE</td>\n",
       "      <td>Martika</td>\n",
       "      <td>Love... Thy will be done\\nI can no longer hide...</td>\n",
       "    </tr>\n",
       "    <tr>\n",
       "      <th>3140</th>\n",
       "      <td>1991</td>\n",
       "      <td>TIME, LOVE AND TENDERNESS</td>\n",
       "      <td>Michael Bolton</td>\n",
       "      <td>Time, love and tenderness\\nSo you say that you...</td>\n",
       "    </tr>\n",
       "    <tr>\n",
       "      <th>3141</th>\n",
       "      <td>1991</td>\n",
       "      <td>LOVE IS A WONDERFUL THING</td>\n",
       "      <td>Michael Bolton</td>\n",
       "      <td>Birds fly, they don't think twice\\nThey simply...</td>\n",
       "    </tr>\n",
       "    <tr>\n",
       "      <th>3142</th>\n",
       "      <td>1991</td>\n",
       "      <td>WHEN A MAN LOVES A WOMAN</td>\n",
       "      <td>Michael Bolton</td>\n",
       "      <td>When a man loves a woman\\nCan't keep his mind ...</td>\n",
       "    </tr>\n",
       "    <tr>\n",
       "      <th>3143</th>\n",
       "      <td>1991</td>\n",
       "      <td>BLACK OR WHITE</td>\n",
       "      <td>Michael Jackson</td>\n",
       "      <td>Hey!\\nWhat?\\nTurn that off!\\nDad, this is the ...</td>\n",
       "    </tr>\n",
       "    <tr>\n",
       "      <th>3144</th>\n",
       "      <td>1991</td>\n",
       "      <td>PLACE IN THIS WORLD</td>\n",
       "      <td>Michael W. Smith</td>\n",
       "      <td>The wind is moving\\nBut I am standing still\\nA...</td>\n",
       "    </tr>\n",
       "    <tr>\n",
       "      <th>3145</th>\n",
       "      <td>1991</td>\n",
       "      <td>DO ANYTHING</td>\n",
       "      <td>Natural Selection</td>\n",
       "      <td>Oh yeah\\nWhatcha gonna do for me\\nWhatcha gonn...</td>\n",
       "    </tr>\n",
       "    <tr>\n",
       "      <th>3146</th>\n",
       "      <td>1991</td>\n",
       "      <td>O.P.P.</td>\n",
       "      <td>Naughty By Nature</td>\n",
       "      <td>Arm me with harmony\\nDave, drop a load on 'em!...</td>\n",
       "    </tr>\n",
       "    <tr>\n",
       "      <th>3147</th>\n",
       "      <td>1991</td>\n",
       "      <td>AFTER THE RAIN</td>\n",
       "      <td>Nelson</td>\n",
       "      <td>Look in the mirror, girl\\nBy now you should kn...</td>\n",
       "    </tr>\n",
       "    <tr>\n",
       "      <th>3148</th>\n",
       "      <td>1991</td>\n",
       "      <td>GET HERE</td>\n",
       "      <td>Oleta Adams</td>\n",
       "      <td>You can reach me by railway\\nYou can reach me ...</td>\n",
       "    </tr>\n",
       "    <tr>\n",
       "      <th>3149</th>\n",
       "      <td>1991</td>\n",
       "      <td>SET ADRIFT ON MEMORY BLISS</td>\n",
       "      <td>P.M. Dawn</td>\n",
       "      <td>Baby you send me, baby you send me\\nSet adrift...</td>\n",
       "    </tr>\n",
       "    <tr>\n",
       "      <th>3150</th>\n",
       "      <td>1991</td>\n",
       "      <td>RUSH RUSH</td>\n",
       "      <td>Paula Abdul</td>\n",
       "      <td>You're the whisper of a summer breeze\\nYou're ...</td>\n",
       "    </tr>\n",
       "    <tr>\n",
       "      <th>3151</th>\n",
       "      <td>1991</td>\n",
       "      <td>THE PROMISE OF A NEW DAY</td>\n",
       "      <td>Paula Abdul</td>\n",
       "      <td>Eagle's calling and he's calling your name\\nTi...</td>\n",
       "    </tr>\n",
       "    <tr>\n",
       "      <th>3152</th>\n",
       "      <td>1991</td>\n",
       "      <td>BLOWING KISSES IN THE WIND</td>\n",
       "      <td>Paula Abdul</td>\n",
       "      <td>So tell, baby, tell your true heart\\nSay what ...</td>\n",
       "    </tr>\n",
       "    <tr>\n",
       "      <th>3153</th>\n",
       "      <td>1991</td>\n",
       "      <td>CREAM</td>\n",
       "      <td>Prince &amp; The N.P.G.</td>\n",
       "      <td>: Elizabeth bout to check up on Black Scale\\nL...</td>\n",
       "    </tr>\n",
       "    <tr>\n",
       "      <th>3154</th>\n",
       "      <td>1991</td>\n",
       "      <td>SILENT LUCIDITY</td>\n",
       "      <td>Queensryche</td>\n",
       "      <td>Hush now, don't you cry\\nWipe away the teardro...</td>\n",
       "    </tr>\n",
       "    <tr>\n",
       "      <th>3155</th>\n",
       "      <td>1991</td>\n",
       "      <td>SHINY HAPPY PEOPLE</td>\n",
       "      <td>R.E.M.</td>\n",
       "      <td>Shiny happy people laughing\\n\\n\\nMeet me in th...</td>\n",
       "    </tr>\n",
       "    <tr>\n",
       "      <th>3156</th>\n",
       "      <td>1991</td>\n",
       "      <td>LOSING MY RELIGION</td>\n",
       "      <td>R.E.M.</td>\n",
       "      <td>Oh, life is bigger\\nIt's bigger than you and y...</td>\n",
       "    </tr>\n",
       "    <tr>\n",
       "      <th>3157</th>\n",
       "      <td>1991</td>\n",
       "      <td>P.A.S.S.I.O.N.</td>\n",
       "      <td>Rhythm Syndicate</td>\n",
       "      <td>Sitting in my bedroom\\nThe rain is pouring dow...</td>\n",
       "    </tr>\n",
       "    <tr>\n",
       "      <th>3158</th>\n",
       "      <td>1991</td>\n",
       "      <td>CRY FOR HELP</td>\n",
       "      <td>Rick Astley</td>\n",
       "      <td>She's taken my time\\nConvinced me she's fine\\n...</td>\n",
       "    </tr>\n",
       "    <tr>\n",
       "      <th>3159</th>\n",
       "      <td>1991</td>\n",
       "      <td>SET THE NIGHT TO MUSIC</td>\n",
       "      <td>Roberta Flack &amp; Maxi Priest</td>\n",
       "      <td>Set the night to music\\nSet the night to music...</td>\n",
       "    </tr>\n",
       "    <tr>\n",
       "      <th>3160</th>\n",
       "      <td>1991</td>\n",
       "      <td>RHYTHM OF MY HEART</td>\n",
       "      <td>Rod Stewart</td>\n",
       "      <td>Across the street, the river runs\\nDown in the...</td>\n",
       "    </tr>\n",
       "    <tr>\n",
       "      <th>3161</th>\n",
       "      <td>1991</td>\n",
       "      <td>THE MOTOWN SONG</td>\n",
       "      <td>Rod Stewart</td>\n",
       "      <td>Ooh ooh ooh ooh ooh ooh\\n\\n\\nBring over some o...</td>\n",
       "    </tr>\n",
       "    <tr>\n",
       "      <th>3162</th>\n",
       "      <td>1991</td>\n",
       "      <td>FADING LIKE A FLOWER (EVERY TIME YOU LEAVE)</td>\n",
       "      <td>Roxette</td>\n",
       "      <td>In a time\\nWhere the sun descends alone\\nI ran...</td>\n",
       "    </tr>\n",
       "    <tr>\n",
       "      <th>3163</th>\n",
       "      <td>1991</td>\n",
       "      <td>JOYRIDE</td>\n",
       "      <td>Roxette</td>\n",
       "      <td>C'mon, join the joyride, everybody\\nGet your t...</td>\n",
       "    </tr>\n",
       "    <tr>\n",
       "      <th>3164</th>\n",
       "      <td>1991</td>\n",
       "      <td>WIND OF CHANGE</td>\n",
       "      <td>Scorpions</td>\n",
       "      <td>(Whistling)\\n\\n\\nI follow the Moskva\\nDown to ...</td>\n",
       "    </tr>\n",
       "    <tr>\n",
       "      <th>3165</th>\n",
       "      <td>1991</td>\n",
       "      <td>CRAZY</td>\n",
       "      <td>Seal</td>\n",
       "      <td>In a church, by the face\\nHe talks about the p...</td>\n",
       "    </tr>\n",
       "    <tr>\n",
       "      <th>3166</th>\n",
       "      <td>1991</td>\n",
       "      <td>ALL THIS TIME</td>\n",
       "      <td>Sting</td>\n",
       "      <td>I looked out across the river today\\nSaw a cit...</td>\n",
       "    </tr>\n",
       "    <tr>\n",
       "      <th>3167</th>\n",
       "      <td>1991</td>\n",
       "      <td>SHOW ME THE WAY</td>\n",
       "      <td>Styx</td>\n",
       "      <td>Every night I say a prayer\\nIn the hopes that ...</td>\n",
       "    </tr>\n",
       "    <tr>\n",
       "      <th>3168</th>\n",
       "      <td>1991</td>\n",
       "      <td>THE FIRST TIME</td>\n",
       "      <td>Surface</td>\n",
       "      <td>You know I won't forget the times\\nWe shared t...</td>\n",
       "    </tr>\n",
       "    <tr>\n",
       "      <th>3169</th>\n",
       "      <td>1991</td>\n",
       "      <td>PIECE OF MY HEART</td>\n",
       "      <td>Tara Kemp</td>\n",
       "      <td>You take a piece of my heart\\nWith you\\nAlways...</td>\n",
       "    </tr>\n",
       "    <tr>\n",
       "      <th>3170</th>\n",
       "      <td>1991</td>\n",
       "      <td>HOLD YOU TIGHT</td>\n",
       "      <td>Tara Kemp</td>\n",
       "      <td>Just want to hold you tight\\nAll day\\nAll nigh...</td>\n",
       "    </tr>\n",
       "    <tr>\n",
       "      <th>3171</th>\n",
       "      <td>1991</td>\n",
       "      <td>SIGNS</td>\n",
       "      <td>Tesla</td>\n",
       "      <td>And the sign says \"long hair freaky people nee...</td>\n",
       "    </tr>\n",
       "    <tr>\n",
       "      <th>3172</th>\n",
       "      <td>1991</td>\n",
       "      <td>I’LL BE THERE</td>\n",
       "      <td>The Escape Club</td>\n",
       "      <td>Over Mountains\\nOver Trees\\nOver Oceans\\nOver ...</td>\n",
       "    </tr>\n",
       "    <tr>\n",
       "      <th>3173</th>\n",
       "      <td>1991</td>\n",
       "      <td>3 A.M. ETERNAL</td>\n",
       "      <td>The KLF</td>\n",
       "      <td>This is Radio Freedom\\nKLF! aha aha aha aha\\n\\...</td>\n",
       "    </tr>\n",
       "    <tr>\n",
       "      <th>3174</th>\n",
       "      <td>1991</td>\n",
       "      <td>ONE MORE TRY</td>\n",
       "      <td>Timmy T</td>\n",
       "      <td>It's been a long time since you left me\\nI did...</td>\n",
       "    </tr>\n",
       "    <tr>\n",
       "      <th>3175</th>\n",
       "      <td>1991</td>\n",
       "      <td>THIS HOUSE</td>\n",
       "      <td>Tracie Spencer</td>\n",
       "      <td>Where do we go from here?\\nWhat must we do to ...</td>\n",
       "    </tr>\n",
       "    <tr>\n",
       "      <th>3176</th>\n",
       "      <td>1991</td>\n",
       "      <td>HERE I AM (COME AND TAKE ME)</td>\n",
       "      <td>UB40</td>\n",
       "      <td>I can't believe that it's real\\nThe way that y...</td>\n",
       "    </tr>\n",
       "    <tr>\n",
       "      <th>3177</th>\n",
       "      <td>1991</td>\n",
       "      <td>PLAY THAT FUNKY MUSIC</td>\n",
       "      <td>Vanilla Ice</td>\n",
       "      <td>Yo, Vanilla. Kick it one time, boy!\\n\\nPlay th...</td>\n",
       "    </tr>\n",
       "    <tr>\n",
       "      <th>3178</th>\n",
       "      <td>1991</td>\n",
       "      <td>I SAW RED</td>\n",
       "      <td>Warrant</td>\n",
       "      <td>Ooh, it must be magic\\nHow inside your eyes I ...</td>\n",
       "    </tr>\n",
       "    <tr>\n",
       "      <th>3179</th>\n",
       "      <td>1991</td>\n",
       "      <td>ALL THE MAN THAT I NEED</td>\n",
       "      <td>Whitney Houston</td>\n",
       "      <td>I used to cry myself to sleep at night\\nBut th...</td>\n",
       "    </tr>\n",
       "    <tr>\n",
       "      <th>3180</th>\n",
       "      <td>1991</td>\n",
       "      <td>MIRACLE</td>\n",
       "      <td>Whitney Houston</td>\n",
       "      <td>How could I throw away a miracle?\\nHow could I...</td>\n",
       "    </tr>\n",
       "    <tr>\n",
       "      <th>3181</th>\n",
       "      <td>1991</td>\n",
       "      <td>I’M NOT IN LOVE</td>\n",
       "      <td>Will To Power</td>\n",
       "      <td>I'm not in love, so don't forget it\\nIt's just...</td>\n",
       "    </tr>\n",
       "    <tr>\n",
       "      <th>3182</th>\n",
       "      <td>1991</td>\n",
       "      <td>YOU’RE IN LOVE</td>\n",
       "      <td>Wilson Phillips</td>\n",
       "      <td>Open the door and come in\\nI'm so glad to see ...</td>\n",
       "    </tr>\n",
       "  </tbody>\n",
       "</table>\n",
       "</div>"
      ],
      "text/plain": [
       "      year                                        title  \\\n",
       "3080  1991                     EVERYBODY PLAYS THE FOOL   \n",
       "3081  1991                      THAT’S WHAT LOVE IS FOR   \n",
       "3082  1991                              EVERY HEARTBEAT   \n",
       "3083  1991                                    BABY BABY   \n",
       "3084  1991                                   PLAYGROUND   \n",
       "3085  1991                                        IESHA   \n",
       "3086  1991                                 STRIKE IT UP   \n",
       "3087  1991                      SOMETHING TO TALK ABOUT   \n",
       "3088  1991                                 MOTOWNPHILLY   \n",
       "3089  1991     IT’S SO HARD TO SAY GOODBYE TO YESTERDAY   \n",
       "3090  1991             CAN’T STOP THIS THING WE STARTED   \n",
       "3091  1991            (EVERYTHING I DO) I DO IT FOR YOU   \n",
       "3092  1991                         GONNA MAKE YOU SWEAT   \n",
       "3093  1991                THINGS THAT MAKE YOU GO HMMM…   \n",
       "3094  1991                                   HERE WE GO   \n",
       "3095  1991                               TOO MANY WALLS   \n",
       "3096  1991                    TOUCH ME (ALL NIGHT LONG)   \n",
       "3097  1991                           JUST ANOTHER DREAM   \n",
       "3098  1991                                      FINALLY   \n",
       "3099  1991                 WHERE DOES MY HEART BEAT NOW   \n",
       "3100  1991                             THE ONE AND ONLY   \n",
       "3101  1991                                  WICKED GAME   \n",
       "3102  1991                                   ALL 4 LOVE   \n",
       "3103  1991                              I ADORE MI AMOR   \n",
       "3104  1991                           I WANNA SEX YOU UP   \n",
       "3105  1991                                   TEMPTATION   \n",
       "3106  1991                 GYPSY WOMAN (SHE’S HOMELESS)   \n",
       "3107  1991                                 I WONDER WHY   \n",
       "3108  1991                                   SUMMERTIME   \n",
       "3109  1991                               I TOUCH MYSELF   \n",
       "3110  1991                                 UNBELIEVABLE   \n",
       "3111  1991                                     SADENESS   \n",
       "3112  1991                                 HOLE HEARTED   \n",
       "3113  1991                              MORE THAN WORDS   \n",
       "3114  1991                           LOVE OF A LIFETIME   \n",
       "3115  1991                                   RICO SUAVE   \n",
       "3116  1991                       COMING OUT OF THE DARK   \n",
       "3117  1991                                    DON’T CRY   \n",
       "3118  1991                               2 LEGIT 2 QUIT   \n",
       "3119  1991            I LIKE THE WAY (THE KISSING GAME)   \n",
       "3120  1991                  I CAN’T WAIT ANOTHER MINUTE   \n",
       "3121  1991                                    DISAPPEAR   \n",
       "3122  1991             LOVE WILL NEVER DO (WITHOUT YOU)   \n",
       "3123  1991                               REAL REAL REAL   \n",
       "3124  1991                        RIGHT HERE, RIGHT NOW   \n",
       "3125  1991                                     ROMANTIC   \n",
       "3126  1991                 I’LL GIVE ALL MY LOVE TO YOU   \n",
       "3127  1991                          AROUND THE WAY GIRL   \n",
       "3128  1991                  IT AIN’T OVER TIL IT’S OVER   \n",
       "3129  1991                 I’VE BEEN THINKING ABOUT YOU   \n",
       "3130  1991                      DON’T WANT TO BE A FOOL   \n",
       "3131  1991                     POWER OF LOVE/LOVE POWER   \n",
       "3132  1991                                    RESCUE ME   \n",
       "3133  1991                            I DON’T WANNA CRY   \n",
       "3134  1991                                 CAN’T LET GO   \n",
       "3135  1991                                     EMOTIONS   \n",
       "3136  1991                                      SOMEDAY   \n",
       "3137  1991                                     WILDSIDE   \n",
       "3138  1991                              GOOD VIBRATIONS   \n",
       "3139  1991                       LOVE… THY WILL BE DONE   \n",
       "3140  1991                    TIME, LOVE AND TENDERNESS   \n",
       "3141  1991                    LOVE IS A WONDERFUL THING   \n",
       "3142  1991                     WHEN A MAN LOVES A WOMAN   \n",
       "3143  1991                               BLACK OR WHITE   \n",
       "3144  1991                          PLACE IN THIS WORLD   \n",
       "3145  1991                                  DO ANYTHING   \n",
       "3146  1991                                       O.P.P.   \n",
       "3147  1991                               AFTER THE RAIN   \n",
       "3148  1991                                     GET HERE   \n",
       "3149  1991                   SET ADRIFT ON MEMORY BLISS   \n",
       "3150  1991                                    RUSH RUSH   \n",
       "3151  1991                     THE PROMISE OF A NEW DAY   \n",
       "3152  1991                   BLOWING KISSES IN THE WIND   \n",
       "3153  1991                                        CREAM   \n",
       "3154  1991                              SILENT LUCIDITY   \n",
       "3155  1991                           SHINY HAPPY PEOPLE   \n",
       "3156  1991                           LOSING MY RELIGION   \n",
       "3157  1991                               P.A.S.S.I.O.N.   \n",
       "3158  1991                                 CRY FOR HELP   \n",
       "3159  1991                       SET THE NIGHT TO MUSIC   \n",
       "3160  1991                           RHYTHM OF MY HEART   \n",
       "3161  1991                              THE MOTOWN SONG   \n",
       "3162  1991  FADING LIKE A FLOWER (EVERY TIME YOU LEAVE)   \n",
       "3163  1991                                      JOYRIDE   \n",
       "3164  1991                               WIND OF CHANGE   \n",
       "3165  1991                                        CRAZY   \n",
       "3166  1991                                ALL THIS TIME   \n",
       "3167  1991                              SHOW ME THE WAY   \n",
       "3168  1991                               THE FIRST TIME   \n",
       "3169  1991                            PIECE OF MY HEART   \n",
       "3170  1991                               HOLD YOU TIGHT   \n",
       "3171  1991                                        SIGNS   \n",
       "3172  1991                                I’LL BE THERE   \n",
       "3173  1991                               3 A.M. ETERNAL   \n",
       "3174  1991                                 ONE MORE TRY   \n",
       "3175  1991                                   THIS HOUSE   \n",
       "3176  1991                 HERE I AM (COME AND TAKE ME)   \n",
       "3177  1991                        PLAY THAT FUNKY MUSIC   \n",
       "3178  1991                                    I SAW RED   \n",
       "3179  1991                      ALL THE MAN THAT I NEED   \n",
       "3180  1991                                      MIRACLE   \n",
       "3181  1991                              I’M NOT IN LOVE   \n",
       "3182  1991                               YOU’RE IN LOVE   \n",
       "\n",
       "                                                 artist  \\\n",
       "3080                                      Aaron Neville   \n",
       "3081                                          Amy Grant   \n",
       "3082                                          Amy Grant   \n",
       "3083                                          Amy Grant   \n",
       "3084                               Another Bad Creation   \n",
       "3085                               Another Bad Creation   \n",
       "3086                                          Black Box   \n",
       "3087                                       Bonnie Raitt   \n",
       "3088                                        Boyz II Men   \n",
       "3089                                        Boyz II Men   \n",
       "3090                                        Bryan Adams   \n",
       "3091                                        Bryan Adams   \n",
       "3092       C&C Music Factory Featuring Freedom Williams   \n",
       "3093       C&C Music Factory Featuring Freedom Williams   \n",
       "3094  C&C Music Factory Featuring Freedom Williams &...   \n",
       "3095                                       Cathy Dennis   \n",
       "3096                                       Cathy Dennis   \n",
       "3097                                       Cathy Dennis   \n",
       "3098                                     Ce Ce Peniston   \n",
       "3099                                        Celine Dion   \n",
       "3100                                     Chesney Hawkes   \n",
       "3101                                        Chris Isaak   \n",
       "3102                                      Color Me Badd   \n",
       "3103                                      Color Me Badd   \n",
       "3104                                      Color Me Badd   \n",
       "3105                                             Corina   \n",
       "3106                                     Crystal Waters   \n",
       "3107                                     Curtis Stigers   \n",
       "3108                 D.J. Jazzy Jeff & The Fresh Prince   \n",
       "3109                                           Divinyls   \n",
       "3110                                             E.M.F.   \n",
       "3111                                             Enigma   \n",
       "3112                                            Extreme   \n",
       "3113                                            Extreme   \n",
       "3114                                          Firehouse   \n",
       "3115                                            Gerardo   \n",
       "3116                                     Gloria Estefan   \n",
       "3117                                      Guns N’ Roses   \n",
       "3118                                             Hammer   \n",
       "3119                                            Hi-Five   \n",
       "3120                                            Hi-Five   \n",
       "3121                                               INXS   \n",
       "3122                                      Janet Jackson   \n",
       "3123                                        Jesus Jones   \n",
       "3124                                        Jesus Jones   \n",
       "3125                                        Karyn White   \n",
       "3126                                        Keith Sweat   \n",
       "3127                                          LL Cool J   \n",
       "3128                                      Lenny Kravitz   \n",
       "3129                                         Londonbeat   \n",
       "3130                                    Luther Vandross   \n",
       "3131                                    Luther Vandross   \n",
       "3132                                            Madonna   \n",
       "3133                                       Mariah Carey   \n",
       "3134                                       Mariah Carey   \n",
       "3135                                       Mariah Carey   \n",
       "3136                                       Mariah Carey   \n",
       "3137                       Marky Mark & The Funky Bunch   \n",
       "3138  Marky Mark & The Funky Bunch Featuring Loleatt...   \n",
       "3139                                            Martika   \n",
       "3140                                     Michael Bolton   \n",
       "3141                                     Michael Bolton   \n",
       "3142                                     Michael Bolton   \n",
       "3143                                    Michael Jackson   \n",
       "3144                                   Michael W. Smith   \n",
       "3145                                  Natural Selection   \n",
       "3146                                  Naughty By Nature   \n",
       "3147                                             Nelson   \n",
       "3148                                        Oleta Adams   \n",
       "3149                                          P.M. Dawn   \n",
       "3150                                        Paula Abdul   \n",
       "3151                                        Paula Abdul   \n",
       "3152                                        Paula Abdul   \n",
       "3153                                Prince & The N.P.G.   \n",
       "3154                                        Queensryche   \n",
       "3155                                             R.E.M.   \n",
       "3156                                             R.E.M.   \n",
       "3157                                   Rhythm Syndicate   \n",
       "3158                                        Rick Astley   \n",
       "3159                        Roberta Flack & Maxi Priest   \n",
       "3160                                        Rod Stewart   \n",
       "3161                                        Rod Stewart   \n",
       "3162                                            Roxette   \n",
       "3163                                            Roxette   \n",
       "3164                                          Scorpions   \n",
       "3165                                               Seal   \n",
       "3166                                              Sting   \n",
       "3167                                               Styx   \n",
       "3168                                            Surface   \n",
       "3169                                          Tara Kemp   \n",
       "3170                                          Tara Kemp   \n",
       "3171                                              Tesla   \n",
       "3172                                    The Escape Club   \n",
       "3173                                            The KLF   \n",
       "3174                                            Timmy T   \n",
       "3175                                     Tracie Spencer   \n",
       "3176                                               UB40   \n",
       "3177                                        Vanilla Ice   \n",
       "3178                                            Warrant   \n",
       "3179                                    Whitney Houston   \n",
       "3180                                    Whitney Houston   \n",
       "3181                                      Will To Power   \n",
       "3182                                    Wilson Phillips   \n",
       "\n",
       "                                                 lyrics  \n",
       "3080  Ok, so your heart is broken\\nYou're sitting ar...  \n",
       "3081  Sometimes we make it harder than it is\\nWe'll ...  \n",
       "3082  Hear me speak what's on my mind\\nLet me give t...  \n",
       "3083  Baby, baby\\nI'm taken with the notion\\nTo love...  \n",
       "3084  GA:\\nYeah, boy. Another ABC card\\nComin' from ...  \n",
       "3085  RoRo:\\nIesha, Iesha so glad to meetcha\\nSee yo...  \n",
       "3086  Yeah, yeah\\nDance, dance, dance, dance\\nYeah, ...  \n",
       "3087  People are talking, talking 'bout people\\nI he...  \n",
       "3088  Boyz II Men\\nBoyz II Men\\nBoyz II Men\\nBoyz II...  \n",
       "3089  How do I say goodbye\\nTo what we had?\\nThe goo...  \n",
       "3090  Yeah...\\nBaby, I'm coming to get you\\n\\nYou mi...  \n",
       "3091  Look into my eyes\\nYou will see\\nWhat you mean...  \n",
       "3092  Everybody dance now!\\nEverybody dance now!\\nGi...  \n",
       "3093  Things that make you go, hmm\\n\\n\\nI was at the...  \n",
       "3094  You all want this party started, right?\\nYou a...  \n",
       "3095  Wish on a rainbow\\nIs all I can do\\nDream of t...  \n",
       "3096  We're starting it over\\nWe're making way for d...  \n",
       "3097  The stars say you're my best lover\\nMatched up...  \n",
       "3098  Finally, finally, yeah yeah, ow\\n\\n\\nFinally i...  \n",
       "3099  So much to believe in, we were lost in time\\nE...  \n",
       "3100  I am the one and only, oh yeah\\n\\nCall me, cal...  \n",
       "3101  The world was on fire and no one could save me...  \n",
       "3102  I'm so glad you're my girl\\nI'll do anything 4...  \n",
       "3103  Dream on, dream away\\nI think I'm gonna have t...  \n",
       "3104  A tick tock, ya don't stop\\nTo the tick tock, ...  \n",
       "3105  Baby, there's something I think you should kno...  \n",
       "3106  She wakes up early every morning\\nJust to do h...  \n",
       "3107  Love is a hunger\\nThat burns in my soul\\nBut y...  \n",
       "3108  Drums Please!\\n\\n\\nSummer, summer, summertime\\...  \n",
       "3109  I love myself\\nI want you to love me\\nWhen I'm...  \n",
       "3110  (Oh!)\\n(What the fuck?)\\n(What the fuck was th...  \n",
       "3111  Procedamus in pace\\nIn nomine Christi, amen\\nC...  \n",
       "3112  Oooh yeah wooh!\\nHey, hey, hey, hey, hey, yeah...  \n",
       "3113  Saying \"I love you\"\\nIs not the words I want t...  \n",
       "3114  I guess the time was right for us to say\\nWe'd...  \n",
       "3115  Rico...\\nSuave...\\n\\nSeguro que han oído que y...  \n",
       "3116  Why be afraid if I'm not alone?\\nLife is never...  \n",
       "3117  Talk to me softly, there's something in your e...  \n",
       "3118  Too legit... Too legit to quit\\nSweat running ...  \n",
       "3119  All summer long\\nWe've been together\\nAnd I ne...  \n",
       "3120  You know\\nI've been waiting so long or this ch...  \n",
       "3121  Say I'm crying\\nI'm looking at what's on T.V\\n...  \n",
       "3122  Our friends think we're opposites\\nFalling in ...  \n",
       "3123  I think I know what you mean\\nAnd although it ...  \n",
       "3124  A woman on the radio talks about revolution\\nW...  \n",
       "3125  Ooh\\nBaby, baby, baby\\nI wanna get romantic\\nO...  \n",
       "3126  Oh baby baby baby oh\\nMy, my, my baby yeah\\nOh...  \n",
       "3127  You got me shook up, shook down, shook out\\nOn...  \n",
       "3128  Here we are still together\\nWe are one\\nSo muc...  \n",
       "3129  We must have been stone crazy\\nWhen we thought...  \n",
       "3130  Love, what have you done, oh wow\\nI was sure u...  \n",
       "3131  When I say goodbye it is never for long\\n'Caus...  \n",
       "3132  I'm talking, I'm talking\\nI believe in the pow...  \n",
       "3133  Once again we sit in silence\\nAfter all is sai...  \n",
       "3134  There you are, holding her hand\\nI am lost, dy...  \n",
       "3135  You've got me feeling emotions\\nDeeper than I'...  \n",
       "3136  You were so blind to let me go\\nYou had it all...  \n",
       "3137  Ah yeah huh American the beautiful\\nHuh yeah l...  \n",
       "3138  Yeah\\nCan you feel it baby\\nI can too\\n\\nCome ...  \n",
       "3139  Love... Thy will be done\\nI can no longer hide...  \n",
       "3140  Time, love and tenderness\\nSo you say that you...  \n",
       "3141  Birds fly, they don't think twice\\nThey simply...  \n",
       "3142  When a man loves a woman\\nCan't keep his mind ...  \n",
       "3143  Hey!\\nWhat?\\nTurn that off!\\nDad, this is the ...  \n",
       "3144  The wind is moving\\nBut I am standing still\\nA...  \n",
       "3145  Oh yeah\\nWhatcha gonna do for me\\nWhatcha gonn...  \n",
       "3146  Arm me with harmony\\nDave, drop a load on 'em!...  \n",
       "3147  Look in the mirror, girl\\nBy now you should kn...  \n",
       "3148  You can reach me by railway\\nYou can reach me ...  \n",
       "3149  Baby you send me, baby you send me\\nSet adrift...  \n",
       "3150  You're the whisper of a summer breeze\\nYou're ...  \n",
       "3151  Eagle's calling and he's calling your name\\nTi...  \n",
       "3152  So tell, baby, tell your true heart\\nSay what ...  \n",
       "3153  : Elizabeth bout to check up on Black Scale\\nL...  \n",
       "3154  Hush now, don't you cry\\nWipe away the teardro...  \n",
       "3155  Shiny happy people laughing\\n\\n\\nMeet me in th...  \n",
       "3156  Oh, life is bigger\\nIt's bigger than you and y...  \n",
       "3157  Sitting in my bedroom\\nThe rain is pouring dow...  \n",
       "3158  She's taken my time\\nConvinced me she's fine\\n...  \n",
       "3159  Set the night to music\\nSet the night to music...  \n",
       "3160  Across the street, the river runs\\nDown in the...  \n",
       "3161  Ooh ooh ooh ooh ooh ooh\\n\\n\\nBring over some o...  \n",
       "3162  In a time\\nWhere the sun descends alone\\nI ran...  \n",
       "3163  C'mon, join the joyride, everybody\\nGet your t...  \n",
       "3164  (Whistling)\\n\\n\\nI follow the Moskva\\nDown to ...  \n",
       "3165  In a church, by the face\\nHe talks about the p...  \n",
       "3166  I looked out across the river today\\nSaw a cit...  \n",
       "3167  Every night I say a prayer\\nIn the hopes that ...  \n",
       "3168  You know I won't forget the times\\nWe shared t...  \n",
       "3169  You take a piece of my heart\\nWith you\\nAlways...  \n",
       "3170  Just want to hold you tight\\nAll day\\nAll nigh...  \n",
       "3171  And the sign says \"long hair freaky people nee...  \n",
       "3172  Over Mountains\\nOver Trees\\nOver Oceans\\nOver ...  \n",
       "3173  This is Radio Freedom\\nKLF! aha aha aha aha\\n\\...  \n",
       "3174  It's been a long time since you left me\\nI did...  \n",
       "3175  Where do we go from here?\\nWhat must we do to ...  \n",
       "3176  I can't believe that it's real\\nThe way that y...  \n",
       "3177  Yo, Vanilla. Kick it one time, boy!\\n\\nPlay th...  \n",
       "3178  Ooh, it must be magic\\nHow inside your eyes I ...  \n",
       "3179  I used to cry myself to sleep at night\\nBut th...  \n",
       "3180  How could I throw away a miracle?\\nHow could I...  \n",
       "3181  I'm not in love, so don't forget it\\nIt's just...  \n",
       "3182  Open the door and come in\\nI'm so glad to see ...  "
      ]
     },
     "execution_count": 318,
     "metadata": {},
     "output_type": "execute_result"
    }
   ],
   "source": [
    "df[df.year == 1991]"
   ]
  },
  {
   "cell_type": "code",
   "execution_count": 314,
   "metadata": {},
   "outputs": [
    {
     "name": "stdout",
     "output_type": "stream",
     "text": [
      "Band\n",
      "Uh, I don't know it's... It's just a thing with me you know\n",
      "If I see somethin' that I like, it's a... I have to go for it\n",
      "And I like what I see, baby\n",
      "Ah, come here\n",
      "\n",
      "\n",
      "I got real bored on a friday night, I couldn't find a damn thing to do\n",
      "So I pulled out a suit about the same color as my BMW\n",
      "I drove to the party and I stepped on in, just to see what I could see\n",
      "Everybody knew what I was lookin' for\n",
      "I was lookin' for some company, that's right!\n",
      "\n",
      "\n",
      "Jerk out\n",
      "Jerkin' everything in sight\n",
      "And you know that I'm talkin' about the...\n",
      "Jerk out\n",
      "(I got the cash, I got the ride, Oh Lawd)\n",
      "Got to make some love tonight\n",
      "And you know I got the look\n",
      "\n",
      "\n",
      "I saw a real fine thing sittin' by the bar\n",
      "She looked kinda all alone\n",
      "So I slid on over and I asked her name\n",
      "The Stella was bad to the bone\n",
      "I showed her my stash and I kissed her cheek\n",
      "The only kind of rap it takes\n",
      "She knew I was bad when I jerked her to my ride\n",
      "She said, \"How much money you make?\"\n",
      "Let's just say it'll be more money...\n",
      "\n",
      "\n",
      "Jerk out\n",
      "(...Than you'll ever see in your lifetime, ha ha!)\n",
      "Jerkin' everything in sight\n",
      "I'm talkin' about the...\n",
      "Jerk out\n",
      "Got to make some love tonight\n",
      "\n",
      "\n",
      "Jerk it, jerk it\n",
      "I'm talkin' about the\n",
      "Jerk it, jerk it\n",
      "Jerk out\n",
      "Jerk it, jerk it\n",
      "I'm talkin' about the\n",
      "Jerk it, jerk it\n",
      "Jerk out\n",
      "\n",
      "\n",
      "I took her to my crib and I laid her down\n",
      "Her body felt kinda right\n",
      "Maybe I was wrong but what the hell, I figured that was what she liked\n",
      "I said \"Baby, don't get too comfortable, 'cause I really like to sleep alone\n",
      "Leave your number on the table by my data bank. I love you, but you got to go\"\n",
      "(What?)\n",
      "\n",
      "\n",
      "Jerk out\n",
      "(You ain't got to go home, but you got to get the hell outta here)\n",
      "Jerkin' everything in sight\n",
      "I'm talkin' about the...\n",
      "Jerk out\n",
      "Got to make some love tonight\n",
      "All night\n",
      "Jerk out\n",
      "(What's your number girl?)\n",
      "Jerkin' everything in sight\n",
      "I'm talkin' about the...\n",
      "(The master of the)\n",
      "Jerk out\n",
      "Got to make some love tonight\n",
      "All night\n",
      "Oh, I got to make some love\n",
      "\n",
      "\n",
      "Jerk it, jerk it\n",
      "I'm talkin' about the\n",
      "Jerk it, jerk it\n",
      "Jerk out\n",
      "Jerk it, jerk it\n",
      "I'm talkin' about the\n",
      "Jerk it, jerk it\n",
      "Jerk out\n",
      "\n",
      "\n",
      "Jerk out\n",
      "Jerkin' everything in sight\n",
      "( You look so satisfied)\n",
      "I'm talkin' about the...\n",
      "Jerk out\n",
      "( Ha ha ha ha! That's it)\n",
      "Got to make some love tonight\n",
      "Jerk Out\n",
      "(Please, who ever told you, you could sing?)\n",
      "\n",
      "\n",
      "Jerome, stop at the instant teller so I can get me some cash\n",
      "Got to make some love to night\n",
      "Yes\n",
      "Fellas, y'all play somethin'?\n",
      "That's it\n",
      "You know I think I feel the need fo a change\n",
      "Cross over. There's so many things we can do\n",
      "You like, ah, Raviolios, Cherrios, Spaghettios\n",
      "You can just never have enough O's, uh!\n",
      "\n",
      "\n",
      "Jerk out\n",
      "(Hey, oh!)\n",
      "Jerkin' everything in sight\n",
      "(Everybody)\n",
      "Jerk out\n",
      "(No, oh!)\n",
      "Got to make some love to night\n",
      "(Whoaoo!)\n",
      "Jerk out\n",
      "(Don't you all just hate it when we walk in y'all's joint?)\n",
      "Jerkin' everything in sight\n",
      "(And just jerk out everything in sight? Don't it make you mad?)\n",
      "Jerk out\n",
      "(Don't it make you mad?)\n",
      "Got to make some love tonight?\n",
      "(It'd make me mad)\n",
      "\n",
      "\n",
      "Fellas? - Yeah?\n",
      "What's the move? - Jerkin' everything in sight!\n",
      "Uh, fellas? - Yeah?\n",
      "What's the groove? - Make a little love tonight!\n",
      "That's right, fellas? - Yeah?\n",
      "What's the move? - Jerkin' everything in sight!\n",
      "Huh, fellas? - Yeah?\n",
      "What's the groove? - Make a little love tonight\n",
      "Look out, fellas? - Yeah?\n",
      "What's the move? - Jerkin' everything in sight!\n",
      "Ha, fellas? - Yeah?\n",
      "What's the groove? - Make a little love tonight\n",
      "Fellas? - Yeah?\n",
      "What's the move? - Jerkin' everything in sight!\n",
      "Good God, fellas? - Yeah?\n",
      "What's the groove? - Make a little love tonight!\n",
      "\n",
      "Somebody bring me a mirror\n",
      "What suit should I wear tonight?\n",
      "\n",
      "If you think I'm cool, you're right\n",
      "Somebody say Kool-Aid! - Kool-Aid!\n",
      "Jerk it.... uh!\n",
      "Make a little love tonight. - What?\n",
      "Jerkin' everything in sight. - Oh, that's right\n",
      "Make a little love tonight. - Oh Lawd\n",
      "Jerkin' everything in sight. That's frightenin'\n",
      "Make a little love tonight. - We can do this\n",
      "Jerkin' everything in sight. - Oh Lawd\n",
      "Make a little love tonight. - Fellas\n",
      "Jerkin' everything in sight. - Yes\n",
      "Make a little love... - Oh\n",
      "Make a little love... - Yeah\n",
      "Make a little love tonight. - Ha ha!\n",
      "\n",
      "\n",
      "Jerk out\n",
      "I'm the master of the jerk out\n",
      ".... Ha, them's your drawers, Morris\n",
      "Now tell me somethin' that I don't already know J.B\n",
      "Jerk out. - It's just one of them things you know, huh\n",
      "Got to make some love tonight. - Money, clothes, cars, credit cards, houses\n",
      "Jerk out. - You know what I'm talkin about, ha ha!\n",
      "Jerkin' everything in sight\n",
      ".... What's he talkin' about?\n",
      "You should see my home. It's... so nice\n",
      ".... Girl, he is kinda sexy\n",
      ".... Girl, please!\n",
      "Oh, well, if you're not doin' anything. We could go there right now\n",
      ".... Can my friend come?\n",
      "Oh, I'd love that\n",
      ".... Girl!\n",
      "Uh, that sure is a lovely blouse you have on\n",
      ".... Thank you\n",
      "Can I take it off?\n",
      ".... No\n",
      "Oh, I just wanna..., oh, I just wanna touch it\n",
      ".... Stop\n",
      "So nice, so nice\n",
      ".... No. Stop\n",
      "Oh, that was so nice\n"
     ]
    }
   ],
   "source": [
    "print(df.loc[3068, 'lyrics'])"
   ]
  },
  {
   "cell_type": "code",
   "execution_count": null,
   "metadata": {},
   "outputs": [],
   "source": [
    "# rescrape\n",
    "df.loc[3280, 'lyrics'] = lyrics_grabber(access_token, \"gangsta's paradise coolio\")"
   ]
  },
  {
   "cell_type": "markdown",
   "metadata": {},
   "source": [
    "### 1996"
   ]
  },
  {
   "cell_type": "code",
   "execution_count": null,
   "metadata": {},
   "outputs": [],
   "source": [
    "# rescrape\n",
    "df.loc[3371, 'lyrics'] = lyrics_grabber(access_token, 'nobody keith sweat')"
   ]
  },
  {
   "cell_type": "code",
   "execution_count": null,
   "metadata": {},
   "outputs": [],
   "source": [
    "# remove lines\n",
    "df.loc[3324, 'lyrics'] = remove_n_lines(9, df.loc[3324, 'lyrics'])"
   ]
  },
  {
   "cell_type": "code",
   "execution_count": null,
   "metadata": {},
   "outputs": [],
   "source": [
    "# instrumentals\n",
    "df.loc[3365, 'lyrics'] = np.nan"
   ]
  },
  {
   "cell_type": "code",
   "execution_count": null,
   "metadata": {},
   "outputs": [],
   "source": [
    "# remove duplicate\n",
    "df.drop(index=3331, inplace=True)"
   ]
  },
  {
   "cell_type": "markdown",
   "metadata": {},
   "source": [
    "### 1997"
   ]
  },
  {
   "cell_type": "code",
   "execution_count": null,
   "metadata": {},
   "outputs": [],
   "source": [
    "# rescrape\n",
    "df.loc[3374, 'lyrics'] = lyrics_grabber(access_token, 'mmmbop')\n",
    "df.loc[3384, 'lyrics'] = lyrics_grabber(access_token, 'feel so good ma$e')\n",
    "df.loc[3395, 'lyrics'] = lyrics_grabber(access_token, 'gotham city r. kelly')\n",
    "df.loc[3411, 'lyrics'] = lyrics_grabber(access_token, 'CAN’T NOBODY HOLD ME DOWN')"
   ]
  },
  {
   "cell_type": "markdown",
   "metadata": {},
   "source": [
    "### 1998-1999"
   ]
  },
  {
   "cell_type": "code",
   "execution_count": null,
   "metadata": {},
   "outputs": [],
   "source": [
    "# rescrape\n",
    "df.loc[3493, 'lyrics'] = lyrics_grabber(access_token, 'lost in you garth')\n",
    "df.loc[3512, 'lyrics'] = lyrics_grabber(access_token, 'smooth santana')"
   ]
  },
  {
   "cell_type": "markdown",
   "metadata": {},
   "source": [
    "### 2000"
   ]
  },
  {
   "cell_type": "code",
   "execution_count": null,
   "metadata": {},
   "outputs": [],
   "source": [
    "# rescrape\n",
    "df.loc[3541, 'lyrics'] = lyrics_grabber(access_token, \"destiny's child independent\")\n",
    "df.loc[3578, 'lyrics'] = lyrics_grabber(access_token, 'maria santana')"
   ]
  },
  {
   "cell_type": "code",
   "execution_count": null,
   "metadata": {},
   "outputs": [],
   "source": [
    "# remove lines\n",
    "df.loc[3543, 'lyrics'] = remove_n_lines(3, df.loc[3543, 'lyrics'])"
   ]
  },
  {
   "cell_type": "code",
   "execution_count": null,
   "metadata": {},
   "outputs": [],
   "source": [
    "# remove duplicate\n",
    "df.drop(index=3579, inplace=True)"
   ]
  },
  {
   "cell_type": "markdown",
   "metadata": {},
   "source": [
    "### 2001"
   ]
  },
  {
   "cell_type": "code",
   "execution_count": null,
   "metadata": {},
   "outputs": [],
   "source": [
    "# rescrape\n",
    "df.loc[3597, 'lyrics'] = lyrics_grabber(access_token, \"lady marmalade Lil’ Kim, Mýa, Christina Aguilera & P!nk\")\n",
    "df.loc[3616, 'lyrics'] = lyrics_grabber(access_token, 'always on time ja rule')\n",
    "df.loc[3626, 'lyrics'] = lyrics_grabber(access_token, \"i'm real jennifer lopez\")"
   ]
  },
  {
   "cell_type": "code",
   "execution_count": null,
   "metadata": {},
   "outputs": [],
   "source": [
    "# update artist\n",
    "df.loc[3597, 'artist'] = 'Lil’ Kim, Mýa, Christina Aguilera & P!nk'"
   ]
  },
  {
   "cell_type": "markdown",
   "metadata": {},
   "source": [
    "### 2002"
   ]
  },
  {
   "cell_type": "code",
   "execution_count": null,
   "metadata": {},
   "outputs": [],
   "source": [
    "# rescrape\n",
    "df.loc[3659, 'lyrics'] = lyrics_grabber(access_token, 'down 4 u irv gotti')"
   ]
  },
  {
   "cell_type": "code",
   "execution_count": null,
   "metadata": {
    "scrolled": true
   },
   "outputs": [],
   "source": [
    "df[df.year == 2002]"
   ]
  },
  {
   "cell_type": "code",
   "execution_count": null,
   "metadata": {},
   "outputs": [],
   "source": [
    "print(df.loc[3659, 'lyrics'])"
   ]
  },
  {
   "cell_type": "markdown",
   "metadata": {},
   "source": [
    "### 1998"
   ]
  },
  {
   "cell_type": "code",
   "execution_count": null,
   "metadata": {},
   "outputs": [],
   "source": []
  },
  {
   "cell_type": "code",
   "execution_count": null,
   "metadata": {},
   "outputs": [],
   "source": [
    "df.loc[1324, 'lyrics'] = lyrics_grabber(access_token, 'The Morning After (Theme From The Poseidon Adventure)')"
   ]
  },
  {
   "cell_type": "code",
   "execution_count": null,
   "metadata": {},
   "outputs": [],
   "source": [
    "remove_n_lines(2, df.loc[1386, 'lyrics'])"
   ]
  },
  {
   "cell_type": "code",
   "execution_count": null,
   "metadata": {},
   "outputs": [],
   "source": [
    "df[df.artist == 'The Larks']"
   ]
  },
  {
   "cell_type": "code",
   "execution_count": null,
   "metadata": {},
   "outputs": [],
   "source": []
  },
  {
   "cell_type": "code",
   "execution_count": null,
   "metadata": {},
   "outputs": [],
   "source": [
    "rescrape('http://www.songlyrics.com/the-larks/jerk-lyrics/',\n",
    "                                 soup.find('p', attrs={'class': 'songLyricsV14 iComment-text'}).contents)"
   ]
  },
  {
   "cell_type": "code",
   "execution_count": null,
   "metadata": {},
   "outputs": [],
   "source": [
    "soup = soupify('http://www.songlyrics.com/the-larks/jerk-lyrics/')"
   ]
  },
  {
   "cell_type": "code",
   "execution_count": null,
   "metadata": {},
   "outputs": [],
   "source": [
    "soup.find('p', attrs={'class': 'songLyricsV14 iComment-text'}).contents"
   ]
  },
  {
   "cell_type": "code",
   "execution_count": null,
   "metadata": {},
   "outputs": [],
   "source": [
    "'\\n'.join(\n",
    "    [line.strip() for line in soup.find('div', attrs={'class': 'inner'}).contents\n",
    "     if isinstance(line, str) if line.strip()]\n",
    ")"
   ]
  },
  {
   "cell_type": "code",
   "execution_count": null,
   "metadata": {},
   "outputs": [],
   "source": [
    "soup.find('div', attrs={'class': 'inner'}).contents"
   ]
  },
  {
   "cell_type": "code",
   "execution_count": null,
   "metadata": {},
   "outputs": [],
   "source": [
    "please break this code"
   ]
  },
  {
   "cell_type": "code",
   "execution_count": null,
   "metadata": {},
   "outputs": [],
   "source": [
    "print(df.loc[81, 'lyrics'])"
   ]
  },
  {
   "cell_type": "code",
   "execution_count": null,
   "metadata": {},
   "outputs": [],
   "source": [
    "regex = re.compile(\".*?\\[(.*?)\\]\")\n",
    "result = re.findall(regex, df.loc[1, 'lyrics'])\n",
    "result"
   ]
  },
  {
   "cell_type": "code",
   "execution_count": null,
   "metadata": {},
   "outputs": [],
   "source": []
  },
  {
   "cell_type": "code",
   "execution_count": null,
   "metadata": {},
   "outputs": [],
   "source": [
    "df['lyrics'] = df.lyrics.map(remove_brackets)\n",
    "df.lyrics.head(100)"
   ]
  },
  {
   "cell_type": "code",
   "execution_count": null,
   "metadata": {},
   "outputs": [],
   "source": []
  },
  {
   "cell_type": "code",
   "execution_count": null,
   "metadata": {},
   "outputs": [],
   "source": [
    "# graph number of unique songs per year\n",
    "plt.figure(figsize=(10,6))\n",
    "plt.plot([len(year) for year in all_top10s])\n",
    "plt.xticks(ticks=range(0,60,5), labels=range(1960,2021,5))\n",
    "plt.show()"
   ]
  },
  {
   "cell_type": "code",
   "execution_count": null,
   "metadata": {},
   "outputs": [],
   "source": [
    "# graph number of unique songs per year\n",
    "plt.figure(figsize=(10,6))\n",
    "sns.barplot(x=[year for year in range(1960,2020)], y=[len(year) for year in all_top10s])\n",
    "plt.xticks(ticks=range(0,60,5), labels=range(1960,2021,5))\n",
    "plt.show()"
   ]
  },
  {
   "cell_type": "code",
   "execution_count": 149,
   "metadata": {},
   "outputs": [],
   "source": [
    "# two songs combined, so separating here\n",
    "df.loc[985, 'title'] = 'DOWN ON THE CORNER'\n",
    "df.loc[985, 'lyrics'] = lyrics_grabber(access_token, 'creedence down on the corner')\n",
    "\n",
    "df.loc[986, 'title'] = 'FORTUNATE SON'\n",
    "df.loc[986, 'lyrics'] = lyrics_grabber(access_token, 'creedence fortunate son')"
   ]
  },
  {
   "cell_type": "code",
   "execution_count": 168,
   "metadata": {},
   "outputs": [],
   "source": [
    "# separating song combos\n",
    "ccr1 = split_combos(1092)\n",
    "\n",
    "ccr2 = split_combos(1093)\n",
    "\n",
    "ccr3 = split_combos(1094)\n",
    "\n",
    "gh = split_combos(1109)\n",
    "\n",
    "j5 = split_combos(1113)\n",
    "\n",
    "sfs = split_combos(1132)\n",
    "\n",
    "bea = split_combos(1139)\n",
    "\n",
    "t5s = split_combos(1145)\n",
    "\n",
    "tgw = split_combos(1149)\n",
    "\n",
    "addons = [ccr1, ccr2, ccr3, gh, j5, sfs, bea, t5s, tgw]\n",
    "temp_df = pd.DataFrame(addons)\n",
    "\n",
    "df = pd.concat([df, temp_df])"
   ]
  }
 ],
 "metadata": {
  "kernelspec": {
   "display_name": "Python [conda env:learn-env] *",
   "language": "python",
   "name": "conda-env-learn-env-py"
  },
  "language_info": {
   "codemirror_mode": {
    "name": "ipython",
    "version": 3
   },
   "file_extension": ".py",
   "mimetype": "text/x-python",
   "name": "python",
   "nbconvert_exporter": "python",
   "pygments_lexer": "ipython3",
   "version": "3.6.9"
  }
 },
 "nbformat": 4,
 "nbformat_minor": 2
}
