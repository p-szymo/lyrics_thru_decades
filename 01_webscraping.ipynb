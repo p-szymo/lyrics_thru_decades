{
 "cells": [
  {
   "cell_type": "markdown",
   "metadata": {},
   "source": [
    "# Music Lyrics Through the Years\n",
    "\n",
    "#### Import (possibly) necessary libraries"
   ]
  },
  {
   "cell_type": "code",
   "execution_count": 1,
   "metadata": {},
   "outputs": [],
   "source": [
    "import pandas as pd\n",
    "import numpy as np\n",
    "\n",
    "import re\n",
    "from unicodedata import normalize\n",
    "\n",
    "import requests as rq\n",
    "from bs4 import BeautifulSoup as bs\n",
    "from selenium import webdriver\n",
    "\n",
    "import pickle\n",
    "\n",
    "from functions.webscraping import *\n",
    "\n",
    "%load_ext autoreload\n",
    "%autoreload 2"
   ]
  },
  {
   "cell_type": "markdown",
   "metadata": {},
   "source": [
    "## Scrape song title and artist"
   ]
  },
  {
   "cell_type": "code",
   "execution_count": 2,
   "metadata": {},
   "outputs": [],
   "source": [
    "test_url = 'https://top40weekly.com/1960-all-charts/'"
   ]
  },
  {
   "cell_type": "code",
   "execution_count": 3,
   "metadata": {},
   "outputs": [
    {
     "data": {
      "text/plain": [
       "103"
      ]
     },
     "execution_count": 3,
     "metadata": {},
     "output_type": "execute_result"
    }
   ],
   "source": [
    "top10s_1960 = yearly_top10s(test_url)\n",
    "len(top10s_1960)"
   ]
  },
  {
   "cell_type": "code",
   "execution_count": 4,
   "metadata": {},
   "outputs": [
    {
     "data": {
      "text/plain": [
       "[('NORTH TO ALASKA', 'Johnny Horton'),\n",
       " ('STAIRWAY TO HEAVEN', 'Neil Sedaka'),\n",
       " ('WONDERLAND BY NIGHT', 'Bert Kaempfert'),\n",
       " ('WHAT IN THE WORLD’S COME OVER YOU', 'Jack Scott'),\n",
       " ('EL PASO', 'Marty Robbins'),\n",
       " ('SIXTEEN REASONS', 'Connie Stevens'),\n",
       " ('ITSY BITSY TEENIE WEENIE YELLOW POLKA DOT BIKINI', 'Brian Hyland'),\n",
       " ('WALKING TO NEW ORLEANS', 'Fats Domino'),\n",
       " ('THE THEME FROM “A SUMMER PLACE”', 'Percy Faith and His Orchestra'),\n",
       " ('ALONE AT LAST', 'Jackie Wilson'),\n",
       " ('GO, JIMMY, GO', 'Jimmy Clanton'),\n",
       " ('THEME FROM “THE APARTMENT”', 'Ferrante and Teicher'),\n",
       " ('THE TWIST', 'Chubby Checker'),\n",
       " ('LET’S GO, LET’S GO, LET’S GO', 'Hank Ballard and the Midnighters'),\n",
       " ('DEVIL OR ANGEL', 'Bobby Vee'),\n",
       " ('WHEN WILL I BE LOVED', 'The Everly Brothers'),\n",
       " ('MY HEART HAS A MIND OF ITS OWN', 'Connie Francis'),\n",
       " ('I’M SORRY', 'Brenda Lee'),\n",
       " ('I WANT TO BE WANTED', 'Brenda Lee'),\n",
       " ('LET THE LITTLE GIRL DANCE', 'Billy Bland'),\n",
       " ('THAT’S ALL YOU GOTTA DO', 'Brenda Lee'),\n",
       " ('FOOTSTEPS', 'Steve Lawrence'),\n",
       " ('IT’S TIME TO CRY', 'Paul Anka'),\n",
       " ('O DIO MIO', 'Annette'),\n",
       " ('GREENFIELDS', 'The Brothers Four'),\n",
       " ('FOREVER', 'The Little Dippers'),\n",
       " ('SO SAD (To Watch Good Love Go Bad)', 'The Everly Brothers'),\n",
       " ('BLUE ANGEL', 'Roy Orbison'),\n",
       " ('PRETTY BLUE EYES', 'Steve Lawrence'),\n",
       " ('ARE YOU LONESOME TO-NIGHT', 'Elvis Presley'),\n",
       " ('YOU’RE SIXTEEN', 'Johnny Burnette'),\n",
       " ('LONELY BLUE BOY', 'Conway Twitty'),\n",
       " ('HANDY MAN', 'Jimmy Jones'),\n",
       " ('YOU TALK TOO MUCH', 'Joe Jones'),\n",
       " ('EXODUS', 'Ferrante and Teicher'),\n",
       " ('A ROCKIN’ GOOD WAY (To Mess Around and Fall In Love)',\n",
       "  'Dinah Washington and Brook Benton'),\n",
       " ('HOUND DOG MAN', 'Fabian'),\n",
       " ('A MILLION TO ONE', 'Jimmy Charles'),\n",
       " ('POETRY IN MOTION', 'Johnny Tillotson'),\n",
       " ('HEARTACHES BY THE NUMBER', 'Guy Mitchell'),\n",
       " ('PUPPY LOVE', 'Paul Anka'),\n",
       " ('SWINGIN’ SCHOOL', 'Bobby Rydell'),\n",
       " ('AMONG MY SOUVENIRS', 'Connie Francis'),\n",
       " ('WHERE OR WHEN', 'Dion and the Belmonts'),\n",
       " ('LET’S THINK ABOUT LIVING', 'Bob Luman'),\n",
       " ('WILD ONE', 'Bobby Rydell'),\n",
       " ('BEYOND THE SEA', 'Bobby Darin'),\n",
       " ('TEEN ANGEL', 'Mark Dinning'),\n",
       " ('VOLARE (Nel Blu Di Pinto Di Blu)', 'Bobby Rydell'),\n",
       " ('WHITE SILVER SANDS', 'Bill Black'),\n",
       " ('HAPPY-GO-LUCKY-ME', 'Paul Evans'),\n",
       " ('MISSION BELL', 'Donnie Brooks'),\n",
       " ('HE’LL HAVE TO STAY', 'Jeanne Black'),\n",
       " ('HE WILL BREAK YOUR HEART', 'Jerry Butler'),\n",
       " ('HARBOR LIGHTS', 'The Platters'),\n",
       " ('STAY', 'Maurice Williams and the Zodiacs'),\n",
       " ('THE BIG HURT', 'Miss Toni Fisher'),\n",
       " ('GEORGIA ON MY MIND', 'Ray Charles'),\n",
       " ('CRADLE OF LOVE', 'Johnny Preston'),\n",
       " ('PLEASE HELP ME, I’M FALLING', 'Hank Locklin'),\n",
       " ('STUCK ON YOU', 'Elvis Presley'),\n",
       " ('SAVE THE LAST DANCE FOR ME', 'The Drifters'),\n",
       " ('CATHY’S CLOWN', 'The Everly Brothers'),\n",
       " ('CHAIN GANG', 'Sam Cooke'),\n",
       " ('MULE SKINNER BLUES', 'The Fendermen'),\n",
       " ('LOVE YOU SO', 'Ron Holden'),\n",
       " ('NEW ORLEANS', 'Gary'),\n",
       " ('MY HOME TOWN', 'Paul Anka'),\n",
       " ('NIGHT', 'Jackie Wilson'),\n",
       " ('MR. CUSTER', 'Larry Verne'),\n",
       " ('LET IT BE ME', 'The Everly Brothers'),\n",
       " ('KIDDIO', 'Brook Benton'),\n",
       " ('WAY DOWN YONDER IN NEW ORLEANS', 'Freddy Cannon'),\n",
       " ('WALK–DON’T RUN', 'The Ventures'),\n",
       " ('RUNNING BEAR', 'Johnny Preston'),\n",
       " ('BECAUSE THEY’RE YOUNG', 'Duane Eddy'),\n",
       " ('BURNING BRIDGES', 'Jack Scott'),\n",
       " ('I LOVE THE WAY YOU LOVE', 'Marv Johnson'),\n",
       " ('WHY', 'Frankie Avalon'),\n",
       " ('YOGI', 'The Ivy Three'),\n",
       " ('MACK THE KNIFE', 'Bobby Darin'),\n",
       " ('ALLEY-OOP', 'Hollywood Argyles'),\n",
       " ('PAPER ROSES', 'Anita Bryant'),\n",
       " ('EVERYBODY’S SOMEBODY’S FOOL', 'Connie Francis'),\n",
       " ('YOU GOT WHAT IT TAKES', 'Marv Johnson'),\n",
       " ('BABY (You’ve Got What It Takes)', 'Dinah Washington and Brook Benton'),\n",
       " ('MAMA', 'Connie Francis'),\n",
       " ('LAST DATE', 'Floyd Cramer'),\n",
       " ('IMAGE OF A GIRL', 'The Safaris'),\n",
       " ('IN MY LITTLE CORNER OF THE WORLD', 'Anita Bryant'),\n",
       " ('A THOUSAND STARS', 'Kathy Young and the Innocents'),\n",
       " ('ONLY THE LONELY (Know How I Feel)', 'Roy Orbison'),\n",
       " ('SWEET NOTHIN’S', 'Brenda Lee'),\n",
       " ('THE OLD LAMPLIGHTER', 'The Browns Featuring Jim Edward Brown'),\n",
       " ('GOOD TIMIN’', 'Jimmy Jones'),\n",
       " ('MANY TEARS AGO', 'Connie Francis'),\n",
       " ('HE’LL HAVE TO GO', 'Jim Reeves'),\n",
       " ('IT’S NOW OR NEVER', 'Elvis Presley'),\n",
       " ('SINK THE BISMARCK', 'Johnny Horton'),\n",
       " ('FINGER POPPIN’ TIME', 'Hank Ballard and the Midnighters'),\n",
       " ('TELL LAURA I LOVE HER', 'Ray Peterson'),\n",
       " ('THE VILLAGE OF ST. BERNADETTE', 'Andy Williams'),\n",
       " ('SAILOR (Your Home Is the Sea)', 'Lolita')]"
      ]
     },
     "execution_count": 4,
     "metadata": {},
     "output_type": "execute_result"
    }
   ],
   "source": [
    "top10s_1960"
   ]
  },
  {
   "cell_type": "code",
   "execution_count": null,
   "metadata": {},
   "outputs": [],
   "source": []
  }
 ],
 "metadata": {
  "kernelspec": {
   "display_name": "Python [conda env:learn-env] *",
   "language": "python",
   "name": "conda-env-learn-env-py"
  },
  "language_info": {
   "codemirror_mode": {
    "name": "ipython",
    "version": 3
   },
   "file_extension": ".py",
   "mimetype": "text/x-python",
   "name": "python",
   "nbconvert_exporter": "python",
   "pygments_lexer": "ipython3",
   "version": "3.6.9"
  }
 },
 "nbformat": 4,
 "nbformat_minor": 2
}
