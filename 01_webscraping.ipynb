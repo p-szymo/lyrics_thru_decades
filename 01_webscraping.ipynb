{
 "cells": [
  {
   "cell_type": "markdown",
   "metadata": {},
   "source": [
    "# Music Lyrics Through the Years\n",
    "\n",
    "#### Import (possibly) necessary libraries"
   ]
  },
  {
   "cell_type": "code",
   "execution_count": 1,
   "metadata": {},
   "outputs": [],
   "source": [
    "import pandas as pd; pd.options.display.max_rows = 200\n",
    "import numpy as np\n",
    "\n",
    "import matplotlib.pyplot as plt\n",
    "import seaborn as sns; sns.set_style('ticks')\n",
    "\n",
    "import re\n",
    "from unicodedata import normalize\n",
    "\n",
    "import requests as rq\n",
    "from bs4 import BeautifulSoup as bs\n",
    "from selenium import webdriver\n",
    "\n",
    "import pickle\n",
    "import gzip\n",
    "\n",
    "from functions.webscraping import *\n",
    "\n",
    "import json\n",
    "\n",
    "%load_ext autoreload\n",
    "%autoreload 2"
   ]
  },
  {
   "cell_type": "markdown",
   "metadata": {},
   "source": [
    "## Scrape song title and artist"
   ]
  },
  {
   "cell_type": "code",
   "execution_count": 2,
   "metadata": {},
   "outputs": [
    {
     "name": "stdout",
     "output_type": "stream",
     "text": [
      "CPU times: user 14.7 s, sys: 195 ms, total: 14.9 s\n",
      "Wall time: 1min 51s\n"
     ]
    },
    {
     "data": {
      "text/plain": [
       "60"
      ]
     },
     "execution_count": 2,
     "metadata": {},
     "output_type": "execute_result"
    }
   ],
   "source": [
    "%%time\n",
    "\n",
    "# list of unique songs in top 10 between 1960 and 2019\n",
    "all_top10s = [\n",
    "    yearly_top10s(f'https://top40weekly.com/{year}-all-charts/') for year in range(1960,2020)\n",
    "]\n",
    "\n",
    "# confirm 60 years\n",
    "len(all_top10s)"
   ]
  },
  {
   "cell_type": "code",
   "execution_count": 3,
   "metadata": {},
   "outputs": [
    {
     "data": {
      "text/plain": [
       "5293"
      ]
     },
     "execution_count": 3,
     "metadata": {},
     "output_type": "execute_result"
    }
   ],
   "source": [
    "# number of songs, before removing some duplicates across years\n",
    "sum([len(year) for year in all_top10s])"
   ]
  },
  {
   "cell_type": "code",
   "execution_count": 4,
   "metadata": {},
   "outputs": [],
   "source": [
    "# uncomment to save\n",
    "with gzip.open('data/all_top10s.pkl', 'wb') as goodbye:\n",
    "    pickle.dump(all_top10s, goodbye, protocol=pickle.HIGHEST_PROTOCOL)\n",
    "    \n",
    "# uncomment to load\n",
    "with gzip.open('data/all_top10s.pkl', 'rb') as hello:\n",
    "    all_top10s = pickle.load(hello)"
   ]
  },
  {
   "cell_type": "markdown",
   "metadata": {},
   "source": [
    "- Since some songs may be within the top 10 in two different years, I need to remove those from the list."
   ]
  },
  {
   "cell_type": "code",
   "execution_count": 5,
   "metadata": {},
   "outputs": [],
   "source": [
    "top10s = []\n",
    "\n",
    "for i,year in enumerate(all_top10s):\n",
    "    \n",
    "    for song in year:\n",
    "        \n",
    "        song_dict = {}\n",
    "        song_dict['year'] = i+1960\n",
    "        song_dict['title'] = song[0]\n",
    "        song_dict['artist'] = song[1]\n",
    "        top10s.append(song_dict)"
   ]
  },
  {
   "cell_type": "code",
   "execution_count": 6,
   "metadata": {},
   "outputs": [],
   "source": [
    "temp_df = pd.DataFrame(top10s)\n",
    "temp_df = temp_df.drop_duplicates(subset=['title', 'artist'])\n",
    "\n",
    "unique_top10s = temp_df.to_dict('records')"
   ]
  },
  {
   "cell_type": "code",
   "execution_count": 7,
   "metadata": {},
   "outputs": [
    {
     "data": {
      "text/plain": [
       "4735"
      ]
     },
     "execution_count": 7,
     "metadata": {},
     "output_type": "execute_result"
    }
   ],
   "source": [
    "len(unique_top10s)"
   ]
  },
  {
   "cell_type": "markdown",
   "metadata": {},
   "source": [
    "## Scrape lyrics"
   ]
  },
  {
   "cell_type": "code",
   "execution_count": 8,
   "metadata": {},
   "outputs": [],
   "source": [
    "# parse personal api keys\n",
    "with open('data/api_keys.json', 'r') as json_file:\n",
    "    creds = json.load(json_file)\n",
    "\n",
    "# set the credentials based on the credentials file\n",
    "client_id = creds['client_id']\n",
    "client_secret = creds['client_secret']\n",
    "access_token = creds['access_token']"
   ]
  },
  {
   "cell_type": "code",
   "execution_count": 9,
   "metadata": {},
   "outputs": [
    {
     "name": "stdout",
     "output_type": "stream",
     "text": [
      "Failed grabs:\n",
      "(Down At) PAPA JOE’S The Dixiebelles\n",
      "AN OPEN LETTER TO MY TEENAGE SON Victor Lundberg\n",
      "/ 14 DOWN ON THE CORNER / FORTUNATE SON Creedence Clearwater Revival\n",
      "Timeout raised and caught:\n",
      "HTTPSConnectionPool(host='genius.com', port=443): Read timed out. (read timeout=5)\n",
      "MIDNIGHT COWBOY Ferrante and\n",
      "JUNGLE FEVER The Chakachas\n",
      "YOU AIN Bachman-Turner Overdrive\n",
      "JUJU ON DAT BEAT  Zayion McCall\n",
      "CPU times: user 5min 53s, sys: 15.4 s, total: 6min 9s\n",
      "Wall time: 1h 57min 57s\n"
     ]
    },
    {
     "data": {
      "text/plain": [
       "4735"
      ]
     },
     "execution_count": 9,
     "metadata": {},
     "output_type": "execute_result"
    }
   ],
   "source": [
    "%%time\n",
    "\n",
    "top10s = []\n",
    "print('Failed grabs:')\n",
    "\n",
    "for song in unique_top10s:\n",
    "    \n",
    "    search_term = f\"{song['title']} {song['artist']}\"\n",
    "        \n",
    "    try:\n",
    "        song['lyrics'] = lyrics_grabber(access_token, search_term)\n",
    "\n",
    "    except:\n",
    "        try:\n",
    "            search_term = f\"{re.match('[A-Z,. ]+', song['title']).group()} {' '.join(song['artist'].split()[:2])}\"\n",
    "            song['lyrics'] = lyrics_grabber(access_token, search_term)\n",
    "\n",
    "        except:\n",
    "            print(search_term)\n",
    "            song['lyrics'] = np.nan\n",
    "            \n",
    "    top10s.append(song)\n",
    "        \n",
    "len(top10s)"
   ]
  },
  {
   "cell_type": "code",
   "execution_count": 10,
   "metadata": {},
   "outputs": [
    {
     "data": {
      "text/plain": [
       "(4735, 4)"
      ]
     },
     "execution_count": 10,
     "metadata": {},
     "output_type": "execute_result"
    }
   ],
   "source": [
    "df = pd.DataFrame(top10s)\n",
    "df.shape"
   ]
  },
  {
   "cell_type": "code",
   "execution_count": 11,
   "metadata": {},
   "outputs": [
    {
     "data": {
      "text/html": [
       "<div>\n",
       "<style scoped>\n",
       "    .dataframe tbody tr th:only-of-type {\n",
       "        vertical-align: middle;\n",
       "    }\n",
       "\n",
       "    .dataframe tbody tr th {\n",
       "        vertical-align: top;\n",
       "    }\n",
       "\n",
       "    .dataframe thead th {\n",
       "        text-align: right;\n",
       "    }\n",
       "</style>\n",
       "<table border=\"1\" class=\"dataframe\">\n",
       "  <thead>\n",
       "    <tr style=\"text-align: right;\">\n",
       "      <th></th>\n",
       "      <th>year</th>\n",
       "      <th>title</th>\n",
       "      <th>artist</th>\n",
       "      <th>lyrics</th>\n",
       "    </tr>\n",
       "  </thead>\n",
       "  <tbody>\n",
       "    <tr>\n",
       "      <th>0</th>\n",
       "      <td>1960</td>\n",
       "      <td>THE VILLAGE OF ST. BERNADETTE</td>\n",
       "      <td>Andy Williams</td>\n",
       "      <td>I've traveled far, the land and the sea\\nBeaut...</td>\n",
       "    </tr>\n",
       "    <tr>\n",
       "      <th>1</th>\n",
       "      <td>1960</td>\n",
       "      <td>PAPER ROSES</td>\n",
       "      <td>Anita Bryant</td>\n",
       "      <td>I realize the way your eyes deceived me\\nWith ...</td>\n",
       "    </tr>\n",
       "    <tr>\n",
       "      <th>2</th>\n",
       "      <td>1960</td>\n",
       "      <td>IN MY LITTLE CORNER OF THE WORLD</td>\n",
       "      <td>Anita Bryant</td>\n",
       "      <td>Oh, come along with me\\nTo my little corner of...</td>\n",
       "    </tr>\n",
       "    <tr>\n",
       "      <th>3</th>\n",
       "      <td>1960</td>\n",
       "      <td>O DIO MIO</td>\n",
       "      <td>Annette</td>\n",
       "      <td>[Strofa 1]\\nE un giorno lui mi disse: \"Nei tuo...</td>\n",
       "    </tr>\n",
       "    <tr>\n",
       "      <th>4</th>\n",
       "      <td>1960</td>\n",
       "      <td>WONDERLAND BY NIGHT</td>\n",
       "      <td>Bert Kaempfert</td>\n",
       "      <td>Stars hang suspended\\nAbove a floating yellow ...</td>\n",
       "    </tr>\n",
       "  </tbody>\n",
       "</table>\n",
       "</div>"
      ],
      "text/plain": [
       "   year                             title          artist  \\\n",
       "0  1960     THE VILLAGE OF ST. BERNADETTE   Andy Williams   \n",
       "1  1960                       PAPER ROSES    Anita Bryant   \n",
       "2  1960  IN MY LITTLE CORNER OF THE WORLD    Anita Bryant   \n",
       "3  1960                         O DIO MIO         Annette   \n",
       "4  1960               WONDERLAND BY NIGHT  Bert Kaempfert   \n",
       "\n",
       "                                              lyrics  \n",
       "0  I've traveled far, the land and the sea\\nBeaut...  \n",
       "1  I realize the way your eyes deceived me\\nWith ...  \n",
       "2  Oh, come along with me\\nTo my little corner of...  \n",
       "3  [Strofa 1]\\nE un giorno lui mi disse: \"Nei tuo...  \n",
       "4  Stars hang suspended\\nAbove a floating yellow ...  "
      ]
     },
     "execution_count": 11,
     "metadata": {},
     "output_type": "execute_result"
    }
   ],
   "source": [
    "df.head()"
   ]
  },
  {
   "cell_type": "code",
   "execution_count": 12,
   "metadata": {},
   "outputs": [
    {
     "data": {
      "text/html": [
       "<div>\n",
       "<style scoped>\n",
       "    .dataframe tbody tr th:only-of-type {\n",
       "        vertical-align: middle;\n",
       "    }\n",
       "\n",
       "    .dataframe tbody tr th {\n",
       "        vertical-align: top;\n",
       "    }\n",
       "\n",
       "    .dataframe thead th {\n",
       "        text-align: right;\n",
       "    }\n",
       "</style>\n",
       "<table border=\"1\" class=\"dataframe\">\n",
       "  <thead>\n",
       "    <tr style=\"text-align: right;\">\n",
       "      <th></th>\n",
       "      <th>year</th>\n",
       "      <th>title</th>\n",
       "      <th>artist</th>\n",
       "      <th>lyrics</th>\n",
       "    </tr>\n",
       "  </thead>\n",
       "  <tbody>\n",
       "    <tr>\n",
       "      <th>4730</th>\n",
       "      <td>2019</td>\n",
       "      <td>YOU NEED TO CALM DOWN</td>\n",
       "      <td>Taylor Swift</td>\n",
       "      <td>[Verse 1]\\nYou are somebody that I don't know\\...</td>\n",
       "    </tr>\n",
       "    <tr>\n",
       "      <th>4731</th>\n",
       "      <td>2019</td>\n",
       "      <td>ME!</td>\n",
       "      <td>Taylor Swift featuring Brendon Urie</td>\n",
       "      <td>JANUARY\"Giant\" by Calvin Harris featuring Rag ...</td>\n",
       "    </tr>\n",
       "    <tr>\n",
       "      <th>4732</th>\n",
       "      <td>2019</td>\n",
       "      <td>HEARTLESS</td>\n",
       "      <td>The Weeknd</td>\n",
       "      <td>[Intro]\\nYoung Metro, young Metro, young Metro...</td>\n",
       "    </tr>\n",
       "    <tr>\n",
       "      <th>4733</th>\n",
       "      <td>2019</td>\n",
       "      <td>DANCE MONKEY</td>\n",
       "      <td>Tones and I</td>\n",
       "      <td>[Verse 1]\\nThey say, \"Oh my God, I see the way...</td>\n",
       "    </tr>\n",
       "    <tr>\n",
       "      <th>4734</th>\n",
       "      <td>2019</td>\n",
       "      <td>HIGHEST IN THE ROOM</td>\n",
       "      <td>Travis Scott</td>\n",
       "      <td>[Chorus]\\nI got room in my fumes (Yeah)\\nShe f...</td>\n",
       "    </tr>\n",
       "  </tbody>\n",
       "</table>\n",
       "</div>"
      ],
      "text/plain": [
       "      year                  title                               artist  \\\n",
       "4730  2019  YOU NEED TO CALM DOWN                         Taylor Swift   \n",
       "4731  2019                    ME!  Taylor Swift featuring Brendon Urie   \n",
       "4732  2019              HEARTLESS                           The Weeknd   \n",
       "4733  2019           DANCE MONKEY                          Tones and I   \n",
       "4734  2019    HIGHEST IN THE ROOM                         Travis Scott   \n",
       "\n",
       "                                                 lyrics  \n",
       "4730  [Verse 1]\\nYou are somebody that I don't know\\...  \n",
       "4731  JANUARY\"Giant\" by Calvin Harris featuring Rag ...  \n",
       "4732  [Intro]\\nYoung Metro, young Metro, young Metro...  \n",
       "4733  [Verse 1]\\nThey say, \"Oh my God, I see the way...  \n",
       "4734  [Chorus]\\nI got room in my fumes (Yeah)\\nShe f...  "
      ]
     },
     "execution_count": 12,
     "metadata": {},
     "output_type": "execute_result"
    }
   ],
   "source": [
    "df.tail()"
   ]
  },
  {
   "cell_type": "markdown",
   "metadata": {},
   "source": [
    "### Remove brackets and words contained within\n",
    "- These tend to be denoting verse from chorus (or something similar) or other non-lyric words."
   ]
  },
  {
   "cell_type": "code",
   "execution_count": 13,
   "metadata": {},
   "outputs": [],
   "source": [
    "df['lyrics'] = df.lyrics.map(remove_brackets)"
   ]
  },
  {
   "cell_type": "markdown",
   "metadata": {},
   "source": [
    "### Save/Load"
   ]
  },
  {
   "cell_type": "code",
   "execution_count": 14,
   "metadata": {},
   "outputs": [],
   "source": [
    "# # uncomment to save\n",
    "# with gzip.open('data/lyrics_df.pkl', 'wb') as goodbye:\n",
    "#     pickle.dump(df, goodbye, protocol=pickle.HIGHEST_PROTOCOL)\n",
    "    \n",
    "# # uncomment to load\n",
    "# with gzip.open('data/lyrics_df.pkl', 'rb') as hello:\n",
    "#     df = pickle.load(hello)"
   ]
  },
  {
   "cell_type": "markdown",
   "metadata": {},
   "source": [
    "## Rescrapes\n",
    "\n",
    "### 1960"
   ]
  },
  {
   "cell_type": "code",
   "execution_count": 50,
   "metadata": {},
   "outputs": [],
   "source": [
    "# rescrape\n",
    "df.loc[32, 'lyrics'] = lyrics_grabber(access_token, search_term=\"because they're young duane eddy and the rebels\")\n",
    "df.loc[51, 'lyrics'] = lyrics_grabber(access_token, search_term='jackie wilson night')\n",
    "df.loc[68, 'lyrics'] = lyrics_grabber(access_token, search_term='mister custer')\n",
    "df.loc[75, 'lyrics'] = lyrics_grabber(access_token, search_term='the big hurt toni fisher')\n",
    "df.loc[85, 'lyrics'] = lyrics_grabber(access_token, search_term='Only the Lonely (Know the Way I Feel)')\n",
    "\n",
    "\n",
    "# more complex ones\n",
    "soup = soupify('https://www.flashlyrics.com/lyrics/lolita/sailor-your-home-is-the-sea-41')\n",
    "df.loc[69, 'lyrics'] = '\\n'.join(\n",
    "    [line.contents[0] for line in soup.find('div', attrs={'class': 'main-panel-content'}).find_all('span')\n",
    "     if line.contents][2:]\n",
    ")\n",
    "\n",
    "soup = soupify('https://www.flashlyrics.com/lyrics/the-ivy-three/yogi-79')\n",
    "df.loc[98, 'lyrics'] = '\\n'.join(\n",
    "    [line.contents[0] for line in soup.find('div', attrs={'class': 'main-panel-content'}).find_all('span')\n",
    "     if line.contents]\n",
    ")"
   ]
  },
  {
   "cell_type": "code",
   "execution_count": 52,
   "metadata": {},
   "outputs": [],
   "source": [
    "# remove lines\n",
    "df.loc[45, 'lyrics'] = remove_n_lines(df.loc[45, 'lyrics'], 11)"
   ]
  },
  {
   "cell_type": "code",
   "execution_count": 53,
   "metadata": {},
   "outputs": [],
   "source": [
    "# instrumentals\n",
    "df.loc[38, 'lyrics'] = np.nan\n",
    "df.loc[39, 'lyrics'] = np.nan\n",
    "df.loc[81, 'lyrics'] = np.nan\n",
    "df.loc[102, 'lyrics'] = np.nan"
   ]
  },
  {
   "cell_type": "markdown",
   "metadata": {},
   "source": [
    "### 1961"
   ]
  },
  {
   "cell_type": "code",
   "execution_count": 80,
   "metadata": {
    "scrolled": true
   },
   "outputs": [],
   "source": [
    "# rescrape\n",
    "df.loc[106, 'lyrics'] = lyrics_grabber(access_token, 'arthur lyman yellow bird')\n",
    "df.loc[136, 'lyrics'] = rescrape('https://www.lyricsondemand.com/d/dickanddeedeelyrics/themountainshighlyrics.html',\n",
    "                                 name='div', attrs={'class': 'lcontent'})\n",
    "df.loc[174, 'lyrics'] = lyrics_grabber(access_token, \"ral donner you don't know what you've got\")\n",
    "\n",
    "# more complex ones\n",
    "soup = soupify('https://www.flashlyrics.com/lyrics/adam-wade/as-if-i-didnt-know-55')\n",
    "df.loc[105, 'lyrics'] = '\\n'.join(\n",
    "    [line.contents[0] for line in soup.find('div', attrs={'class': 'main-panel-content'}).find_all('span')\n",
    "     if line.contents]\n",
    ")\n",
    "\n",
    "soup = soupify('https://www.flashlyrics.com/lyrics/ferrante-and-teicher/tonight-12')\n",
    "df.loc[144, 'lyrics'] = '\\n'.join(\n",
    "    [line.contents[0] for line in soup.find('div', attrs={'class': 'main-panel-content'}).find_all('span')\n",
    "     if line.contents]\n",
    ")"
   ]
  },
  {
   "cell_type": "code",
   "execution_count": 81,
   "metadata": {},
   "outputs": [],
   "source": [
    "# instrumentals\n",
    "df.loc[110, 'lyrics'] = np.nan\n",
    "df.loc[145, 'lyrics'] = np.nan\n",
    "df.loc[161, 'lyrics'] = np.nan\n",
    "df.loc[185, 'lyrics'] = np.nan\n",
    "df.loc[198, 'lyrics'] = np.nan"
   ]
  },
  {
   "cell_type": "code",
   "execution_count": 82,
   "metadata": {},
   "outputs": [],
   "source": [
    "# remove lines\n",
    "df.loc[105, 'lyrics'] = remove_n_lines(df.loc[105, 'lyrics'], 2)\n",
    "df.loc[174, 'lyrics'] = remove_n_lines(df.loc[174, 'lyrics'], 5)\n",
    "df.loc[195, 'lyrics'] = remove_n_lines(df.loc[195, 'lyrics'], 10)\n",
    "df.loc[208, 'lyrics'] = remove_n_lines(df.loc[208, 'lyrics'], 3)"
   ]
  },
  {
   "cell_type": "code",
   "execution_count": 83,
   "metadata": {},
   "outputs": [],
   "source": [
    "# update song\n",
    "df.loc[177, 'title'] = 'Corrine, Corrina'"
   ]
  },
  {
   "cell_type": "code",
   "execution_count": 85,
   "metadata": {},
   "outputs": [],
   "source": [
    "# remove duplicate\n",
    "df.drop(index=178, inplace=True)\n",
    "df.drop(index=182, inplace=True)"
   ]
  },
  {
   "cell_type": "markdown",
   "metadata": {},
   "source": [
    "### 1962"
   ]
  },
  {
   "cell_type": "code",
   "execution_count": 100,
   "metadata": {},
   "outputs": [],
   "source": [
    "# rescrape\n",
    "df.loc[272, 'lyrics'] = lyrics_grabber(access_token, 'joey dee shout')"
   ]
  },
  {
   "cell_type": "code",
   "execution_count": 101,
   "metadata": {},
   "outputs": [],
   "source": [
    "# instrumentals\n",
    "df.loc[214, 'lyrics'] = np.nan\n",
    "df.loc[215, 'lyrics'] = np.nan\n",
    "df.loc[221, 'lyrics'] = np.nan\n",
    "df.loc[241, 'lyrics'] = np.nan\n",
    "df.loc[242, 'lyrics'] = np.nan\n",
    "df.loc[276, 'lyrics'] = np.nan\n",
    "df.loc[282, 'lyrics'] = np.nan\n",
    "df.loc[315, 'lyrics'] = np.nan\n",
    "df.loc[316, 'lyrics'] = np.nan"
   ]
  },
  {
   "cell_type": "code",
   "execution_count": 102,
   "metadata": {},
   "outputs": [],
   "source": [
    "# remove lines\n",
    "df.loc[226, 'lyrics'] = remove_n_lines(df.loc[226, 'lyrics'], 7, 3)\n",
    "df.loc[256, 'lyrics'] = remove_n_lines(df.loc[256, 'lyrics'], 2)\n",
    "df.loc[273, 'lyrics'] = remove_n_lines(df.loc[273, 'lyrics'], 5, 1)\n",
    "df.loc[318, 'lyrics'] = remove_n_lines(df.loc[318, 'lyrics'], 2)"
   ]
  },
  {
   "cell_type": "markdown",
   "metadata": {},
   "source": [
    "### 1963"
   ]
  },
  {
   "cell_type": "code",
   "execution_count": 110,
   "metadata": {},
   "outputs": [],
   "source": [
    "# rescrape\n",
    "df.loc[360, 'lyrics'] = lyrics_grabber(access_token, 'fingertips stevie')\n",
    "\n",
    "# more complex ones\n",
    "soup = soupify('https://www.flashlyrics.com/lyrics/dixie-belles/down-at-papa-joes-70')\n",
    "df.loc[403, 'lyrics'] = '\\n'.join(\n",
    "    [line.contents[0] for line in soup.find('div', attrs={'class': 'main-panel-content'}).find_all('span')\n",
    "     if line.contents][1:]\n",
    ")"
   ]
  },
  {
   "cell_type": "code",
   "execution_count": 111,
   "metadata": {},
   "outputs": [],
   "source": [
    "# instrumentals\n",
    "df.loc[324, 'lyrics'] = np.nan\n",
    "df.loc[353, 'lyrics'] = np.nan\n",
    "df.loc[361, 'lyrics'] = np.nan\n",
    "df.loc[362, 'lyrics'] = np.nan\n",
    "df.loc[397, 'lyrics'] = np.nan\n",
    "df.loc[419, 'lyrics'] = np.nan"
   ]
  },
  {
   "cell_type": "code",
   "execution_count": 112,
   "metadata": {},
   "outputs": [],
   "source": [
    "# remove lines\n",
    "df.loc[327, 'lyrics'] = remove_n_lines(df.loc[327, 'lyrics'], 3)\n",
    "df.loc[344, 'lyrics'] = remove_n_lines(df.loc[344, 'lyrics'], 2)\n",
    "df.loc[351, 'lyrics'] = remove_n_lines(df.loc[351, 'lyrics'], 2)"
   ]
  },
  {
   "cell_type": "markdown",
   "metadata": {},
   "source": [
    "### 1964"
   ]
  },
  {
   "cell_type": "code",
   "execution_count": 117,
   "metadata": {},
   "outputs": [],
   "source": [
    "# rescrape\n",
    "df.loc[442, 'lyrics'] = lyrics_grabber(access_token, 'summer song chad')\n",
    "df.loc[473, 'lyrics'] = lyrics_grabber(access_token, 'dancing in the street martha')\n",
    "df.loc[482, 'lyrics'] = lyrics_grabber(access_token, 'roy orbison pretty woman')\n",
    "df.loc[518, 'lyrics'] = rescrape('http://www.songlyrics.com/the-larks/jerk-lyrics/',\n",
    "                                 name='p', attrs={'class': 'songLyricsV14 iComment-text'})"
   ]
  },
  {
   "cell_type": "code",
   "execution_count": 118,
   "metadata": {},
   "outputs": [],
   "source": [
    "# instrumentals\n",
    "df.loc[431, 'lyrics'] = np.nan\n",
    "df.loc[519, 'lyrics'] = np.nan\n",
    "df.loc[534, 'lyrics'] = np.nan"
   ]
  },
  {
   "cell_type": "code",
   "execution_count": 119,
   "metadata": {},
   "outputs": [],
   "source": [
    "# remove lines\n",
    "df.loc[513, 'lyrics'] = remove_n_lines(df.loc[513, 'lyrics'], 6)\n",
    "df.loc[521, 'lyrics'] = remove_n_lines(df.loc[521, 'lyrics'], 6)"
   ]
  },
  {
   "cell_type": "code",
   "execution_count": 120,
   "metadata": {},
   "outputs": [],
   "source": [
    "# update artist name\n",
    "df.loc[442, 'artist'] = 'Chad and Jeremy'"
   ]
  },
  {
   "cell_type": "code",
   "execution_count": 121,
   "metadata": {},
   "outputs": [],
   "source": [
    "# remove duplicate\n",
    "df.drop(index=467, inplace=True)"
   ]
  },
  {
   "cell_type": "markdown",
   "metadata": {},
   "source": [
    "### 1965"
   ]
  },
  {
   "cell_type": "code",
   "execution_count": 124,
   "metadata": {},
   "outputs": [],
   "source": [
    "# rescrape\n",
    "df.loc[562, 'lyrics'] = lyrics_grabber(access_token, \"Papa’s Got a Brand New Bag (Part 1)\")\n",
    "df.loc[571, 'lyrics'] = lyrics_grabber(access_token, 'nowhere to run martha')\n",
    "df.loc[593, 'lyrics'] = lyrics_grabber(access_token, 'i got you babe')\n",
    "df.loc[611, 'lyrics'] = lyrics_grabber(access_token, \"I Can’t Help Myself (Sugar Pie, Honey Bunch)\")"
   ]
  },
  {
   "cell_type": "code",
   "execution_count": 125,
   "metadata": {},
   "outputs": [],
   "source": [
    "# instrumentals\n",
    "df.loc[552, 'lyrics'] = np.nan\n",
    "df.loc[621, 'lyrics'] = np.nan"
   ]
  },
  {
   "cell_type": "markdown",
   "metadata": {},
   "source": [
    "### 1966"
   ]
  },
  {
   "cell_type": "code",
   "execution_count": 131,
   "metadata": {},
   "outputs": [],
   "source": [
    "# rescrape\n",
    "df.loc[689, 'lyrics'] = lyrics_grabber(access_token, 'good thing paul revere')\n",
    "df.loc[691, 'lyrics'] = lyrics_grabber(access_token, 'hungry paul revere')\n",
    "df.loc[692, 'lyrics'] = lyrics_grabber(access_token, 'kicks paul revere')\n",
    "df.loc[694, 'lyrics'] = lyrics_grabber(access_token, 'lady godiva peter')\n",
    "df.loc[704, 'lyrics'] = lyrics_grabber(access_token, 'homeward bound simon')\n",
    "df.loc[735, 'lyrics'] = lyrics_grabber(access_token, 'california dreamin')"
   ]
  },
  {
   "cell_type": "code",
   "execution_count": 132,
   "metadata": {},
   "outputs": [],
   "source": [
    "# remove duplicate\n",
    "df.drop(index=690, inplace=True)"
   ]
  },
  {
   "cell_type": "markdown",
   "metadata": {},
   "source": [
    "### 1967"
   ]
  },
  {
   "cell_type": "code",
   "execution_count": 135,
   "metadata": {},
   "outputs": [],
   "source": [
    "# rescrape\n",
    "df.loc[874, 'lyrics'] = rescrape('http://www.songlyrics.com/victor-lundberg/an-open-letter-to-my-teenage-son-lyrics/',\n",
    "                                 name='p', attrs={'class': 'songLyricsV14 iComment-text'})"
   ]
  },
  {
   "cell_type": "markdown",
   "metadata": {},
   "source": [
    "### 1968"
   ]
  },
  {
   "cell_type": "code",
   "execution_count": 145,
   "metadata": {},
   "outputs": [],
   "source": [
    "# rescrape\n",
    "df.loc[929, 'lyrics'] = lyrics_grabber(access_token, 'mrs. robinson')"
   ]
  },
  {
   "cell_type": "code",
   "execution_count": 146,
   "metadata": {},
   "outputs": [],
   "source": [
    "# instrumentals\n",
    "df.loc[888, 'lyrics'] = np.nan\n",
    "df.loc[904, 'lyrics'] = np.nan\n",
    "df.loc[905, 'lyrics'] = np.nan\n",
    "df.loc[919, 'lyrics'] = np.nan"
   ]
  },
  {
   "cell_type": "code",
   "execution_count": 140,
   "metadata": {},
   "outputs": [],
   "source": [
    "# remove lines\n",
    "df.loc[899, 'lyrics'] = remove_n_lines(df.loc[899, 'lyrics'], 3, 7)\n",
    "df.loc[969, 'lyrics'] = remove_n_lines(df.loc[969, 'lyrics'], 5, 1)"
   ]
  },
  {
   "cell_type": "markdown",
   "metadata": {},
   "source": [
    "### 1969"
   ]
  },
  {
   "cell_type": "code",
   "execution_count": 149,
   "metadata": {},
   "outputs": [],
   "source": [
    "# two song combined, so separating here\n",
    "df.loc[985, 'title'] = 'DOWN ON THE CORNER'\n",
    "df.loc[985, 'lyrics'] = lyrics_grabber(access_token, 'creedence down on the corner')\n",
    "\n",
    "df.loc[986, 'title'] = 'FORTUNATE SON'\n",
    "df.loc[986, 'lyrics'] = lyrics_grabber(access_token, 'creedence fortunate son')"
   ]
  },
  {
   "cell_type": "code",
   "execution_count": 155,
   "metadata": {},
   "outputs": [],
   "source": [
    "# rescrape\n",
    "df.loc[1003, 'lyrics'] = lyrics_grabber(access_token, 'i want you back the jackson 5')\n",
    "df.loc[1023, 'lyrics'] = lyrics_grabber(access_token, 'boxer simon garfunkel')\n",
    "df.loc[1039, 'lyrics'] = lyrics_grabber(access_token, 'beatles get back')"
   ]
  },
  {
   "cell_type": "code",
   "execution_count": 156,
   "metadata": {},
   "outputs": [],
   "source": [
    "# instrumentals\n",
    "df.loc[981, 'lyrics'] = np.nan\n",
    "df.loc[982, 'lyrics'] = np.nan\n",
    "df.loc[1001, 'lyrics'] = np.nan\n",
    "df.loc[1057, 'lyrics'] = np.nan\n",
    "df.loc[1071, 'lyrics'] = np.nan"
   ]
  },
  {
   "cell_type": "code",
   "execution_count": 157,
   "metadata": {},
   "outputs": [],
   "source": [
    "# remove duplicate\n",
    "df.drop(index=1038, inplace=True)"
   ]
  },
  {
   "cell_type": "markdown",
   "metadata": {},
   "source": [
    "### 1970"
   ]
  },
  {
   "cell_type": "code",
   "execution_count": 159,
   "metadata": {},
   "outputs": [],
   "source": [
    "# uncomment to save\n",
    "with gzip.open('data/lyrics_df_updated.pkl', 'wb') as goodbye:\n",
    "    pickle.dump(df, goodbye, protocol=pickle.HIGHEST_PROTOCOL)\n",
    "    \n",
    "# # uncomment to load\n",
    "# with gzip.open('data/lyrics_df_updated.pkl', 'rb') as hello:\n",
    "#     df = pickle.load(hello)"
   ]
  },
  {
   "cell_type": "code",
   "execution_count": 158,
   "metadata": {},
   "outputs": [
    {
     "data": {
      "text/html": [
       "<div>\n",
       "<style scoped>\n",
       "    .dataframe tbody tr th:only-of-type {\n",
       "        vertical-align: middle;\n",
       "    }\n",
       "\n",
       "    .dataframe tbody tr th {\n",
       "        vertical-align: top;\n",
       "    }\n",
       "\n",
       "    .dataframe thead th {\n",
       "        text-align: right;\n",
       "    }\n",
       "</style>\n",
       "<table border=\"1\" class=\"dataframe\">\n",
       "  <thead>\n",
       "    <tr style=\"text-align: right;\">\n",
       "      <th></th>\n",
       "      <th>year</th>\n",
       "      <th>title</th>\n",
       "      <th>artist</th>\n",
       "      <th>lyrics</th>\n",
       "    </tr>\n",
       "  </thead>\n",
       "  <tbody>\n",
       "    <tr>\n",
       "      <th>972</th>\n",
       "      <td>1969</td>\n",
       "      <td>INDIAN GIVER</td>\n",
       "      <td>1910 Fruitgum Co.</td>\n",
       "      <td>Can still remember it wasn't long ago\\nThings ...</td>\n",
       "    </tr>\n",
       "    <tr>\n",
       "      <th>973</th>\n",
       "      <td>1969</td>\n",
       "      <td>BABY, I LOVE YOU</td>\n",
       "      <td>Andy Kim</td>\n",
       "      <td>Have I ever told you\\nHow good it feels to hol...</td>\n",
       "    </tr>\n",
       "    <tr>\n",
       "      <th>974</th>\n",
       "      <td>1969</td>\n",
       "      <td>HOOKED ON A FEELING</td>\n",
       "      <td>B.J. Thomas</td>\n",
       "      <td>I can't stop this feelin'\\nDeep inside of me\\n...</td>\n",
       "    </tr>\n",
       "    <tr>\n",
       "      <th>975</th>\n",
       "      <td>1969</td>\n",
       "      <td>RAINDROPS KEEP FALLIN’ ON MY HEAD</td>\n",
       "      <td>B.J. Thomas</td>\n",
       "      <td>Raindrops keep fallin' on my head\\nAnd just li...</td>\n",
       "    </tr>\n",
       "    <tr>\n",
       "      <th>976</th>\n",
       "      <td>1969</td>\n",
       "      <td>SPINNING WHEEL</td>\n",
       "      <td>Blood, Sweat and Tears</td>\n",
       "      <td>Just a kid from the neighbourhood\\nWe're all k...</td>\n",
       "    </tr>\n",
       "    <tr>\n",
       "      <th>977</th>\n",
       "      <td>1969</td>\n",
       "      <td>AND WHEN I DIE</td>\n",
       "      <td>Blood, Sweat and Tears</td>\n",
       "      <td>​\\n\\n\\nI'm not scared of dying\\nAnd I don't re...</td>\n",
       "    </tr>\n",
       "    <tr>\n",
       "      <th>978</th>\n",
       "      <td>1969</td>\n",
       "      <td>YOU’VE MADE ME SO VERY HAPPY</td>\n",
       "      <td>Blood, Sweat and Tears</td>\n",
       "      <td>I lost at love before\\nGot mad and closed the ...</td>\n",
       "    </tr>\n",
       "    <tr>\n",
       "      <th>979</th>\n",
       "      <td>1969</td>\n",
       "      <td>LAY LADY LAY</td>\n",
       "      <td>Bob Dylan</td>\n",
       "      <td>Lay, lady, lay\\nLay across my big brass bed\\nL...</td>\n",
       "    </tr>\n",
       "    <tr>\n",
       "      <th>980</th>\n",
       "      <td>1969</td>\n",
       "      <td>LITTLE WOMAN</td>\n",
       "      <td>Bobby Sherman</td>\n",
       "      <td>Hey Little Woman please make up your mind\\nYou...</td>\n",
       "    </tr>\n",
       "    <tr>\n",
       "      <th>981</th>\n",
       "      <td>1969</td>\n",
       "      <td>HANG ‘EM HIGH</td>\n",
       "      <td>Booker T. and the MG’s</td>\n",
       "      <td>NaN</td>\n",
       "    </tr>\n",
       "    <tr>\n",
       "      <th>982</th>\n",
       "      <td>1969</td>\n",
       "      <td>TIME IS TIGHT</td>\n",
       "      <td>Booker T. and the MG’s</td>\n",
       "      <td>NaN</td>\n",
       "    </tr>\n",
       "    <tr>\n",
       "      <th>983</th>\n",
       "      <td>1969</td>\n",
       "      <td>WORST THAT COULD HAPPEN</td>\n",
       "      <td>Brooklyn Bridge</td>\n",
       "      <td>Girl, I heard you're getting married\\nHeard yo...</td>\n",
       "    </tr>\n",
       "    <tr>\n",
       "      <th>984</th>\n",
       "      <td>1969</td>\n",
       "      <td>BAD MOON RISING</td>\n",
       "      <td>Creedence Clearwater Revival</td>\n",
       "      <td>I see the bad moon arising\\nI see trouble on t...</td>\n",
       "    </tr>\n",
       "    <tr>\n",
       "      <th>985</th>\n",
       "      <td>1969</td>\n",
       "      <td>DOWN ON THE CORNER</td>\n",
       "      <td>Creedence Clearwater Revival</td>\n",
       "      <td>[Verse 1]\\nEarly in the evenin', just about su...</td>\n",
       "    </tr>\n",
       "    <tr>\n",
       "      <th>986</th>\n",
       "      <td>1969</td>\n",
       "      <td>FORTUNATE SON</td>\n",
       "      <td>Creedence Clearwater Revival</td>\n",
       "      <td>[Verse 1]\\nSome folks are born made to wave th...</td>\n",
       "    </tr>\n",
       "    <tr>\n",
       "      <th>987</th>\n",
       "      <td>1969</td>\n",
       "      <td>GREEN RIVER</td>\n",
       "      <td>Creedence Clearwater Revival</td>\n",
       "      <td>Well, take me back down where cool water flow,...</td>\n",
       "    </tr>\n",
       "    <tr>\n",
       "      <th>988</th>\n",
       "      <td>1969</td>\n",
       "      <td>PROUD MARY</td>\n",
       "      <td>Creedence Clearwater Revival</td>\n",
       "      <td>Left a good job in the city\\nWorkin' for the m...</td>\n",
       "    </tr>\n",
       "    <tr>\n",
       "      <th>989</th>\n",
       "      <td>1969</td>\n",
       "      <td>MY WHOLE WORLD ENDED (The Moment You Left Me)</td>\n",
       "      <td>David Ruffin</td>\n",
       "      <td>Last week my life had meaning\\nIt was beautifu...</td>\n",
       "    </tr>\n",
       "    <tr>\n",
       "      <th>990</th>\n",
       "      <td>1969</td>\n",
       "      <td>ISRAELITES</td>\n",
       "      <td>Desmond Dekker and the Aces</td>\n",
       "      <td>Get up in the morning, slaving for bread, sir\\...</td>\n",
       "    </tr>\n",
       "    <tr>\n",
       "      <th>991</th>\n",
       "      <td>1969</td>\n",
       "      <td>I’M LIVIN’ IN SHAME</td>\n",
       "      <td>Diana Ross and the Supremes</td>\n",
       "      <td>Ooh-ooh-ooh\\n\\nMom was cooking bread\\nShe wore...</td>\n",
       "    </tr>\n",
       "    <tr>\n",
       "      <th>992</th>\n",
       "      <td>1969</td>\n",
       "      <td>SOMEDAY WE’LL BE TOGETHER</td>\n",
       "      <td>Diana Ross and the Supremes</td>\n",
       "      <td>Someday we'll be together\\nSay, say, say it, s...</td>\n",
       "    </tr>\n",
       "    <tr>\n",
       "      <th>993</th>\n",
       "      <td>1969</td>\n",
       "      <td>THIS GIRL’S IN LOVE WITH YOU</td>\n",
       "      <td>Dionne Warwick</td>\n",
       "      <td>You see this girl\\nThis girl's in love with yo...</td>\n",
       "    </tr>\n",
       "    <tr>\n",
       "      <th>994</th>\n",
       "      <td>1969</td>\n",
       "      <td>ATLANTIS</td>\n",
       "      <td>Donovan</td>\n",
       "      <td>The continent of Atlantis was an island\\nWhich...</td>\n",
       "    </tr>\n",
       "    <tr>\n",
       "      <th>995</th>\n",
       "      <td>1969</td>\n",
       "      <td>SON-OF-A PREACHER MAN</td>\n",
       "      <td>Dusty Springfield</td>\n",
       "      <td>Billy Ray was a preacher's son\\nAnd when his d...</td>\n",
       "    </tr>\n",
       "    <tr>\n",
       "      <th>996</th>\n",
       "      <td>1969</td>\n",
       "      <td>TWENTY-FIVE MILES</td>\n",
       "      <td>Edwin Starr</td>\n",
       "      <td>Come on feet, start movin'\\nGot to get me ther...</td>\n",
       "    </tr>\n",
       "    <tr>\n",
       "      <th>997</th>\n",
       "      <td>1969</td>\n",
       "      <td>IN THE GHETTO</td>\n",
       "      <td>Elvis Presley</td>\n",
       "      <td>As the snow flies\\nOn a cold and gray Chicago ...</td>\n",
       "    </tr>\n",
       "    <tr>\n",
       "      <th>998</th>\n",
       "      <td>1969</td>\n",
       "      <td>SUSPICIOUS MINDS</td>\n",
       "      <td>Elvis Presley</td>\n",
       "      <td>We're caught in a trap\\nI can't walk out\\nBeca...</td>\n",
       "    </tr>\n",
       "    <tr>\n",
       "      <th>999</th>\n",
       "      <td>1969</td>\n",
       "      <td>THIS GIRL IS A WOMAN NOW</td>\n",
       "      <td>Gary Puckett and the Union Gap</td>\n",
       "      <td>This girl walked in dreams\\nPlaying in a world...</td>\n",
       "    </tr>\n",
       "    <tr>\n",
       "      <th>1000</th>\n",
       "      <td>1969</td>\n",
       "      <td>GALVESTON</td>\n",
       "      <td>Glen Campbell</td>\n",
       "      <td>Galveston, oh Galveston\\nI still hear your sea...</td>\n",
       "    </tr>\n",
       "    <tr>\n",
       "      <th>1001</th>\n",
       "      <td>1969</td>\n",
       "      <td>LOVE THEME FROM “ROMEO AND JULIET”</td>\n",
       "      <td>Henry Mancini and His Orchestra</td>\n",
       "      <td>NaN</td>\n",
       "    </tr>\n",
       "    <tr>\n",
       "      <th>1002</th>\n",
       "      <td>1969</td>\n",
       "      <td>PUT A LITTLE LOVE IN YOUR HEART</td>\n",
       "      <td>Jackie DeShannon</td>\n",
       "      <td>Think of your fellow man\\nLend him a helping h...</td>\n",
       "    </tr>\n",
       "    <tr>\n",
       "      <th>1003</th>\n",
       "      <td>1969</td>\n",
       "      <td>I WANT YOU BACK</td>\n",
       "      <td>Jackson 5</td>\n",
       "      <td>[Intro: Michael Jackson]\\nUh-huh huh huh huh\\n...</td>\n",
       "    </tr>\n",
       "    <tr>\n",
       "      <th>1004</th>\n",
       "      <td>1969</td>\n",
       "      <td>THIS MAGIC MOMENT</td>\n",
       "      <td>Jay and the Americans</td>\n",
       "      <td>This magic moment\\nSo different and so new\\nWa...</td>\n",
       "    </tr>\n",
       "    <tr>\n",
       "      <th>1005</th>\n",
       "      <td>1969</td>\n",
       "      <td>ONLY THE STRONG SURVIVE</td>\n",
       "      <td>Jerry Butler</td>\n",
       "      <td>I remember my first love affair\\nSomehow or an...</td>\n",
       "    </tr>\n",
       "    <tr>\n",
       "      <th>1006</th>\n",
       "      <td>1969</td>\n",
       "      <td>A BOY NAMED SUE</td>\n",
       "      <td>Johnny Cash</td>\n",
       "      <td>My daddy left home when I was three\\nAnd he di...</td>\n",
       "    </tr>\n",
       "    <tr>\n",
       "      <th>1007</th>\n",
       "      <td>1969</td>\n",
       "      <td>WHAT DOES IT TAKE (To Win Your Love)</td>\n",
       "      <td>Jr. Walker and the All Stars</td>\n",
       "      <td>What does it take\\n(What does it take)\\nTo win...</td>\n",
       "    </tr>\n",
       "    <tr>\n",
       "      <th>1008</th>\n",
       "      <td>1969</td>\n",
       "      <td>RUBY, DON’T TAKE YOUR LOVE TO TOWN</td>\n",
       "      <td>Kenny Rogers and the First Edition</td>\n",
       "      <td>You've painted up your lips and rolled and cur...</td>\n",
       "    </tr>\n",
       "    <tr>\n",
       "      <th>1009</th>\n",
       "      <td>1969</td>\n",
       "      <td>WHOLE LOTTA LOVE / LIVING LOVING MAID (She’s J...</td>\n",
       "      <td>Led Zeppelin</td>\n",
       "      <td>You need coolin', baby, I'm not foolin'\\nI'm g...</td>\n",
       "    </tr>\n",
       "    <tr>\n",
       "      <th>1010</th>\n",
       "      <td>1969</td>\n",
       "      <td>I’M GONNA MAKE YOU MINE</td>\n",
       "      <td>Lou Christie</td>\n",
       "      <td>I'll try every trick in the book\\nWith every s...</td>\n",
       "    </tr>\n",
       "    <tr>\n",
       "      <th>1011</th>\n",
       "      <td>1969</td>\n",
       "      <td>TOO BUSY THINKING ABOUT MY BABY</td>\n",
       "      <td>Marvin Gaye</td>\n",
       "      <td>Ah-ah-aaah, oh yeah\\nOh listen to me people\\n\\...</td>\n",
       "    </tr>\n",
       "    <tr>\n",
       "      <th>1012</th>\n",
       "      <td>1969</td>\n",
       "      <td>THAT’S THE WAY LOVE IS</td>\n",
       "      <td>Marvin Gaye</td>\n",
       "      <td>Ah baby\\nAfter many tears fall from your eyes\\...</td>\n",
       "    </tr>\n",
       "    <tr>\n",
       "      <th>1013</th>\n",
       "      <td>1969</td>\n",
       "      <td>BACKFIELD IN MOTION</td>\n",
       "      <td>Mel and Tim</td>\n",
       "      <td>Backfield in motion, yeah\\nI'm gonna have to p...</td>\n",
       "    </tr>\n",
       "    <tr>\n",
       "      <th>1014</th>\n",
       "      <td>1969</td>\n",
       "      <td>LOVE (Can Make You Happy)</td>\n",
       "      <td>Mercy</td>\n",
       "      <td>Wake up in the morning with the sunshine in yo...</td>\n",
       "    </tr>\n",
       "    <tr>\n",
       "      <th>1015</th>\n",
       "      <td>1969</td>\n",
       "      <td>SWEET CAROLINE (Good Times Never Seemed So Good)</td>\n",
       "      <td>Neil Diamond</td>\n",
       "      <td>Where it began\\nI can't begin to know when\\nBu...</td>\n",
       "    </tr>\n",
       "    <tr>\n",
       "      <th>1016</th>\n",
       "      <td>1969</td>\n",
       "      <td>HOLLY HOLY</td>\n",
       "      <td>Neil Diamond</td>\n",
       "      <td>Holly holy eyes, dream of only me\\nWhere I am,...</td>\n",
       "    </tr>\n",
       "    <tr>\n",
       "      <th>1017</th>\n",
       "      <td>1969</td>\n",
       "      <td>EVERYBODY’S TALKIN’</td>\n",
       "      <td>Nilsson</td>\n",
       "      <td>Everybody's talking at me\\nI don't hear a word...</td>\n",
       "    </tr>\n",
       "    <tr>\n",
       "      <th>1018</th>\n",
       "      <td>1969</td>\n",
       "      <td>JEAN</td>\n",
       "      <td>Oliver</td>\n",
       "      <td>Jean, Jean, roses are red\\nAll the leaves have...</td>\n",
       "    </tr>\n",
       "    <tr>\n",
       "      <th>1019</th>\n",
       "      <td>1969</td>\n",
       "      <td>GOOD MORNING STARSHINE</td>\n",
       "      <td>Oliver</td>\n",
       "      <td>Good morning starshine\\nThe earth says \"hello\"...</td>\n",
       "    </tr>\n",
       "    <tr>\n",
       "      <th>1020</th>\n",
       "      <td>1969</td>\n",
       "      <td>LEAVING ON A JET PLANE</td>\n",
       "      <td>Peter, Paul and Mary</td>\n",
       "      <td>All my bags are packed I'm ready to go\\nI'm st...</td>\n",
       "    </tr>\n",
       "    <tr>\n",
       "      <th>1021</th>\n",
       "      <td>1969</td>\n",
       "      <td>TAKE A LETTER MARIA</td>\n",
       "      <td>R.B. Greaves</td>\n",
       "      <td>Last night as I got home about a half past ten...</td>\n",
       "    </tr>\n",
       "    <tr>\n",
       "      <th>1022</th>\n",
       "      <td>1969</td>\n",
       "      <td>GITARZAN</td>\n",
       "      <td>Ray Stevens</td>\n",
       "      <td>He's free as the breeze\\nHe's always at ease\\n...</td>\n",
       "    </tr>\n",
       "    <tr>\n",
       "      <th>1023</th>\n",
       "      <td>1969</td>\n",
       "      <td>THE BOXER</td>\n",
       "      <td>Simon and Garfunkel</td>\n",
       "      <td>[Verse 1]\\nI am just a poor boy, though my sto...</td>\n",
       "    </tr>\n",
       "    <tr>\n",
       "      <th>1024</th>\n",
       "      <td>1969</td>\n",
       "      <td>EVERYDAY PEOPLE</td>\n",
       "      <td>Sly and the Family Stone</td>\n",
       "      <td>Sometimes I'm right and I can be wrong\\nMy own...</td>\n",
       "    </tr>\n",
       "    <tr>\n",
       "      <th>1025</th>\n",
       "      <td>1969</td>\n",
       "      <td>HOT FUN IN THE SUMMERTIME</td>\n",
       "      <td>Sly and the Family Stone</td>\n",
       "      <td>End of the spring and here she comes back\\nHi,...</td>\n",
       "    </tr>\n",
       "    <tr>\n",
       "      <th>1026</th>\n",
       "      <td>1969</td>\n",
       "      <td>BABY IT’S YOU</td>\n",
       "      <td>Smith</td>\n",
       "      <td>It's not the way you smile that touched my hea...</td>\n",
       "    </tr>\n",
       "    <tr>\n",
       "      <th>1027</th>\n",
       "      <td>1969</td>\n",
       "      <td>BABY, BABY DON’T CRY</td>\n",
       "      <td>Smokey Robinson and the Miracles</td>\n",
       "      <td>Nothing so blue as a heart in pain\\nNothing so...</td>\n",
       "    </tr>\n",
       "    <tr>\n",
       "      <th>1028</th>\n",
       "      <td>1969</td>\n",
       "      <td>NA NA HEY HEY KISS HIM GOODBYE</td>\n",
       "      <td>Steam</td>\n",
       "      <td>Na-na-na-na, na-na-na-na, hey, hey, hey, goodb...</td>\n",
       "    </tr>\n",
       "    <tr>\n",
       "      <th>1029</th>\n",
       "      <td>1969</td>\n",
       "      <td>ROCK ME</td>\n",
       "      <td>Steppenwolf</td>\n",
       "      <td>She asked me maybe I could share her sorrow\\nF...</td>\n",
       "    </tr>\n",
       "    <tr>\n",
       "      <th>1030</th>\n",
       "      <td>1969</td>\n",
       "      <td>YESTER-ME, YESTER-YOU, YESTERDAY</td>\n",
       "      <td>Stevie Wonder</td>\n",
       "      <td>Yesterme yesteryou yesterday\\n\\n\\nWhat happene...</td>\n",
       "    </tr>\n",
       "    <tr>\n",
       "      <th>1031</th>\n",
       "      <td>1969</td>\n",
       "      <td>MY CHERIE AMOUR</td>\n",
       "      <td>Stevie Wonder</td>\n",
       "      <td>La la la la la la\\nLa la la la la la\\n\\n\\nMy c...</td>\n",
       "    </tr>\n",
       "    <tr>\n",
       "      <th>1032</th>\n",
       "      <td>1969</td>\n",
       "      <td>WEDDING BELL BLUES</td>\n",
       "      <td>The 5th Dimension</td>\n",
       "      <td>Bill, I love you so, I always will\\nI look at ...</td>\n",
       "    </tr>\n",
       "    <tr>\n",
       "      <th>1033</th>\n",
       "      <td>1969</td>\n",
       "      <td>AQUARIUS / LET THE SUNSHINE IN (The Flesh Fail...</td>\n",
       "      <td>The 5th Dimension</td>\n",
       "      <td>When the moon is in the Seventh House\\nAnd Jup...</td>\n",
       "    </tr>\n",
       "    <tr>\n",
       "      <th>1034</th>\n",
       "      <td>1969</td>\n",
       "      <td>SUGAR, SUGAR</td>\n",
       "      <td>The Archies</td>\n",
       "      <td>Sugar, ah honey honey\\nYou are my candy girl\\n...</td>\n",
       "    </tr>\n",
       "    <tr>\n",
       "      <th>1035</th>\n",
       "      <td>1969</td>\n",
       "      <td>THE BALLAD OF JOHN AND YOKO</td>\n",
       "      <td>The Beatles</td>\n",
       "      <td>Standing in the dock at Southampton\\nTrying to...</td>\n",
       "    </tr>\n",
       "    <tr>\n",
       "      <th>1036</th>\n",
       "      <td>1969</td>\n",
       "      <td>COME TOGETHER</td>\n",
       "      <td>The Beatles</td>\n",
       "      <td>Shoot me\\nShoot me\\nShoot me\\nShoot me\\n\\n\\nHe...</td>\n",
       "    </tr>\n",
       "    <tr>\n",
       "      <th>1037</th>\n",
       "      <td>1969</td>\n",
       "      <td>SOMETHING</td>\n",
       "      <td>The Beatles</td>\n",
       "      <td>Something in the way she moves\\nAttracts me li...</td>\n",
       "    </tr>\n",
       "    <tr>\n",
       "      <th>1039</th>\n",
       "      <td>1969</td>\n",
       "      <td>GET BACK</td>\n",
       "      <td>The Beatles with Billy Preston</td>\n",
       "      <td>[Verse 1]\\nJojo was a man who thought he was a...</td>\n",
       "    </tr>\n",
       "    <tr>\n",
       "      <th>1040</th>\n",
       "      <td>1969</td>\n",
       "      <td>I STARTED A JOKE</td>\n",
       "      <td>The Bee Gees</td>\n",
       "      <td>I started a joke, which started the whole worl...</td>\n",
       "    </tr>\n",
       "    <tr>\n",
       "      <th>1041</th>\n",
       "      <td>1969</td>\n",
       "      <td>TRACES</td>\n",
       "      <td>The Classics IV Featuring Dennis Yost</td>\n",
       "      <td>Verse 1:\\nFaded photographs\\nCovered now with ...</td>\n",
       "    </tr>\n",
       "    <tr>\n",
       "      <th>1042</th>\n",
       "      <td>1969</td>\n",
       "      <td>HAIR</td>\n",
       "      <td>The Cowsills</td>\n",
       "      <td>She asks him why\\nWhy I'm a hairy guy\\nI'm hai...</td>\n",
       "    </tr>\n",
       "    <tr>\n",
       "      <th>1043</th>\n",
       "      <td>1969</td>\n",
       "      <td>TRACY</td>\n",
       "      <td>The Cuff Links</td>\n",
       "      <td>Ba ba, ba ba ba ba\\nBa ba ba ba\\nBa ba ba ba, ...</td>\n",
       "    </tr>\n",
       "    <tr>\n",
       "      <th>1044</th>\n",
       "      <td>1969</td>\n",
       "      <td>OH, WHAT A NIGHT</td>\n",
       "      <td>The Dells</td>\n",
       "      <td>Oh what a night, to love you, dear\\nOh what a ...</td>\n",
       "    </tr>\n",
       "    <tr>\n",
       "      <th>1045</th>\n",
       "      <td>1969</td>\n",
       "      <td>TOUCH ME</td>\n",
       "      <td>The Doors</td>\n",
       "      <td>Yeah! Come on, come on, come on, come on\\nNow ...</td>\n",
       "    </tr>\n",
       "    <tr>\n",
       "      <th>1046</th>\n",
       "      <td>1969</td>\n",
       "      <td>OH HAPPY DAY</td>\n",
       "      <td>The Edwin Hawkins Singers Featuring Dorothy Co...</td>\n",
       "      <td>Oh, happy day, Oh, happy day\\nOh, happy day, O...</td>\n",
       "    </tr>\n",
       "    <tr>\n",
       "      <th>1047</th>\n",
       "      <td>1969</td>\n",
       "      <td>SMILE A LITTLE SMILE FOR ME</td>\n",
       "      <td>The Flying Machine</td>\n",
       "      <td>You really should accept\\nThis time he's gone ...</td>\n",
       "    </tr>\n",
       "    <tr>\n",
       "      <th>1048</th>\n",
       "      <td>1969</td>\n",
       "      <td>BUILD ME UP BUTTERCUP</td>\n",
       "      <td>The Foundations</td>\n",
       "      <td>Why do you build me up (Build me up)\\nButtercu...</td>\n",
       "    </tr>\n",
       "    <tr>\n",
       "      <th>1049</th>\n",
       "      <td>1969</td>\n",
       "      <td>GRAZING IN THE GRASS</td>\n",
       "      <td>The Friends Of Distinction</td>\n",
       "      <td>It sure is mellow grazin' in the grass\\n(Grazi...</td>\n",
       "    </tr>\n",
       "    <tr>\n",
       "      <th>1050</th>\n",
       "      <td>1969</td>\n",
       "      <td>THESE EYES</td>\n",
       "      <td>The Guess Who</td>\n",
       "      <td>These eyes\\nCry every night, for you\\nThese ar...</td>\n",
       "    </tr>\n",
       "    <tr>\n",
       "      <th>1051</th>\n",
       "      <td>1969</td>\n",
       "      <td>LAUGHING</td>\n",
       "      <td>The Guess Who</td>\n",
       "      <td>I should laugh, but I cry\\nBecause your love h...</td>\n",
       "    </tr>\n",
       "    <tr>\n",
       "      <th>1052</th>\n",
       "      <td>1969</td>\n",
       "      <td>IT’S YOUR THING</td>\n",
       "      <td>The Isley Brothers</td>\n",
       "      <td>It's your thing, do what you wanna do\\nI can't...</td>\n",
       "    </tr>\n",
       "    <tr>\n",
       "      <th>1053</th>\n",
       "      <td>1969</td>\n",
       "      <td>HONKY TONK WOMEN</td>\n",
       "      <td>The Rolling Stones</td>\n",
       "      <td>I met a gin-soaked barroom queen in Memphis\\nS...</td>\n",
       "    </tr>\n",
       "    <tr>\n",
       "      <th>1054</th>\n",
       "      <td>1969</td>\n",
       "      <td>I CAN’T GET NEXT TO YOU</td>\n",
       "      <td>The Temptations</td>\n",
       "      <td>Hold it, everybody\\nHold it, hold it, listen\\n...</td>\n",
       "    </tr>\n",
       "    <tr>\n",
       "      <th>1055</th>\n",
       "      <td>1969</td>\n",
       "      <td>RUN AWAY CHILD, RUNNING WILD</td>\n",
       "      <td>The Temptations</td>\n",
       "      <td>You played hooky from school\\nAnd you can't go...</td>\n",
       "    </tr>\n",
       "    <tr>\n",
       "      <th>1056</th>\n",
       "      <td>1969</td>\n",
       "      <td>YOU SHOWED ME</td>\n",
       "      <td>The Turtles</td>\n",
       "      <td>You showed me how to do\\nExactly what you do\\n...</td>\n",
       "    </tr>\n",
       "    <tr>\n",
       "      <th>1057</th>\n",
       "      <td>1969</td>\n",
       "      <td>HAWAII FIVE-O</td>\n",
       "      <td>The Ventures</td>\n",
       "      <td>NaN</td>\n",
       "    </tr>\n",
       "    <tr>\n",
       "      <th>1058</th>\n",
       "      <td>1969</td>\n",
       "      <td>COLOR HIM FATHER</td>\n",
       "      <td>The Winstons</td>\n",
       "      <td>There's a man at my house, he's so big and str...</td>\n",
       "    </tr>\n",
       "    <tr>\n",
       "      <th>1059</th>\n",
       "      <td>1969</td>\n",
       "      <td>GET TOGETHER</td>\n",
       "      <td>The Youngbloods</td>\n",
       "      <td>Love is but a song we sing\\nFear's the way we ...</td>\n",
       "    </tr>\n",
       "    <tr>\n",
       "      <th>1060</th>\n",
       "      <td>1969</td>\n",
       "      <td>TIME OF THE SEASON</td>\n",
       "      <td>The Zombies</td>\n",
       "      <td>​​\\n\\n\\nIt's the time of the season\\nWhen the ...</td>\n",
       "    </tr>\n",
       "    <tr>\n",
       "      <th>1061</th>\n",
       "      <td>1969</td>\n",
       "      <td>ONE</td>\n",
       "      <td>Three Dog Night</td>\n",
       "      <td>One is the loneliest number that you'll ever d...</td>\n",
       "    </tr>\n",
       "    <tr>\n",
       "      <th>1062</th>\n",
       "      <td>1969</td>\n",
       "      <td>ELI’S COMING</td>\n",
       "      <td>Three Dog Night</td>\n",
       "      <td>Eli's comin'\\nEli's comin' (Eli's a-comin')\\nW...</td>\n",
       "    </tr>\n",
       "    <tr>\n",
       "      <th>1063</th>\n",
       "      <td>1969</td>\n",
       "      <td>EASY TO BE HARD</td>\n",
       "      <td>Three Dog Night</td>\n",
       "      <td>How can people be so heartless?\\nHow can peopl...</td>\n",
       "    </tr>\n",
       "    <tr>\n",
       "      <th>1064</th>\n",
       "      <td>1969</td>\n",
       "      <td>I’LL NEVER FALL IN LOVE AGAIN</td>\n",
       "      <td>Tom Jones</td>\n",
       "      <td>I've been in love so many times\\nThought I kne...</td>\n",
       "    </tr>\n",
       "    <tr>\n",
       "      <th>1065</th>\n",
       "      <td>1969</td>\n",
       "      <td>SWEET CHERRY WINE</td>\n",
       "      <td>Tommy James and the Shondells</td>\n",
       "      <td>(Come on)\\nEveryone, we got to get together, n...</td>\n",
       "    </tr>\n",
       "    <tr>\n",
       "      <th>1066</th>\n",
       "      <td>1969</td>\n",
       "      <td>CRIMSON AND CLOVER</td>\n",
       "      <td>Tommy James and the Shondells</td>\n",
       "      <td>Ah, now I don't hardly know her\\nBut I think I...</td>\n",
       "    </tr>\n",
       "    <tr>\n",
       "      <th>1067</th>\n",
       "      <td>1969</td>\n",
       "      <td>CRYSTAL BLUE PERSUASION</td>\n",
       "      <td>Tommy James and the Shondells</td>\n",
       "      <td>Look over yonder\\nWhat do you see?\\nThe sun is...</td>\n",
       "    </tr>\n",
       "    <tr>\n",
       "      <th>1068</th>\n",
       "      <td>1969</td>\n",
       "      <td>DIZZY</td>\n",
       "      <td>Tommy Roe</td>\n",
       "      <td>Dizzy\\nI'm so dizzy my head is spinning\\nLike ...</td>\n",
       "    </tr>\n",
       "    <tr>\n",
       "      <th>1069</th>\n",
       "      <td>1969</td>\n",
       "      <td>POLK SALAD ANNIE</td>\n",
       "      <td>Tony Joe White</td>\n",
       "      <td>If some of ya'll never been down south too muc...</td>\n",
       "    </tr>\n",
       "    <tr>\n",
       "      <th>1070</th>\n",
       "      <td>1969</td>\n",
       "      <td>CAN I CHANGE MY MIND</td>\n",
       "      <td>Tyrone Davis</td>\n",
       "      <td>Aww, she didn't bat an eye\\nAs I packed my bag...</td>\n",
       "    </tr>\n",
       "    <tr>\n",
       "      <th>1071</th>\n",
       "      <td>1969</td>\n",
       "      <td>SOULFUL STRUT</td>\n",
       "      <td>Young-Holt Unlimited</td>\n",
       "      <td>NaN</td>\n",
       "    </tr>\n",
       "    <tr>\n",
       "      <th>1072</th>\n",
       "      <td>1969</td>\n",
       "      <td>IN THE YEAR 2525 (Exordium and Terminus)</td>\n",
       "      <td>Zager and Evans</td>\n",
       "      <td>In the year 2525\\nIf man is still alive\\nIf wo...</td>\n",
       "    </tr>\n",
       "  </tbody>\n",
       "</table>\n",
       "</div>"
      ],
      "text/plain": [
       "      year                                              title  \\\n",
       "972   1969                                       INDIAN GIVER   \n",
       "973   1969                                   BABY, I LOVE YOU   \n",
       "974   1969                                HOOKED ON A FEELING   \n",
       "975   1969                  RAINDROPS KEEP FALLIN’ ON MY HEAD   \n",
       "976   1969                                     SPINNING WHEEL   \n",
       "977   1969                                     AND WHEN I DIE   \n",
       "978   1969                       YOU’VE MADE ME SO VERY HAPPY   \n",
       "979   1969                                       LAY LADY LAY   \n",
       "980   1969                                       LITTLE WOMAN   \n",
       "981   1969                                      HANG ‘EM HIGH   \n",
       "982   1969                                      TIME IS TIGHT   \n",
       "983   1969                            WORST THAT COULD HAPPEN   \n",
       "984   1969                                    BAD MOON RISING   \n",
       "985   1969                                 DOWN ON THE CORNER   \n",
       "986   1969                                      FORTUNATE SON   \n",
       "987   1969                                        GREEN RIVER   \n",
       "988   1969                                         PROUD MARY   \n",
       "989   1969      MY WHOLE WORLD ENDED (The Moment You Left Me)   \n",
       "990   1969                                         ISRAELITES   \n",
       "991   1969                                I’M LIVIN’ IN SHAME   \n",
       "992   1969                          SOMEDAY WE’LL BE TOGETHER   \n",
       "993   1969                       THIS GIRL’S IN LOVE WITH YOU   \n",
       "994   1969                                           ATLANTIS   \n",
       "995   1969                              SON-OF-A PREACHER MAN   \n",
       "996   1969                                  TWENTY-FIVE MILES   \n",
       "997   1969                                      IN THE GHETTO   \n",
       "998   1969                                   SUSPICIOUS MINDS   \n",
       "999   1969                           THIS GIRL IS A WOMAN NOW   \n",
       "1000  1969                                          GALVESTON   \n",
       "1001  1969                 LOVE THEME FROM “ROMEO AND JULIET”   \n",
       "1002  1969                    PUT A LITTLE LOVE IN YOUR HEART   \n",
       "1003  1969                                    I WANT YOU BACK   \n",
       "1004  1969                                  THIS MAGIC MOMENT   \n",
       "1005  1969                            ONLY THE STRONG SURVIVE   \n",
       "1006  1969                                    A BOY NAMED SUE   \n",
       "1007  1969               WHAT DOES IT TAKE (To Win Your Love)   \n",
       "1008  1969                 RUBY, DON’T TAKE YOUR LOVE TO TOWN   \n",
       "1009  1969  WHOLE LOTTA LOVE / LIVING LOVING MAID (She’s J...   \n",
       "1010  1969                            I’M GONNA MAKE YOU MINE   \n",
       "1011  1969                    TOO BUSY THINKING ABOUT MY BABY   \n",
       "1012  1969                             THAT’S THE WAY LOVE IS   \n",
       "1013  1969                                BACKFIELD IN MOTION   \n",
       "1014  1969                          LOVE (Can Make You Happy)   \n",
       "1015  1969   SWEET CAROLINE (Good Times Never Seemed So Good)   \n",
       "1016  1969                                         HOLLY HOLY   \n",
       "1017  1969                                EVERYBODY’S TALKIN’   \n",
       "1018  1969                                               JEAN   \n",
       "1019  1969                             GOOD MORNING STARSHINE   \n",
       "1020  1969                             LEAVING ON A JET PLANE   \n",
       "1021  1969                                TAKE A LETTER MARIA   \n",
       "1022  1969                                           GITARZAN   \n",
       "1023  1969                                          THE BOXER   \n",
       "1024  1969                                    EVERYDAY PEOPLE   \n",
       "1025  1969                          HOT FUN IN THE SUMMERTIME   \n",
       "1026  1969                                      BABY IT’S YOU   \n",
       "1027  1969                               BABY, BABY DON’T CRY   \n",
       "1028  1969                     NA NA HEY HEY KISS HIM GOODBYE   \n",
       "1029  1969                                            ROCK ME   \n",
       "1030  1969                   YESTER-ME, YESTER-YOU, YESTERDAY   \n",
       "1031  1969                                    MY CHERIE AMOUR   \n",
       "1032  1969                                 WEDDING BELL BLUES   \n",
       "1033  1969  AQUARIUS / LET THE SUNSHINE IN (The Flesh Fail...   \n",
       "1034  1969                                       SUGAR, SUGAR   \n",
       "1035  1969                        THE BALLAD OF JOHN AND YOKO   \n",
       "1036  1969                                      COME TOGETHER   \n",
       "1037  1969                                          SOMETHING   \n",
       "1039  1969                                           GET BACK   \n",
       "1040  1969                                   I STARTED A JOKE   \n",
       "1041  1969                                             TRACES   \n",
       "1042  1969                                               HAIR   \n",
       "1043  1969                                              TRACY   \n",
       "1044  1969                                   OH, WHAT A NIGHT   \n",
       "1045  1969                                           TOUCH ME   \n",
       "1046  1969                                       OH HAPPY DAY   \n",
       "1047  1969                        SMILE A LITTLE SMILE FOR ME   \n",
       "1048  1969                              BUILD ME UP BUTTERCUP   \n",
       "1049  1969                               GRAZING IN THE GRASS   \n",
       "1050  1969                                         THESE EYES   \n",
       "1051  1969                                           LAUGHING   \n",
       "1052  1969                                    IT’S YOUR THING   \n",
       "1053  1969                                   HONKY TONK WOMEN   \n",
       "1054  1969                            I CAN’T GET NEXT TO YOU   \n",
       "1055  1969                       RUN AWAY CHILD, RUNNING WILD   \n",
       "1056  1969                                      YOU SHOWED ME   \n",
       "1057  1969                                      HAWAII FIVE-O   \n",
       "1058  1969                                   COLOR HIM FATHER   \n",
       "1059  1969                                       GET TOGETHER   \n",
       "1060  1969                                 TIME OF THE SEASON   \n",
       "1061  1969                                                ONE   \n",
       "1062  1969                                       ELI’S COMING   \n",
       "1063  1969                                    EASY TO BE HARD   \n",
       "1064  1969                      I’LL NEVER FALL IN LOVE AGAIN   \n",
       "1065  1969                                  SWEET CHERRY WINE   \n",
       "1066  1969                                 CRIMSON AND CLOVER   \n",
       "1067  1969                            CRYSTAL BLUE PERSUASION   \n",
       "1068  1969                                              DIZZY   \n",
       "1069  1969                                   POLK SALAD ANNIE   \n",
       "1070  1969                               CAN I CHANGE MY MIND   \n",
       "1071  1969                                      SOULFUL STRUT   \n",
       "1072  1969           IN THE YEAR 2525 (Exordium and Terminus)   \n",
       "\n",
       "                                                 artist  \\\n",
       "972                                   1910 Fruitgum Co.   \n",
       "973                                            Andy Kim   \n",
       "974                                         B.J. Thomas   \n",
       "975                                         B.J. Thomas   \n",
       "976                              Blood, Sweat and Tears   \n",
       "977                              Blood, Sweat and Tears   \n",
       "978                              Blood, Sweat and Tears   \n",
       "979                                           Bob Dylan   \n",
       "980                                       Bobby Sherman   \n",
       "981                              Booker T. and the MG’s   \n",
       "982                              Booker T. and the MG’s   \n",
       "983                                     Brooklyn Bridge   \n",
       "984                        Creedence Clearwater Revival   \n",
       "985                        Creedence Clearwater Revival   \n",
       "986                        Creedence Clearwater Revival   \n",
       "987                        Creedence Clearwater Revival   \n",
       "988                        Creedence Clearwater Revival   \n",
       "989                                        David Ruffin   \n",
       "990                         Desmond Dekker and the Aces   \n",
       "991                         Diana Ross and the Supremes   \n",
       "992                         Diana Ross and the Supremes   \n",
       "993                                      Dionne Warwick   \n",
       "994                                             Donovan   \n",
       "995                                   Dusty Springfield   \n",
       "996                                         Edwin Starr   \n",
       "997                                       Elvis Presley   \n",
       "998                                       Elvis Presley   \n",
       "999                      Gary Puckett and the Union Gap   \n",
       "1000                                      Glen Campbell   \n",
       "1001                    Henry Mancini and His Orchestra   \n",
       "1002                                   Jackie DeShannon   \n",
       "1003                                          Jackson 5   \n",
       "1004                              Jay and the Americans   \n",
       "1005                                       Jerry Butler   \n",
       "1006                                        Johnny Cash   \n",
       "1007                       Jr. Walker and the All Stars   \n",
       "1008                 Kenny Rogers and the First Edition   \n",
       "1009                                       Led Zeppelin   \n",
       "1010                                       Lou Christie   \n",
       "1011                                        Marvin Gaye   \n",
       "1012                                        Marvin Gaye   \n",
       "1013                                        Mel and Tim   \n",
       "1014                                              Mercy   \n",
       "1015                                       Neil Diamond   \n",
       "1016                                       Neil Diamond   \n",
       "1017                                            Nilsson   \n",
       "1018                                             Oliver   \n",
       "1019                                             Oliver   \n",
       "1020                               Peter, Paul and Mary   \n",
       "1021                                       R.B. Greaves   \n",
       "1022                                        Ray Stevens   \n",
       "1023                                Simon and Garfunkel   \n",
       "1024                           Sly and the Family Stone   \n",
       "1025                           Sly and the Family Stone   \n",
       "1026                                              Smith   \n",
       "1027                   Smokey Robinson and the Miracles   \n",
       "1028                                              Steam   \n",
       "1029                                        Steppenwolf   \n",
       "1030                                      Stevie Wonder   \n",
       "1031                                      Stevie Wonder   \n",
       "1032                                  The 5th Dimension   \n",
       "1033                                  The 5th Dimension   \n",
       "1034                                        The Archies   \n",
       "1035                                        The Beatles   \n",
       "1036                                        The Beatles   \n",
       "1037                                        The Beatles   \n",
       "1039                     The Beatles with Billy Preston   \n",
       "1040                                       The Bee Gees   \n",
       "1041              The Classics IV Featuring Dennis Yost   \n",
       "1042                                       The Cowsills   \n",
       "1043                                     The Cuff Links   \n",
       "1044                                          The Dells   \n",
       "1045                                          The Doors   \n",
       "1046  The Edwin Hawkins Singers Featuring Dorothy Co...   \n",
       "1047                                 The Flying Machine   \n",
       "1048                                    The Foundations   \n",
       "1049                         The Friends Of Distinction   \n",
       "1050                                      The Guess Who   \n",
       "1051                                      The Guess Who   \n",
       "1052                                 The Isley Brothers   \n",
       "1053                                 The Rolling Stones   \n",
       "1054                                    The Temptations   \n",
       "1055                                    The Temptations   \n",
       "1056                                        The Turtles   \n",
       "1057                                       The Ventures   \n",
       "1058                                       The Winstons   \n",
       "1059                                    The Youngbloods   \n",
       "1060                                        The Zombies   \n",
       "1061                                    Three Dog Night   \n",
       "1062                                    Three Dog Night   \n",
       "1063                                    Three Dog Night   \n",
       "1064                                          Tom Jones   \n",
       "1065                      Tommy James and the Shondells   \n",
       "1066                      Tommy James and the Shondells   \n",
       "1067                      Tommy James and the Shondells   \n",
       "1068                                          Tommy Roe   \n",
       "1069                                     Tony Joe White   \n",
       "1070                                       Tyrone Davis   \n",
       "1071                               Young-Holt Unlimited   \n",
       "1072                                    Zager and Evans   \n",
       "\n",
       "                                                 lyrics  \n",
       "972   Can still remember it wasn't long ago\\nThings ...  \n",
       "973   Have I ever told you\\nHow good it feels to hol...  \n",
       "974   I can't stop this feelin'\\nDeep inside of me\\n...  \n",
       "975   Raindrops keep fallin' on my head\\nAnd just li...  \n",
       "976   Just a kid from the neighbourhood\\nWe're all k...  \n",
       "977   ​\\n\\n\\nI'm not scared of dying\\nAnd I don't re...  \n",
       "978   I lost at love before\\nGot mad and closed the ...  \n",
       "979   Lay, lady, lay\\nLay across my big brass bed\\nL...  \n",
       "980   Hey Little Woman please make up your mind\\nYou...  \n",
       "981                                                 NaN  \n",
       "982                                                 NaN  \n",
       "983   Girl, I heard you're getting married\\nHeard yo...  \n",
       "984   I see the bad moon arising\\nI see trouble on t...  \n",
       "985   [Verse 1]\\nEarly in the evenin', just about su...  \n",
       "986   [Verse 1]\\nSome folks are born made to wave th...  \n",
       "987   Well, take me back down where cool water flow,...  \n",
       "988   Left a good job in the city\\nWorkin' for the m...  \n",
       "989   Last week my life had meaning\\nIt was beautifu...  \n",
       "990   Get up in the morning, slaving for bread, sir\\...  \n",
       "991   Ooh-ooh-ooh\\n\\nMom was cooking bread\\nShe wore...  \n",
       "992   Someday we'll be together\\nSay, say, say it, s...  \n",
       "993   You see this girl\\nThis girl's in love with yo...  \n",
       "994   The continent of Atlantis was an island\\nWhich...  \n",
       "995   Billy Ray was a preacher's son\\nAnd when his d...  \n",
       "996   Come on feet, start movin'\\nGot to get me ther...  \n",
       "997   As the snow flies\\nOn a cold and gray Chicago ...  \n",
       "998   We're caught in a trap\\nI can't walk out\\nBeca...  \n",
       "999   This girl walked in dreams\\nPlaying in a world...  \n",
       "1000  Galveston, oh Galveston\\nI still hear your sea...  \n",
       "1001                                                NaN  \n",
       "1002  Think of your fellow man\\nLend him a helping h...  \n",
       "1003  [Intro: Michael Jackson]\\nUh-huh huh huh huh\\n...  \n",
       "1004  This magic moment\\nSo different and so new\\nWa...  \n",
       "1005  I remember my first love affair\\nSomehow or an...  \n",
       "1006  My daddy left home when I was three\\nAnd he di...  \n",
       "1007  What does it take\\n(What does it take)\\nTo win...  \n",
       "1008  You've painted up your lips and rolled and cur...  \n",
       "1009  You need coolin', baby, I'm not foolin'\\nI'm g...  \n",
       "1010  I'll try every trick in the book\\nWith every s...  \n",
       "1011  Ah-ah-aaah, oh yeah\\nOh listen to me people\\n\\...  \n",
       "1012  Ah baby\\nAfter many tears fall from your eyes\\...  \n",
       "1013  Backfield in motion, yeah\\nI'm gonna have to p...  \n",
       "1014  Wake up in the morning with the sunshine in yo...  \n",
       "1015  Where it began\\nI can't begin to know when\\nBu...  \n",
       "1016  Holly holy eyes, dream of only me\\nWhere I am,...  \n",
       "1017  Everybody's talking at me\\nI don't hear a word...  \n",
       "1018  Jean, Jean, roses are red\\nAll the leaves have...  \n",
       "1019  Good morning starshine\\nThe earth says \"hello\"...  \n",
       "1020  All my bags are packed I'm ready to go\\nI'm st...  \n",
       "1021  Last night as I got home about a half past ten...  \n",
       "1022  He's free as the breeze\\nHe's always at ease\\n...  \n",
       "1023  [Verse 1]\\nI am just a poor boy, though my sto...  \n",
       "1024  Sometimes I'm right and I can be wrong\\nMy own...  \n",
       "1025  End of the spring and here she comes back\\nHi,...  \n",
       "1026  It's not the way you smile that touched my hea...  \n",
       "1027  Nothing so blue as a heart in pain\\nNothing so...  \n",
       "1028  Na-na-na-na, na-na-na-na, hey, hey, hey, goodb...  \n",
       "1029  She asked me maybe I could share her sorrow\\nF...  \n",
       "1030  Yesterme yesteryou yesterday\\n\\n\\nWhat happene...  \n",
       "1031  La la la la la la\\nLa la la la la la\\n\\n\\nMy c...  \n",
       "1032  Bill, I love you so, I always will\\nI look at ...  \n",
       "1033  When the moon is in the Seventh House\\nAnd Jup...  \n",
       "1034  Sugar, ah honey honey\\nYou are my candy girl\\n...  \n",
       "1035  Standing in the dock at Southampton\\nTrying to...  \n",
       "1036  Shoot me\\nShoot me\\nShoot me\\nShoot me\\n\\n\\nHe...  \n",
       "1037  Something in the way she moves\\nAttracts me li...  \n",
       "1039  [Verse 1]\\nJojo was a man who thought he was a...  \n",
       "1040  I started a joke, which started the whole worl...  \n",
       "1041  Verse 1:\\nFaded photographs\\nCovered now with ...  \n",
       "1042  She asks him why\\nWhy I'm a hairy guy\\nI'm hai...  \n",
       "1043  Ba ba, ba ba ba ba\\nBa ba ba ba\\nBa ba ba ba, ...  \n",
       "1044  Oh what a night, to love you, dear\\nOh what a ...  \n",
       "1045  Yeah! Come on, come on, come on, come on\\nNow ...  \n",
       "1046  Oh, happy day, Oh, happy day\\nOh, happy day, O...  \n",
       "1047  You really should accept\\nThis time he's gone ...  \n",
       "1048  Why do you build me up (Build me up)\\nButtercu...  \n",
       "1049  It sure is mellow grazin' in the grass\\n(Grazi...  \n",
       "1050  These eyes\\nCry every night, for you\\nThese ar...  \n",
       "1051  I should laugh, but I cry\\nBecause your love h...  \n",
       "1052  It's your thing, do what you wanna do\\nI can't...  \n",
       "1053  I met a gin-soaked barroom queen in Memphis\\nS...  \n",
       "1054  Hold it, everybody\\nHold it, hold it, listen\\n...  \n",
       "1055  You played hooky from school\\nAnd you can't go...  \n",
       "1056  You showed me how to do\\nExactly what you do\\n...  \n",
       "1057                                                NaN  \n",
       "1058  There's a man at my house, he's so big and str...  \n",
       "1059  Love is but a song we sing\\nFear's the way we ...  \n",
       "1060  ​​\\n\\n\\nIt's the time of the season\\nWhen the ...  \n",
       "1061  One is the loneliest number that you'll ever d...  \n",
       "1062  Eli's comin'\\nEli's comin' (Eli's a-comin')\\nW...  \n",
       "1063  How can people be so heartless?\\nHow can peopl...  \n",
       "1064  I've been in love so many times\\nThought I kne...  \n",
       "1065  (Come on)\\nEveryone, we got to get together, n...  \n",
       "1066  Ah, now I don't hardly know her\\nBut I think I...  \n",
       "1067  Look over yonder\\nWhat do you see?\\nThe sun is...  \n",
       "1068  Dizzy\\nI'm so dizzy my head is spinning\\nLike ...  \n",
       "1069  If some of ya'll never been down south too muc...  \n",
       "1070  Aww, she didn't bat an eye\\nAs I packed my bag...  \n",
       "1071                                                NaN  \n",
       "1072  In the year 2525\\nIf man is still alive\\nIf wo...  "
      ]
     },
     "execution_count": 158,
     "metadata": {},
     "output_type": "execute_result"
    }
   ],
   "source": [
    "df[df.year == 1969]"
   ]
  },
  {
   "cell_type": "code",
   "execution_count": null,
   "metadata": {},
   "outputs": [],
   "source": [
    "# rescrape\n",
    "df.loc[1068, 'lyrics'] = lyrics_grabber(access_token, 'bridge over troubled water simon garfunkel')\n",
    "df.loc[1085, 'lyrics'] = lyrics_grabber(access_token, 'abc the jackson 5')"
   ]
  },
  {
   "cell_type": "code",
   "execution_count": null,
   "metadata": {},
   "outputs": [],
   "source": [
    "# update artist\n",
    "df.loc[1085, 'artist'] = 'The Jackson 5'\n",
    "df.loc[1092, 'artist'] = 'The Jackson 5'"
   ]
  },
  {
   "cell_type": "code",
   "execution_count": 154,
   "metadata": {},
   "outputs": [
    {
     "name": "stdout",
     "output_type": "stream",
     "text": [
      "Verse 1:\n",
      "Faded photographs\n",
      "Covered now with lines and creases\n",
      "Tickets torn in half\n",
      "Memories in bits and pieces\n",
      "\n",
      "Chorus 1:\n",
      "Traces of love long ago\n",
      "That didn't work out right\n",
      "Traces of love\n",
      "\n",
      "Verse 2:\n",
      "Ribbons from her hair\n",
      "Souvenirs of days together\n",
      "The ring she used to wear\n",
      "Pages from an old love letter\n",
      "\n",
      "Chorus 2:\n",
      "Traces of love long ago\n",
      "That didn't work out right\n",
      "Traces of love with me tonight\n",
      "\n",
      "Bridge:\n",
      "I close my eyes\n",
      "And say a prayer\n",
      "That in her heart she'll find\n",
      "A trace of love still there\n",
      "Somewhere\n",
      "\n",
      "Chorus 3:\n",
      "Traces of hope in the night\n",
      "That she'll come back and dry\n",
      "These traces of tears\n",
      "From my eyes\n"
     ]
    }
   ],
   "source": [
    "print(df.loc[1041, 'lyrics'])"
   ]
  },
  {
   "cell_type": "markdown",
   "metadata": {},
   "source": [
    "### 1971"
   ]
  },
  {
   "cell_type": "code",
   "execution_count": null,
   "metadata": {},
   "outputs": [],
   "source": [
    "# instrumentals\n",
    "df.loc[1182, 'lyrics'] = np.nan"
   ]
  },
  {
   "cell_type": "markdown",
   "metadata": {},
   "source": [
    "### 1972"
   ]
  },
  {
   "cell_type": "code",
   "execution_count": null,
   "metadata": {},
   "outputs": [],
   "source": [
    "# instrumentals\n",
    "df.loc[1182, 'lyrics'] = np.nan\n",
    "df.loc[1253, 'lyrics'] = np.nan\n",
    "df.loc[1292, 'lyrics'] = np.nan\n",
    "\n",
    "# edge case; non-lyric song\n",
    "df.loc[1252, 'lyrics'] = np.nan"
   ]
  },
  {
   "cell_type": "markdown",
   "metadata": {},
   "source": [
    "### 1973"
   ]
  },
  {
   "cell_type": "code",
   "execution_count": null,
   "metadata": {},
   "outputs": [],
   "source": [
    "# rescrape\n",
    "df.loc[1321, 'lyrics'] = lyrics_grabber(access_token, 'neither one of us gladys knight')\n",
    "df.loc[1324, 'lyrics'] = lyrics_grabber(access_token, 'The Morning After (Theme From The Poseidon Adventure)')"
   ]
  },
  {
   "cell_type": "code",
   "execution_count": null,
   "metadata": {},
   "outputs": [],
   "source": [
    "# instrumentals\n",
    "df.loc[1385, 'lyrics'] = np.nan\n",
    "\n",
    "# edge case; non-lyric song\n",
    "df.loc[1398, 'lyrics'] = np.nan"
   ]
  },
  {
   "cell_type": "code",
   "execution_count": null,
   "metadata": {},
   "outputs": [],
   "source": [
    "# remove lines\n",
    "df.loc[1386, 'lyrics'] = remove_n_lines(2, df.loc[1386, 'lyrics'])"
   ]
  },
  {
   "cell_type": "markdown",
   "metadata": {},
   "source": [
    "### 1974"
   ]
  },
  {
   "cell_type": "code",
   "execution_count": null,
   "metadata": {},
   "outputs": [],
   "source": [
    "# rescrape\n",
    "df.loc[1449, 'lyrics'] = lyrics_grabber(access_token, 'jet wings')\n",
    "df.loc[1453, 'lyrics'] = lyrics_grabber(access_token, 'band on the run wings')\n",
    "df.loc[1488, 'lyrics'] = lyrics_grabber(access_token, 'jungle boogie')\n",
    "df.loc[1514, 'lyrics'] = lyrics_grabber(access_token, 'hollywood swinging')"
   ]
  },
  {
   "cell_type": "code",
   "execution_count": null,
   "metadata": {},
   "outputs": [],
   "source": [
    "# instrumentals\n",
    "df.loc[1440, 'lyrics'] = np.nan\n",
    "df.loc[1476, 'lyrics'] = np.nan\n",
    "df.loc[1479, 'lyrics'] = np.nan"
   ]
  },
  {
   "cell_type": "code",
   "execution_count": null,
   "metadata": {},
   "outputs": [],
   "source": [
    "# remove duplicate\n",
    "df.drop(index=1481, inplace=True)"
   ]
  },
  {
   "cell_type": "markdown",
   "metadata": {},
   "source": [
    "### 1975"
   ]
  },
  {
   "cell_type": "code",
   "execution_count": null,
   "metadata": {},
   "outputs": [],
   "source": [
    "# rescrape\n",
    "df.loc[1577, 'lyrics'] = lyrics_grabber(access_token, 'love rollercoaster ohio players')\n",
    "df.loc[1587, 'lyrics'] = lyrics_grabber(access_token, 'yesterday carpenters')\n",
    "df.loc[1596, 'lyrics'] = lyrics_grabber(access_token, 'philadelphia freedom elton john')\n",
    "df.loc[1622, 'lyrics'] = lyrics_grabber(access_token, 'fire ohio players')"
   ]
  },
  {
   "cell_type": "code",
   "execution_count": null,
   "metadata": {},
   "outputs": [],
   "source": [
    "# instrumentals\n",
    "df.loc[1594, 'lyrics'] = np.nan"
   ]
  },
  {
   "cell_type": "markdown",
   "metadata": {},
   "source": [
    "### 1976"
   ]
  },
  {
   "cell_type": "code",
   "execution_count": null,
   "metadata": {},
   "outputs": [],
   "source": [
    "# rescrape\n",
    "df.loc[1625, 'lyrics'] = lyrics_grabber(access_token, 'sara smile hall oates')\n",
    "df.loc[1652, 'lyrics'] = lyrics_grabber(access_token, 'more more more andrea true')\n",
    "df.loc[1664, 'lyrics'] = lyrics_grabber(access_token, 'sing a song earth')\n",
    "df.loc[1667, 'lyrics'] = lyrics_grabber(access_token, 'muskrat love')\n",
    "df.loc[1690, 'lyrics'] = lyrics_grabber(access_token, 'disco duck rick dees')"
   ]
  },
  {
   "cell_type": "code",
   "execution_count": null,
   "metadata": {},
   "outputs": [],
   "source": [
    "# instrumentals\n",
    "df.loc[1639, 'lyrics'] = np.nan\n",
    "df.loc[1681, 'lyrics'] = np.nan"
   ]
  },
  {
   "cell_type": "markdown",
   "metadata": {},
   "source": [
    "### 1977"
   ]
  },
  {
   "cell_type": "code",
   "execution_count": null,
   "metadata": {},
   "outputs": [],
   "source": [
    "# rescrape\n",
    "df.loc[1736, 'lyrics'] = lyrics_grabber(access_token, 'jet airliner steve miller')\n",
    "df.loc[1775, 'lyrics'] = lyrics_grabber(access_token, 'eagle steve miller')"
   ]
  },
  {
   "cell_type": "code",
   "execution_count": null,
   "metadata": {},
   "outputs": [],
   "source": [
    "# instrumentals\n",
    "df.loc[1784, 'lyrics'] = np.nan"
   ]
  },
  {
   "cell_type": "code",
   "execution_count": null,
   "metadata": {},
   "outputs": [],
   "source": [
    "# remove lines\n",
    "df.loc[1720, 'lyrics'] = remove_n_lines(2, df.loc[1720, 'lyrics'])"
   ]
  },
  {
   "cell_type": "markdown",
   "metadata": {},
   "source": [
    "### 1978"
   ]
  },
  {
   "cell_type": "code",
   "execution_count": null,
   "metadata": {},
   "outputs": [],
   "source": [
    "# rescrape\n",
    "df.loc[1844, 'lyrics'] = lyrics_grabber(access_token, 'ymca village people')"
   ]
  },
  {
   "cell_type": "code",
   "execution_count": null,
   "metadata": {},
   "outputs": [],
   "source": [
    "# instrumentals\n",
    "df.loc[1827, 'lyrics'] = np.nan"
   ]
  },
  {
   "cell_type": "markdown",
   "metadata": {},
   "source": [
    "### 1979"
   ]
  },
  {
   "cell_type": "code",
   "execution_count": null,
   "metadata": {},
   "outputs": [],
   "source": [
    "# instrumentals\n",
    "df.loc[1929, 'lyrics'] = np.nan\n",
    "df.loc[1932, 'lyrics'] = np.nan"
   ]
  },
  {
   "cell_type": "markdown",
   "metadata": {},
   "source": [
    "### 1980"
   ]
  },
  {
   "cell_type": "code",
   "execution_count": null,
   "metadata": {},
   "outputs": [],
   "source": [
    "# rescrape\n",
    "df.loc[1961, 'lyrics'] = lyrics_grabber(access_token, 'another brick in the wall')"
   ]
  },
  {
   "cell_type": "code",
   "execution_count": null,
   "metadata": {},
   "outputs": [],
   "source": [
    "# remove lines\n",
    "df.loc[1967, 'lyrics'] = remove_n_lines(3, df.loc[1967, 'lyrics'])\n",
    "df.loc[2013, 'lyrics'] = remove_n_lines(3, df.loc[2013, 'lyrics'])"
   ]
  },
  {
   "cell_type": "markdown",
   "metadata": {},
   "source": [
    "### 1981"
   ]
  },
  {
   "cell_type": "code",
   "execution_count": null,
   "metadata": {},
   "outputs": [],
   "source": [
    "# remove lines\n",
    "df.loc[2027, 'lyrics'] = remove_n_lines(6, df.loc[2027, 'lyrics'])"
   ]
  },
  {
   "cell_type": "code",
   "execution_count": null,
   "metadata": {},
   "outputs": [],
   "source": [
    "# instrumentals\n",
    "df.loc[2038, 'lyrics'] = np.nan"
   ]
  },
  {
   "cell_type": "markdown",
   "metadata": {},
   "source": [
    "### 1982"
   ]
  },
  {
   "cell_type": "code",
   "execution_count": null,
   "metadata": {},
   "outputs": [],
   "source": [
    "# rescrape\n",
    "df.loc[2117, 'lyrics'] = lyrics_grabber(access_token, 'rock this town stray cats')\n",
    "df.loc[2130, 'lyrics'] = lyrics_grabber(access_token, 'crimson and clover')"
   ]
  },
  {
   "cell_type": "code",
   "execution_count": null,
   "metadata": {},
   "outputs": [],
   "source": [
    "# instrumentals\n",
    "df.loc[2153, 'lyrics'] = np.nan\n",
    "df.loc[2160, 'lyrics'] = np.nan"
   ]
  },
  {
   "cell_type": "markdown",
   "metadata": {},
   "source": [
    "### 1983"
   ]
  },
  {
   "cell_type": "code",
   "execution_count": null,
   "metadata": {},
   "outputs": [],
   "source": [
    "# rescrape\n",
    "df.loc[2237, 'lyrics'] = lyrics_grabber(access_token, 'sweet dreams eurythmics')"
   ]
  },
  {
   "cell_type": "code",
   "execution_count": null,
   "metadata": {},
   "outputs": [],
   "source": [
    "# remove lines\n",
    "df.loc[2179, 'lyrics'] = remove_n_lines(8, df.loc[2179, 'lyrics'])"
   ]
  },
  {
   "cell_type": "code",
   "execution_count": null,
   "metadata": {},
   "outputs": [],
   "source": [
    "# remove duplicate\n",
    "df.drop(index=2205, inplace=True)"
   ]
  },
  {
   "cell_type": "markdown",
   "metadata": {},
   "source": [
    "### 1984"
   ]
  },
  {
   "cell_type": "code",
   "execution_count": null,
   "metadata": {},
   "outputs": [],
   "source": [
    "# rescrape\n",
    "df.loc[2266, 'lyrics'] = lyrics_grabber(access_token, 'state of shock jacksons')\n",
    "df.loc[2266, 'lyrics'] = lyrics_grabber(access_token, 'state of shock jacksons')"
   ]
  },
  {
   "cell_type": "markdown",
   "metadata": {},
   "source": [
    "### 1985"
   ]
  },
  {
   "cell_type": "code",
   "execution_count": null,
   "metadata": {},
   "outputs": [],
   "source": [
    "# rescrape\n",
    "df.loc[2309, 'lyrics'] = lyrics_grabber(access_token, 'the warrior scandal')"
   ]
  },
  {
   "cell_type": "code",
   "execution_count": null,
   "metadata": {},
   "outputs": [],
   "source": [
    "# instrumentals\n",
    "df.loc[2358, 'lyrics'] = np.nan\n",
    "df.loc[2405, 'lyrics'] = np.nan"
   ]
  },
  {
   "cell_type": "code",
   "execution_count": null,
   "metadata": {},
   "outputs": [],
   "source": [
    "# remove lines\n",
    "df.loc[2385, 'lyrics'] = remove_n_lines(1, df.loc[2385, 'lyrics'])"
   ]
  },
  {
   "cell_type": "markdown",
   "metadata": {},
   "source": [
    "### 1986"
   ]
  },
  {
   "cell_type": "code",
   "execution_count": null,
   "metadata": {},
   "outputs": [],
   "source": [
    "# rescrape\n",
    "df.loc[2501, 'lyrics'] = lyrics_grabber(access_token, 'your wildest dreams')"
   ]
  },
  {
   "cell_type": "markdown",
   "metadata": {},
   "source": [
    "### 1987"
   ]
  },
  {
   "cell_type": "code",
   "execution_count": null,
   "metadata": {},
   "outputs": [],
   "source": [
    "# rescrape\n",
    "df.loc[2557, 'lyrics'] = lyrics_grabber(access_token, 'the one i love rem')\n",
    "df.loc[2663, 'lyrics'] = lyrics_grabber(access_token, 'got the look prince')"
   ]
  },
  {
   "cell_type": "code",
   "execution_count": null,
   "metadata": {},
   "outputs": [],
   "source": [
    "# instrumentals\n",
    "df.loc[2646, 'lyrics'] = np.nan"
   ]
  },
  {
   "cell_type": "code",
   "execution_count": null,
   "metadata": {},
   "outputs": [],
   "source": [
    "# update artist\n",
    "df.loc[2557, 'artist'] = 'R.E.M.'"
   ]
  },
  {
   "cell_type": "markdown",
   "metadata": {},
   "source": [
    "### 1988"
   ]
  },
  {
   "cell_type": "code",
   "execution_count": null,
   "metadata": {},
   "outputs": [],
   "source": [
    "# rescrape\n",
    "df.loc[2678, 'lyrics'] = lyrics_grabber(access_token, \"she's like the wind patrick swayze\")"
   ]
  },
  {
   "cell_type": "markdown",
   "metadata": {},
   "source": [
    "### 1989"
   ]
  },
  {
   "cell_type": "code",
   "execution_count": null,
   "metadata": {},
   "outputs": [],
   "source": [
    "# rescrape\n",
    "df.loc[2862, 'lyrics'] = lyrics_grabber(access_token, 'friends jody watley')"
   ]
  },
  {
   "cell_type": "markdown",
   "metadata": {},
   "source": [
    "### 1990"
   ]
  },
  {
   "cell_type": "code",
   "execution_count": null,
   "metadata": {},
   "outputs": [],
   "source": [
    "# remove lines\n",
    "df.loc[2917, 'lyrics'] = remove_n_lines(3, df.loc[2917, 'lyrics'])"
   ]
  },
  {
   "cell_type": "markdown",
   "metadata": {},
   "source": [
    "### 1991 - 1995"
   ]
  },
  {
   "cell_type": "code",
   "execution_count": null,
   "metadata": {},
   "outputs": [],
   "source": [
    "# rescrape\n",
    "df.loc[3280, 'lyrics'] = lyrics_grabber(access_token, \"gangsta's paradise coolio\")"
   ]
  },
  {
   "cell_type": "markdown",
   "metadata": {},
   "source": [
    "### 1996"
   ]
  },
  {
   "cell_type": "code",
   "execution_count": null,
   "metadata": {},
   "outputs": [],
   "source": [
    "# rescrape\n",
    "df.loc[3371, 'lyrics'] = lyrics_grabber(access_token, 'nobody keith sweat')"
   ]
  },
  {
   "cell_type": "code",
   "execution_count": null,
   "metadata": {},
   "outputs": [],
   "source": [
    "# remove lines\n",
    "df.loc[3324, 'lyrics'] = remove_n_lines(9, df.loc[3324, 'lyrics'])"
   ]
  },
  {
   "cell_type": "code",
   "execution_count": null,
   "metadata": {},
   "outputs": [],
   "source": [
    "# instrumentals\n",
    "df.loc[3365, 'lyrics'] = np.nan"
   ]
  },
  {
   "cell_type": "code",
   "execution_count": null,
   "metadata": {},
   "outputs": [],
   "source": [
    "# remove duplicate\n",
    "df.drop(index=3331, inplace=True)"
   ]
  },
  {
   "cell_type": "markdown",
   "metadata": {},
   "source": [
    "### 1997"
   ]
  },
  {
   "cell_type": "code",
   "execution_count": null,
   "metadata": {},
   "outputs": [],
   "source": [
    "# rescrape\n",
    "df.loc[3374, 'lyrics'] = lyrics_grabber(access_token, 'mmmbop')\n",
    "df.loc[3384, 'lyrics'] = lyrics_grabber(access_token, 'feel so good ma$e')\n",
    "df.loc[3395, 'lyrics'] = lyrics_grabber(access_token, 'gotham city r. kelly')\n",
    "df.loc[3411, 'lyrics'] = lyrics_grabber(access_token, 'CAN’T NOBODY HOLD ME DOWN')"
   ]
  },
  {
   "cell_type": "markdown",
   "metadata": {},
   "source": [
    "### 1998-1999"
   ]
  },
  {
   "cell_type": "code",
   "execution_count": null,
   "metadata": {},
   "outputs": [],
   "source": [
    "# rescrape\n",
    "df.loc[3493, 'lyrics'] = lyrics_grabber(access_token, 'lost in you garth')\n",
    "df.loc[3512, 'lyrics'] = lyrics_grabber(access_token, 'smooth santana')"
   ]
  },
  {
   "cell_type": "markdown",
   "metadata": {},
   "source": [
    "### 2000"
   ]
  },
  {
   "cell_type": "code",
   "execution_count": null,
   "metadata": {},
   "outputs": [],
   "source": [
    "# rescrape\n",
    "df.loc[3541, 'lyrics'] = lyrics_grabber(access_token, \"destiny's child independent\")\n",
    "df.loc[3578, 'lyrics'] = lyrics_grabber(access_token, 'maria santana')"
   ]
  },
  {
   "cell_type": "code",
   "execution_count": null,
   "metadata": {},
   "outputs": [],
   "source": [
    "# remove lines\n",
    "df.loc[3543, 'lyrics'] = remove_n_lines(3, df.loc[3543, 'lyrics'])"
   ]
  },
  {
   "cell_type": "code",
   "execution_count": null,
   "metadata": {},
   "outputs": [],
   "source": [
    "# remove duplicate\n",
    "df.drop(index=3579, inplace=True)"
   ]
  },
  {
   "cell_type": "markdown",
   "metadata": {},
   "source": [
    "### 2001"
   ]
  },
  {
   "cell_type": "code",
   "execution_count": null,
   "metadata": {},
   "outputs": [],
   "source": [
    "# rescrape\n",
    "df.loc[3597, 'lyrics'] = lyrics_grabber(access_token, \"lady marmalade Lil’ Kim, Mýa, Christina Aguilera & P!nk\")\n",
    "df.loc[3616, 'lyrics'] = lyrics_grabber(access_token, 'always on time ja rule')\n",
    "df.loc[3626, 'lyrics'] = lyrics_grabber(access_token, \"i'm real jennifer lopez\")"
   ]
  },
  {
   "cell_type": "code",
   "execution_count": null,
   "metadata": {},
   "outputs": [],
   "source": [
    "# update artist\n",
    "df.loc[3597, 'artist'] = 'Lil’ Kim, Mýa, Christina Aguilera & P!nk'"
   ]
  },
  {
   "cell_type": "markdown",
   "metadata": {},
   "source": [
    "### 2002"
   ]
  },
  {
   "cell_type": "code",
   "execution_count": null,
   "metadata": {},
   "outputs": [],
   "source": [
    "# rescrape\n",
    "df.loc[3659, 'lyrics'] = lyrics_grabber(access_token, 'down 4 u irv gotti')"
   ]
  },
  {
   "cell_type": "code",
   "execution_count": null,
   "metadata": {
    "scrolled": true
   },
   "outputs": [],
   "source": [
    "df[df.year == 2002]"
   ]
  },
  {
   "cell_type": "code",
   "execution_count": null,
   "metadata": {},
   "outputs": [],
   "source": [
    "print(df.loc[3659, 'lyrics'])"
   ]
  },
  {
   "cell_type": "markdown",
   "metadata": {},
   "source": [
    "### 1998"
   ]
  },
  {
   "cell_type": "code",
   "execution_count": null,
   "metadata": {},
   "outputs": [],
   "source": []
  },
  {
   "cell_type": "code",
   "execution_count": null,
   "metadata": {},
   "outputs": [],
   "source": [
    "df.loc[1324, 'lyrics'] = lyrics_grabber(access_token, 'The Morning After (Theme From The Poseidon Adventure)')"
   ]
  },
  {
   "cell_type": "code",
   "execution_count": null,
   "metadata": {},
   "outputs": [],
   "source": [
    "remove_n_lines(2, df.loc[1386, 'lyrics'])"
   ]
  },
  {
   "cell_type": "code",
   "execution_count": null,
   "metadata": {},
   "outputs": [],
   "source": [
    "df[df.artist == 'The Larks']"
   ]
  },
  {
   "cell_type": "code",
   "execution_count": null,
   "metadata": {},
   "outputs": [],
   "source": []
  },
  {
   "cell_type": "code",
   "execution_count": null,
   "metadata": {},
   "outputs": [],
   "source": [
    "rescrape('http://www.songlyrics.com/the-larks/jerk-lyrics/',\n",
    "                                 soup.find('p', attrs={'class': 'songLyricsV14 iComment-text'}).contents)"
   ]
  },
  {
   "cell_type": "code",
   "execution_count": null,
   "metadata": {},
   "outputs": [],
   "source": [
    "soup = soupify('http://www.songlyrics.com/the-larks/jerk-lyrics/')"
   ]
  },
  {
   "cell_type": "code",
   "execution_count": null,
   "metadata": {},
   "outputs": [],
   "source": [
    "soup.find('p', attrs={'class': 'songLyricsV14 iComment-text'}).contents"
   ]
  },
  {
   "cell_type": "code",
   "execution_count": null,
   "metadata": {},
   "outputs": [],
   "source": [
    "'\\n'.join(\n",
    "    [line.strip() for line in soup.find('div', attrs={'class': 'inner'}).contents\n",
    "     if isinstance(line, str) if line.strip()]\n",
    ")"
   ]
  },
  {
   "cell_type": "code",
   "execution_count": null,
   "metadata": {},
   "outputs": [],
   "source": [
    "soup.find('div', attrs={'class': 'inner'}).contents"
   ]
  },
  {
   "cell_type": "code",
   "execution_count": null,
   "metadata": {},
   "outputs": [],
   "source": [
    "please break this code"
   ]
  },
  {
   "cell_type": "code",
   "execution_count": null,
   "metadata": {},
   "outputs": [],
   "source": [
    "print(df.loc[81, 'lyrics'])"
   ]
  },
  {
   "cell_type": "code",
   "execution_count": null,
   "metadata": {},
   "outputs": [],
   "source": [
    "regex = re.compile(\".*?\\[(.*?)\\]\")\n",
    "result = re.findall(regex, df.loc[1, 'lyrics'])\n",
    "result"
   ]
  },
  {
   "cell_type": "code",
   "execution_count": null,
   "metadata": {},
   "outputs": [],
   "source": []
  },
  {
   "cell_type": "code",
   "execution_count": null,
   "metadata": {},
   "outputs": [],
   "source": [
    "df['lyrics'] = df.lyrics.map(remove_brackets)\n",
    "df.lyrics.head(100)"
   ]
  },
  {
   "cell_type": "code",
   "execution_count": null,
   "metadata": {},
   "outputs": [],
   "source": []
  },
  {
   "cell_type": "code",
   "execution_count": null,
   "metadata": {},
   "outputs": [],
   "source": [
    "# graph number of unique songs per year\n",
    "plt.figure(figsize=(10,6))\n",
    "plt.plot([len(year) for year in all_top10s])\n",
    "plt.xticks(ticks=range(0,60,5), labels=range(1960,2021,5))\n",
    "plt.show()"
   ]
  },
  {
   "cell_type": "code",
   "execution_count": null,
   "metadata": {},
   "outputs": [],
   "source": [
    "# graph number of unique songs per year\n",
    "plt.figure(figsize=(10,6))\n",
    "sns.barplot(x=[year for year in range(1960,2020)], y=[len(year) for year in all_top10s])\n",
    "plt.xticks(ticks=range(0,60,5), labels=range(1960,2021,5))\n",
    "plt.show()"
   ]
  }
 ],
 "metadata": {
  "kernelspec": {
   "display_name": "Python [conda env:learn-env] *",
   "language": "python",
   "name": "conda-env-learn-env-py"
  },
  "language_info": {
   "codemirror_mode": {
    "name": "ipython",
    "version": 3
   },
   "file_extension": ".py",
   "mimetype": "text/x-python",
   "name": "python",
   "nbconvert_exporter": "python",
   "pygments_lexer": "ipython3",
   "version": "3.6.9"
  }
 },
 "nbformat": 4,
 "nbformat_minor": 2
}
